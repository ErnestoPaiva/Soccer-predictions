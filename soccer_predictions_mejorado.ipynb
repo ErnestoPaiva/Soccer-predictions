{
  "nbformat": 4,
  "nbformat_minor": 0,
  "metadata": {
    "colab": {
      "name": "soccer predictions mejorado.ipynb",
      "provenance": [],
      "collapsed_sections": [],
      "toc_visible": true
    },
    "kernelspec": {
      "name": "python3",
      "display_name": "Python 3"
    },
    "language_info": {
      "name": "python"
    }
  },
  "cells": [
    {
      "cell_type": "code",
      "metadata": {
        "id": "oKMG09HUbR-6"
      },
      "source": [
        "import requests\n",
        "import pandas as pd\n",
        "import glob\n",
        "import numpy as np\n",
        "from sklearn.preprocessing import MinMaxScaler\n",
        "import pickle"
      ],
      "execution_count": null,
      "outputs": []
    },
    {
      "cell_type": "code",
      "metadata": {
        "id": "vTgMfKhtwWTv"
      },
      "source": [
        "from tensorflow.keras.models import Model, load_model"
      ],
      "execution_count": null,
      "outputs": []
    },
    {
      "cell_type": "markdown",
      "metadata": {
        "id": "-zI47OPUkMYP"
      },
      "source": [
        "# Funciones"
      ]
    },
    {
      "cell_type": "code",
      "metadata": {
        "id": "FtGX9VZHX7xt"
      },
      "source": [
        "def a_puntos_L(result):\n",
        "  sum = 0\n",
        "  for i in range(len(result)):\n",
        "    if result[i]=='H':\n",
        "      sum = sum + 3\n",
        "    elif result[i]=='D':\n",
        "      sum = sum + 1\n",
        "  return sum\n",
        "\n",
        "def a_puntos_V(result):\n",
        "  sum = 0\n",
        "  for i in range(len(result)):\n",
        "    if result[i]=='A':\n",
        "      sum = sum + 3\n",
        "    elif result[i]=='D':\n",
        "      sum = sum + 1\n",
        "  return sum"
      ],
      "execution_count": null,
      "outputs": []
    },
    {
      "cell_type": "markdown",
      "metadata": {
        "id": "UGlMj7LQf9ax"
      },
      "source": [
        "# Download Results "
      ]
    },
    {
      "cell_type": "code",
      "metadata": {
        "colab": {
          "base_uri": "https://localhost:8080/"
        },
        "id": "UxT9uS7Af6cx",
        "outputId": "29d28164-0aab-463c-fff4-799bd4a299cf"
      },
      "source": [
        "url = 'https://www.football-data.co.uk/mmz4281/2021/E0.csv'\n",
        "r = requests.get(url, allow_redirects=True)\n",
        "open('E0.csv', 'wb').write(r.content)\n"
      ],
      "execution_count": null,
      "outputs": [
        {
          "output_type": "execute_result",
          "data": {
            "text/plain": [
              "146456"
            ]
          },
          "metadata": {
            "tags": []
          },
          "execution_count": 4
        }
      ]
    },
    {
      "cell_type": "code",
      "metadata": {
        "colab": {
          "base_uri": "https://localhost:8080/"
        },
        "id": "OB0Hue9IgN_b",
        "outputId": "337b77d7-d695-4723-fdeb-2101ba438a26"
      },
      "source": [
        "url = 'https://www.football-data.co.uk/mmz4281/2021/E1.csv'\n",
        "r = requests.get(url, allow_redirects=True)\n",
        "open('E1.csv', 'wb').write(r.content)\n"
      ],
      "execution_count": null,
      "outputs": [
        {
          "output_type": "execute_result",
          "data": {
            "text/plain": [
              "232875"
            ]
          },
          "metadata": {
            "tags": []
          },
          "execution_count": 5
        }
      ]
    },
    {
      "cell_type": "code",
      "metadata": {
        "colab": {
          "base_uri": "https://localhost:8080/"
        },
        "id": "61Q5NxJVgN8k",
        "outputId": "104ddf2e-3b2b-42b4-d130-102b782225be"
      },
      "source": [
        "url = 'https://www.football-data.co.uk/mmz4281/2021/E2.csv'\n",
        "r = requests.get(url, allow_redirects=True)\n",
        "open('E2.csv', 'wb').write(r.content)\n"
      ],
      "execution_count": null,
      "outputs": [
        {
          "output_type": "execute_result",
          "data": {
            "text/plain": [
              "229052"
            ]
          },
          "metadata": {
            "tags": []
          },
          "execution_count": 6
        }
      ]
    },
    {
      "cell_type": "code",
      "metadata": {
        "colab": {
          "base_uri": "https://localhost:8080/"
        },
        "id": "gghMdd6tgN54",
        "outputId": "0399e624-39a4-42c5-cd89-252e6355be68"
      },
      "source": [
        "url = 'https://www.football-data.co.uk/mmz4281/2021/E3.csv'\n",
        "r = requests.get(url, allow_redirects=True)\n",
        "open('E3.csv', 'wb').write(r.content)\n"
      ],
      "execution_count": null,
      "outputs": [
        {
          "output_type": "execute_result",
          "data": {
            "text/plain": [
              "231485"
            ]
          },
          "metadata": {
            "tags": []
          },
          "execution_count": 7
        }
      ]
    },
    {
      "cell_type": "code",
      "metadata": {
        "colab": {
          "base_uri": "https://localhost:8080/"
        },
        "id": "OBVWr3YNgN3Q",
        "outputId": "04907e7b-a753-4a54-851f-ea43ebf9bbdd"
      },
      "source": [
        "url = 'https://www.football-data.co.uk/mmz4281/2021/B1.csv'\n",
        "r = requests.get(url, allow_redirects=True)\n",
        "open('B1.csv', 'wb').write(r.content)\n"
      ],
      "execution_count": null,
      "outputs": [
        {
          "output_type": "execute_result",
          "data": {
            "text/plain": [
              "138618"
            ]
          },
          "metadata": {
            "tags": []
          },
          "execution_count": 8
        }
      ]
    },
    {
      "cell_type": "code",
      "metadata": {
        "colab": {
          "base_uri": "https://localhost:8080/"
        },
        "id": "Ab0nkrpEgN02",
        "outputId": "132d3740-4089-4526-fc4b-927cf88fe030"
      },
      "source": [
        "url = 'https://www.football-data.co.uk/mmz4281/2021/D1.csv'\n",
        "r = requests.get(url, allow_redirects=True)\n",
        "open('D1.csv', 'wb').write(r.content)\n"
      ],
      "execution_count": null,
      "outputs": [
        {
          "output_type": "execute_result",
          "data": {
            "text/plain": [
              "118347"
            ]
          },
          "metadata": {
            "tags": []
          },
          "execution_count": 9
        }
      ]
    },
    {
      "cell_type": "code",
      "metadata": {
        "colab": {
          "base_uri": "https://localhost:8080/"
        },
        "id": "HKHM5f6mgNx7",
        "outputId": "3ad558d9-3f86-4d2f-edd8-d040bd41d7fb"
      },
      "source": [
        "url = 'https://www.football-data.co.uk/mmz4281/2021/D2.csv'\n",
        "r = requests.get(url, allow_redirects=True)\n",
        "open('D2.csv', 'wb').write(r.content)\n"
      ],
      "execution_count": null,
      "outputs": [
        {
          "output_type": "execute_result",
          "data": {
            "text/plain": [
              "116517"
            ]
          },
          "metadata": {
            "tags": []
          },
          "execution_count": 10
        }
      ]
    },
    {
      "cell_type": "code",
      "metadata": {
        "colab": {
          "base_uri": "https://localhost:8080/"
        },
        "id": "_PlFzNbpgNvR",
        "outputId": "2d2cfee2-27a7-44d7-a9b3-904dcbd2e2aa"
      },
      "source": [
        "url = 'https://www.football-data.co.uk/mmz4281/2021/F1.csv'\n",
        "r = requests.get(url, allow_redirects=True)\n",
        "open('F1.csv', 'wb').write(r.content)\n"
      ],
      "execution_count": null,
      "outputs": [
        {
          "output_type": "execute_result",
          "data": {
            "text/plain": [
              "148243"
            ]
          },
          "metadata": {
            "tags": []
          },
          "execution_count": 11
        }
      ]
    },
    {
      "cell_type": "code",
      "metadata": {
        "colab": {
          "base_uri": "https://localhost:8080/"
        },
        "id": "qvx0grLvgNsY",
        "outputId": "866134d0-42ed-4353-b110-57a1e3b0bb46"
      },
      "source": [
        "url = 'https://www.football-data.co.uk/mmz4281/2021/F2.csv'\n",
        "r = requests.get(url, allow_redirects=True)\n",
        "open('F2.csv', 'wb').write(r.content)\n"
      ],
      "execution_count": null,
      "outputs": [
        {
          "output_type": "execute_result",
          "data": {
            "text/plain": [
              "147206"
            ]
          },
          "metadata": {
            "tags": []
          },
          "execution_count": 12
        }
      ]
    },
    {
      "cell_type": "code",
      "metadata": {
        "colab": {
          "base_uri": "https://localhost:8080/"
        },
        "id": "sgzyJGuJgNjR",
        "outputId": "d2e0d64b-ba77-4506-a08e-b52799583cde"
      },
      "source": [
        "url = 'https://www.football-data.co.uk/mmz4281/2021/G1.csv'\n",
        "r = requests.get(url, allow_redirects=True)\n",
        "open('G1.csv', 'wb').write(r.content)\n"
      ],
      "execution_count": null,
      "outputs": [
        {
          "output_type": "execute_result",
          "data": {
            "text/plain": [
              "94292"
            ]
          },
          "metadata": {
            "tags": []
          },
          "execution_count": 13
        }
      ]
    },
    {
      "cell_type": "code",
      "metadata": {
        "colab": {
          "base_uri": "https://localhost:8080/"
        },
        "id": "16DrDghFgvmp",
        "outputId": "9315ec67-7e7e-4230-d120-90b9439e2dbd"
      },
      "source": [
        "url = 'https://www.football-data.co.uk/mmz4281/2021/I1.csv'\n",
        "r = requests.get(url, allow_redirects=True)\n",
        "open('I1.csv', 'wb').write(r.content)\n"
      ],
      "execution_count": null,
      "outputs": [
        {
          "output_type": "execute_result",
          "data": {
            "text/plain": [
              "138847"
            ]
          },
          "metadata": {
            "tags": []
          },
          "execution_count": 14
        }
      ]
    },
    {
      "cell_type": "code",
      "metadata": {
        "colab": {
          "base_uri": "https://localhost:8080/"
        },
        "id": "veXV0h1Ogvj4",
        "outputId": "211cba85-1bd1-4169-9e60-51f869595ac0"
      },
      "source": [
        "url = 'https://www.football-data.co.uk/mmz4281/2021/I2.csv'\n",
        "r = requests.get(url, allow_redirects=True)\n",
        "open('I2.csv', 'wb').write(r.content)\n"
      ],
      "execution_count": null,
      "outputs": [
        {
          "output_type": "execute_result",
          "data": {
            "text/plain": [
              "151235"
            ]
          },
          "metadata": {
            "tags": []
          },
          "execution_count": 15
        }
      ]
    },
    {
      "cell_type": "code",
      "metadata": {
        "colab": {
          "base_uri": "https://localhost:8080/"
        },
        "id": "GDd97-Xfg5N0",
        "outputId": "77aab9e5-999b-4bba-86b5-c11fda920106"
      },
      "source": [
        "url = 'https://www.football-data.co.uk/mmz4281/2021/N1.csv'\n",
        "r = requests.get(url, allow_redirects=True)\n",
        "open('N1.csv', 'wb').write(r.content)\n"
      ],
      "execution_count": null,
      "outputs": [
        {
          "output_type": "execute_result",
          "data": {
            "text/plain": [
              "117855"
            ]
          },
          "metadata": {
            "tags": []
          },
          "execution_count": 16
        }
      ]
    },
    {
      "cell_type": "code",
      "metadata": {
        "colab": {
          "base_uri": "https://localhost:8080/"
        },
        "id": "0feGv_8Hg5Lt",
        "outputId": "b60f72c1-1e36-4286-bb4a-26752a0eb781"
      },
      "source": [
        "url = 'https://www.football-data.co.uk/mmz4281/2021/P1.csv'\n",
        "r = requests.get(url, allow_redirects=True)\n",
        "open('P1.csv', 'wb').write(r.content)\n"
      ],
      "execution_count": null,
      "outputs": [
        {
          "output_type": "execute_result",
          "data": {
            "text/plain": [
              "110463"
            ]
          },
          "metadata": {
            "tags": []
          },
          "execution_count": 17
        }
      ]
    },
    {
      "cell_type": "code",
      "metadata": {
        "colab": {
          "base_uri": "https://localhost:8080/"
        },
        "id": "eIPX7i62g5I4",
        "outputId": "4ccf6bf0-d64f-46b7-fa4c-3082ea2f01cd"
      },
      "source": [
        "url = 'https://www.football-data.co.uk/mmz4281/2021/SC0.csv'\n",
        "r = requests.get(url, allow_redirects=True)\n",
        "open('SC0.csv', 'wb').write(r.content)\n"
      ],
      "execution_count": null,
      "outputs": [
        {
          "output_type": "execute_result",
          "data": {
            "text/plain": [
              "94253"
            ]
          },
          "metadata": {
            "tags": []
          },
          "execution_count": 18
        }
      ]
    },
    {
      "cell_type": "code",
      "metadata": {
        "colab": {
          "base_uri": "https://localhost:8080/"
        },
        "id": "gBYmz0WFg5Ga",
        "outputId": "d1b6a9c8-acef-4e72-9217-fc13617eec7a"
      },
      "source": [
        "url = 'https://www.football-data.co.uk/mmz4281/2021/SP1.csv'\n",
        "r = requests.get(url, allow_redirects=True)\n",
        "open('SP1.csv', 'wb').write(r.content)\n"
      ],
      "execution_count": null,
      "outputs": [
        {
          "output_type": "execute_result",
          "data": {
            "text/plain": [
              "139206"
            ]
          },
          "metadata": {
            "tags": []
          },
          "execution_count": 19
        }
      ]
    },
    {
      "cell_type": "code",
      "metadata": {
        "colab": {
          "base_uri": "https://localhost:8080/"
        },
        "id": "S-EA6ThOhLeq",
        "outputId": "2238ee87-4fb5-4b94-85e5-f2f848a9d268"
      },
      "source": [
        "url = 'https://www.football-data.co.uk/mmz4281/2021/SP2.csv'\n",
        "r = requests.get(url, allow_redirects=True)\n",
        "open('SP2.csv', 'wb').write(r.content)\n"
      ],
      "execution_count": null,
      "outputs": [
        {
          "output_type": "execute_result",
          "data": {
            "text/plain": [
              "171700"
            ]
          },
          "metadata": {
            "tags": []
          },
          "execution_count": 20
        }
      ]
    },
    {
      "cell_type": "code",
      "metadata": {
        "colab": {
          "base_uri": "https://localhost:8080/"
        },
        "id": "Avqm6tB2hLb4",
        "outputId": "02aef332-bbe1-4841-eb02-32db1ea491ff"
      },
      "source": [
        "url = 'https://www.football-data.co.uk/mmz4281/2021/T1.csv'\n",
        "r = requests.get(url, allow_redirects=True)\n",
        "open('T1.csv', 'wb').write(r.content)\n"
      ],
      "execution_count": null,
      "outputs": [
        {
          "output_type": "execute_result",
          "data": {
            "text/plain": [
              "160107"
            ]
          },
          "metadata": {
            "tags": []
          },
          "execution_count": 21
        }
      ]
    },
    {
      "cell_type": "code",
      "metadata": {
        "id": "ucYF7goFhLZQ"
      },
      "source": [
        "\n",
        "# Obtener la dirección de todos los archivos .CSV del path\n",
        "path = r'/content' # use your path\n",
        "#path = r'gdrive/My Drive/Data' # use your path\n",
        "all_files = glob.glob(path + \"/*.csv\")\n",
        "\n",
        "# Leer los archivos .CSV encontrados en all_files\n",
        "li = []\n",
        "try:\n",
        "  all_files.remove('/content/fixtures.csv')\n",
        "except:\n",
        "  pass\n",
        "\n",
        "for filename in all_files:\n",
        "  if filename != '/content/fixtures.csv':\n",
        "    df = pd.read_csv(filename,encoding = \"ISO-8859-1\",usecols = ['Div', 'Date', 'HomeTeam', 'AwayTeam','FTHG','FTAG','FTR','WHH','WHD','WHA'])\n",
        "    li.append(df)\n"
      ],
      "execution_count": null,
      "outputs": []
    },
    {
      "cell_type": "code",
      "metadata": {
        "colab": {
          "base_uri": "https://localhost:8080/"
        },
        "id": "zJfUNz0UiEBp",
        "outputId": "f21213b3-4738-41c4-eaf3-acd0d5f5326c"
      },
      "source": [
        "all_files"
      ],
      "execution_count": null,
      "outputs": [
        {
          "output_type": "execute_result",
          "data": {
            "text/plain": [
              "['/content/E3.csv',\n",
              " '/content/SP1.csv',\n",
              " '/content/D2.csv',\n",
              " '/content/E2.csv',\n",
              " '/content/E1.csv',\n",
              " '/content/SC0.csv',\n",
              " '/content/T1.csv',\n",
              " '/content/I1.csv',\n",
              " '/content/E0.csv',\n",
              " '/content/I2.csv',\n",
              " '/content/D1.csv',\n",
              " '/content/F1.csv',\n",
              " '/content/P1.csv',\n",
              " '/content/G1.csv',\n",
              " '/content/SP2.csv',\n",
              " '/content/F2.csv',\n",
              " '/content/N1.csv',\n",
              " '/content/B1.csv']"
            ]
          },
          "metadata": {
            "tags": []
          },
          "execution_count": 23
        }
      ]
    },
    {
      "cell_type": "markdown",
      "metadata": {
        "id": "stK7fMjKh4gR"
      },
      "source": [
        "# Download Fixtures"
      ]
    },
    {
      "cell_type": "code",
      "metadata": {
        "colab": {
          "base_uri": "https://localhost:8080/"
        },
        "id": "eyveQaIWgvhY",
        "outputId": "f4e9d2d1-279e-4128-d13b-46a9d4d0ee5f"
      },
      "source": [
        "url = 'https://www.football-data.co.uk/fixtures.csv'\n",
        "r = requests.get(url, allow_redirects=True)\n",
        "open('fixtures.csv', 'wb').write(r.content)\n"
      ],
      "execution_count": null,
      "outputs": [
        {
          "output_type": "execute_result",
          "data": {
            "text/plain": [
              "36317"
            ]
          },
          "metadata": {
            "tags": []
          },
          "execution_count": 24
        }
      ]
    },
    {
      "cell_type": "code",
      "metadata": {
        "id": "B3VEV3jQbVAT"
      },
      "source": [
        "fixtures = pd.read_csv('fixtures.csv',encoding = \"ISO-8859-1\",usecols = ['Div', 'Date', 'Time','HomeTeam', 'AwayTeam','WHH','WHD','WHA'])\n"
      ],
      "execution_count": null,
      "outputs": []
    },
    {
      "cell_type": "code",
      "metadata": {
        "colab": {
          "base_uri": "https://localhost:8080/"
        },
        "id": "jOuXewNAmCjX",
        "outputId": "d3cffa20-20e3-43ad-c627-8d773c2d3413"
      },
      "source": [
        "all_files"
      ],
      "execution_count": null,
      "outputs": [
        {
          "output_type": "execute_result",
          "data": {
            "text/plain": [
              "['/content/E3.csv',\n",
              " '/content/SP1.csv',\n",
              " '/content/D2.csv',\n",
              " '/content/E2.csv',\n",
              " '/content/E1.csv',\n",
              " '/content/SC0.csv',\n",
              " '/content/T1.csv',\n",
              " '/content/I1.csv',\n",
              " '/content/E0.csv',\n",
              " '/content/I2.csv',\n",
              " '/content/D1.csv',\n",
              " '/content/F1.csv',\n",
              " '/content/P1.csv',\n",
              " '/content/G1.csv',\n",
              " '/content/SP2.csv',\n",
              " '/content/F2.csv',\n",
              " '/content/N1.csv',\n",
              " '/content/B1.csv']"
            ]
          },
          "metadata": {
            "tags": []
          },
          "execution_count": 26
        }
      ]
    },
    {
      "cell_type": "markdown",
      "metadata": {
        "id": "VUt7JNdVlM4O"
      },
      "source": [
        "# Extraer Fixtures"
      ]
    },
    {
      "cell_type": "code",
      "metadata": {
        "colab": {
          "base_uri": "https://localhost:8080/"
        },
        "id": "HP1YxSshaVUn",
        "outputId": "adc24d1b-297f-46e7-fb5e-83e98a9c16ba"
      },
      "source": [
        "partidos = 10\n",
        "\n",
        "data_x = []\n",
        "data_y = []\n",
        "lista_Div = []\n",
        "lista_Date = []\n",
        "lista_Time = []\n",
        "lista_HomeTeam = []\n",
        "lista_AwayTeam = []\n",
        "lista_FTHG = []\n",
        "lista_FTAG = []\n",
        "lista_FTR = []\n",
        "lista_WHH = []\n",
        "lista_WHD = []\n",
        "lista_WHA = []\n",
        "lista_Datos = []\n",
        "lista_Weights = []\n",
        "\n",
        "n = 1\n",
        "# li: ligas\n",
        "# fixture : Una liga \n",
        "#for fixture in li:\n",
        "\n",
        "Goles_L = {}\n",
        "Goles_V = {}\n",
        "Result_L = {}\n",
        "Result_V = {}\n",
        "\n",
        "# fixtures: fixtures actuales de todas las ligas\n",
        "# index_prox_partido: indice de un partido específico del fixture\n",
        "for index_prox_partido in range(len(fixtures)):\n",
        "  Div = fixtures['Div'].iloc[index_prox_partido]\n",
        "  \n",
        "  if (Div != 'EC') & (Div != 'SC1') & (Div != 'SC2') & (Div != 'SC3'):\n",
        "    print(Div)\n",
        "    # index_Div: indice de una liga nombrada en all_files\n",
        "    index_Div = np.where(np.asarray(all_files) == '/content/' + Div + '.csv')\n",
        "    #liga donde debo buscar el partido actual\n",
        "    liga = li[index_Div[0][0]]\n",
        "\n",
        "    EquipoV = fixtures['AwayTeam'].iloc[index_prox_partido]\n",
        "    EquipoL = fixtures['HomeTeam'].iloc[index_prox_partido]\n",
        "\n",
        "    for i in range(len(liga)):\n",
        "      if (EquipoL == liga['AwayTeam'].iloc[i]):\n",
        "        Goles_V[EquipoL] = Goles_V.get(EquipoL, []) + [liga.iloc[i]['FTAG']]\n",
        "        Result_V[EquipoL] = Result_V.get(EquipoL, []) + [liga.iloc[i]['FTR']]\n",
        "        \n",
        "      if (EquipoL == liga['HomeTeam'].iloc[i]):\n",
        "        Goles_L[EquipoL] = Goles_L.get(EquipoL, []) + [liga.iloc[i]['FTHG']]\n",
        "        Result_L[EquipoL] = Result_L.get(EquipoL, []) + [liga.iloc[i]['FTR']]\n",
        "        \n",
        "      if (EquipoV == liga['AwayTeam'].iloc[i]):\n",
        "        Goles_V[EquipoV] = Goles_V.get(EquipoV, []) + [liga.iloc[i]['FTAG']]\n",
        "        Result_V[EquipoV] = Result_V.get(EquipoV, []) + [liga.iloc[i]['FTR']]\n",
        "         \n",
        "      \n",
        "      if (EquipoV == liga['HomeTeam'].iloc[i]):\n",
        "        Goles_L[EquipoV] = Goles_L.get(EquipoV, []) + [liga.iloc[i]['FTHG']]\n",
        "        Result_L[EquipoV] = Result_L.get(EquipoV, []) + [liga.iloc[i]['FTR']]\n",
        "        \n",
        "\n",
        "        #if liga.iloc[i]['HomeTeam']  == liga.iloc[i]['HomeTeam']:\n",
        "        \n",
        "    #if (len(Goles_L.get(EquipoL, [])) >=5) & (len(Goles_V.get(EquipoV, [])) >=5)&(len(Goles_L.get(EquipoV, [])) >=5) & (len(Goles_V.get(EquipoL, [])) >=5) & (fixture.iloc[i]['WHH']  == fixture.iloc[i]['WHH'] ):\n",
        "    if (len(Goles_L.get(EquipoL, [])) >=partidos) & (len(Goles_V.get(EquipoV, [])) >=partidos)&(len(Goles_L.get(EquipoV, [])) >=partidos) & (len(Goles_V.get(EquipoL, [])) >=partidos) & (fixtures.iloc[index_prox_partido]['HomeTeam']  == fixtures.iloc[index_prox_partido]['HomeTeam'] ) & (fixtures.iloc[index_prox_partido]['WHH']>=1) & (fixtures.iloc[index_prox_partido]['WHA']>=1): \n",
        "      \n",
        "      lista_Div.append( fixtures.iloc[index_prox_partido]['Div'] )\n",
        "      lista_Date.append( fixtures.iloc[index_prox_partido]['Date'] )\n",
        "      lista_Time.append( fixtures.iloc[index_prox_partido]['Time'] )\n",
        "      lista_HomeTeam.append( fixtures.iloc[index_prox_partido]['HomeTeam'] )\n",
        "      lista_AwayTeam.append( fixtures.iloc[index_prox_partido]['AwayTeam'] )\n",
        "      #lista_FTHG.append( fixtures.iloc[index_prox_partido]['FTHG'] )\n",
        "      #lista_FTAG.append( fixtures.iloc[index_prox_partido]['FTAG'] )\n",
        "      #lista_FTR.append( fixtures.iloc[index_prox_partido]['FTR'] )\n",
        "      lista_WHH.append( fixtures.iloc[index_prox_partido]['WHH'] )\n",
        "      lista_WHD.append( fixtures.iloc[index_prox_partido]['WHD'] )\n",
        "      lista_WHA.append( fixtures.iloc[index_prox_partido]['WHA'] )\n",
        "      lista_Datos.append( fixtures.iloc[index_prox_partido] )\n",
        "      # if liga.iloc[index_prox_partido]['FTR'] == 'H':\n",
        "      #   lista_Weights.append(liga.iloc[index_prox_partido]['WHH'] )\n",
        "      # elif liga.iloc[index_prox_partido]['FTR'] == 'D':\n",
        "      #   lista_Weights.append(liga.iloc[i]['WHD'] )\n",
        "      # elif liga.iloc[i]['FTR'] == 'A':\n",
        "      #   lista_Weights.append(liga.iloc[i]['WHA'] )\n",
        "\n",
        "\n",
        "      # rf = liga.iloc[i]['FTR']\n",
        "      # if rf == 'H':\n",
        "      #   data_y.append(0)\n",
        "      # elif rf == 'D':\n",
        "      #   data_y.append(1)\n",
        "      # elif rf == 'A':\n",
        "      #   data_y.append(2)\n",
        "      # else:\n",
        "      #   print('ERROR')\n",
        "        \n",
        "      pll1 = a_puntos_L( Result_L[EquipoL][-1:] )/1/3 # puntos de local del equipo L\n",
        "      pvv1 = a_puntos_V( Result_V[EquipoV][-1:] )/1/3  # puntos de visita del equipo v\n",
        "      pvl1 = a_puntos_V( Result_V[EquipoL][-1:] )/1/3 # puntos de visita del equipo L\n",
        "      plv1 = a_puntos_L( Result_L[EquipoV][-1:] )/1/3 # puntos de local del equipo V\n",
        "      \n",
        "      pll3 = a_puntos_L( Result_L[EquipoL][-3:] )/3/3 # puntos de local del equipo L\n",
        "      pvv3 = a_puntos_V( Result_V[EquipoV][-3:] )/3/3  # puntos de visita del equipo v\n",
        "      pvl3 = a_puntos_V( Result_V[EquipoL][-3:] )/3/3 # puntos de visita del equipo L\n",
        "      plv3 = a_puntos_L( Result_L[EquipoV][-3:] )/3/3 # puntos de local del equipo V\n",
        "      \n",
        "      pll = a_puntos_L( Result_L[EquipoL][-partidos:] )/partidos/3 # puntos de local del equipo L\n",
        "      pvv = a_puntos_V( Result_V[EquipoV][-partidos:] )/partidos/3  # puntos de visita del equipo v\n",
        "      pvl = a_puntos_V( Result_V[EquipoL][-partidos:] )/partidos/3 # puntos de visita del equipo L\n",
        "      plv = a_puntos_L( Result_L[EquipoV][-partidos:] )/partidos/3 # puntos de local del equipo V\n",
        "      plg = (pvl + pll)/2  # puntos todos los partidos del equipoL\n",
        "      pvg = (plv + pvv)/2 # puntos todos los partidos del equipoV\n",
        "\n",
        "      gll1 = np.mean( Goles_L[EquipoL][-1:] ) # ultimos goles de local el equipoL\n",
        "      gvv1 = np.mean( Goles_V[EquipoV][-1:] ) # ultimos goles de visita el equipoV\n",
        "      glv1 = np.mean( Goles_L[EquipoV][-1:] ) # ultimos goles de local el equipoV\n",
        "      gvl1 = np.mean( Goles_V[EquipoL][-1:] ) # ultimos goles de visita el equipoL\n",
        "      \n",
        "      gll3 = np.mean( Goles_L[EquipoL][-3:] ) # ultimos goles de local el equipoL\n",
        "      gvv3 = np.mean( Goles_V[EquipoV][-3:] ) # ultimos goles de visita el equipoV\n",
        "      glv3 = np.mean( Goles_L[EquipoV][-3:] ) # ultimos goles de local el equipoV\n",
        "      gvl3 = np.mean( Goles_V[EquipoL][-3:] ) # ultimos goles de visita el equipoL\n",
        "      \n",
        "      gll = np.mean( Goles_L[EquipoL][-partidos:] ) # ultimos goles de local el equipoL\n",
        "      gvv = np.mean( Goles_V[EquipoV][-partidos:] ) # ultimos goles de visita el equipoV\n",
        "      glv = np.mean( Goles_L[EquipoV][-partidos:] ) # ultimos goles de local el equipoV\n",
        "      gvl = np.mean( Goles_V[EquipoL][-partidos:] ) # ultimos goles de visita el equipoL\n",
        "      ggl = (gll + gvl)/2 # ultimos goles en general el equipoL\n",
        "      ggv = (glv + gvv)/2 # ultimos goles en general el equipoV\n",
        "      \n",
        "      nvll = np.sum([1 for a in Result_L[EquipoL][-partidos:] if a == 'H' ])\n",
        "      nell = np.sum([1 for a in Result_L[EquipoL][-partidos:] if a == 'D' ])\n",
        "      ndll = np.sum([1 for a in Result_L[EquipoL][-partidos:] if a == 'A' ])\n",
        "      nvvv = np.sum([1 for a in Result_V[EquipoV][-partidos:] if a == 'A' ])\n",
        "      nevv = np.sum([1 for a in Result_V[EquipoV][-partidos:] if a == 'D' ])\n",
        "      ndvv = np.sum([1 for a in Result_V[EquipoV][-partidos:] if a == 'H' ])\n",
        "      nvlv = np.sum([1 for a in Result_L[EquipoV][-partidos:] if a == 'H' ])\n",
        "      nelv = np.sum([1 for a in Result_L[EquipoV][-partidos:] if a == 'D' ])\n",
        "      ndlv = np.sum([1 for a in Result_L[EquipoV][-partidos:] if a == 'A' ])\n",
        "      nvvl = np.sum([1 for a in Result_V[EquipoL][-partidos:] if a == 'A' ])\n",
        "      nevl = np.sum([1 for a in Result_V[EquipoL][-partidos:] if a == 'D' ])\n",
        "      ndvl = np.sum([1 for a in Result_V[EquipoL][-partidos:] if a == 'H' ])\n",
        "\n",
        "      nvgl = nvll + nvvl\n",
        "      negl = nell + nevl\n",
        "      ndgl = ndll + ndvl\n",
        "      nvgv = nvvv + nvlv\n",
        "      negv = nevv + nelv\n",
        "      ndgv = ndvv + ndlv\n",
        "      \n",
        "      data_x.append([ pll1, pvv1, pvl1, plv1, gll1, gvv1, glv1, gvl1, pll3, pvv3, pvl3, plv3, gll3, gvv3, glv3, gvl3, pll, pvv, plg, pvg, plv, pvl, gll, gvv, ggl, ggv, glv, gvl, nvll, nell, ndll, nvvv, nevv, ndvv, nvgl, negl, ndgl, nvgv, negv, ndgv, nvlv, nelv, ndlv, nvvl, nevl, ndvl ])\n",
        "      #data_x.append([gll, gvv, glv, gvl, nvll, nell, ndll, nvvv, nevv, ndvv, nvlv, nelv, ndlv, nvvl, nevl, ndvl ])\n",
        "    \n",
        "    \n",
        "\n",
        "\n",
        "\n"
      ],
      "execution_count": null,
      "outputs": [
        {
          "output_type": "stream",
          "text": [
            "D1\n",
            "D1\n",
            "D1\n",
            "D1\n",
            "D1\n",
            "D1\n",
            "D1\n",
            "D1\n",
            "D2\n",
            "D2\n",
            "D2\n",
            "D2\n",
            "D2\n",
            "D2\n",
            "D2\n",
            "D2\n",
            "E0\n",
            "E0\n",
            "E0\n",
            "E0\n",
            "E1\n",
            "E1\n",
            "E1\n",
            "E1\n",
            "E1\n",
            "E1\n",
            "E1\n",
            "E1\n",
            "E1\n",
            "E1\n",
            "E1\n",
            "E1\n",
            "E2\n",
            "E2\n",
            "E2\n",
            "E2\n",
            "E2\n",
            "E2\n",
            "E2\n",
            "E2\n",
            "E2\n",
            "E2\n",
            "E2\n",
            "E2\n",
            "E3\n",
            "E3\n",
            "E3\n",
            "E3\n",
            "E3\n",
            "E3\n",
            "E3\n",
            "E3\n",
            "E3\n",
            "E3\n",
            "E3\n",
            "E3\n",
            "F2\n",
            "F2\n",
            "F2\n",
            "F2\n",
            "F2\n",
            "F2\n",
            "F2\n",
            "F2\n",
            "F2\n",
            "G1\n",
            "G1\n",
            "G1\n",
            "I1\n",
            "I1\n",
            "I1\n",
            "I1\n",
            "I1\n",
            "I1\n",
            "I1\n",
            "I1\n",
            "I1\n",
            "I1\n",
            "N1\n",
            "P1\n",
            "P1\n",
            "P1\n",
            "P1\n",
            "P1\n",
            "P1\n",
            "P1\n",
            "P1\n",
            "P1\n",
            "SC0\n",
            "SC0\n",
            "SC0\n",
            "SC0\n",
            "SC0\n",
            "SC0\n",
            "SP1\n",
            "SP1\n",
            "SP1\n",
            "SP1\n",
            "SP1\n",
            "SP1\n",
            "SP1\n",
            "SP1\n",
            "SP1\n",
            "SP1\n",
            "SP2\n",
            "T1\n",
            "T1\n",
            "T1\n",
            "T1\n",
            "T1\n",
            "T1\n",
            "T1\n",
            "T1\n",
            "T1\n",
            "T1\n"
          ],
          "name": "stdout"
        }
      ]
    },
    {
      "cell_type": "code",
      "metadata": {
        "id": "JBFCyYRwt3Kd"
      },
      "source": [
        "data_x = np.asarray(data_x)\n",
        "#data_y = np.asarray(data_y)\n",
        "\n",
        "lista_Div = np.asarray(lista_Div)\n",
        "lista_Date = np.asarray(lista_Date)\n",
        "lista_Time = np.asarray(lista_Time)\n",
        "lista_HomeTeam = np.asarray(lista_HomeTeam)\n",
        "lista_AwayTeam = np.asarray(lista_AwayTeam)\n",
        "#lista_FTHG = np.asarray(lista_FTHG)\n",
        "#lista_FTAG = np.asarray(lista_FTAG)\n",
        "#lista_FTR = np.asarray(lista_FTR)\n",
        "lista_WHH = np.asarray(lista_WHH)\n",
        "lista_WHD = np.asarray(lista_WHD)\n",
        "lista_WHA = np.asarray(lista_WHA)\n"
      ],
      "execution_count": null,
      "outputs": []
    },
    {
      "cell_type": "markdown",
      "metadata": {
        "id": "IfiSmPMpwRqg"
      },
      "source": [
        "# load model and scaler"
      ]
    },
    {
      "cell_type": "code",
      "metadata": {
        "colab": {
          "resources": {
            "http://localhost:8080/nbextensions/google.colab/files.js": {
              "data": "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",
              "ok": true,
              "headers": [
                [
                  "content-type",
                  "application/javascript"
                ]
              ],
              "status": 200,
              "status_text": ""
            }
          },
          "base_uri": "https://localhost:8080/",
          "height": 143
        },
        "id": "dvRqr3IUwe54",
        "outputId": "00539ccd-429f-435f-e484-a2e1dc665bbb"
      },
      "source": [
        "from google.colab import files\n",
        "uploaded = files.upload()"
      ],
      "execution_count": null,
      "outputs": [
        {
          "output_type": "display_data",
          "data": {
            "text/html": [
              "\n",
              "     <input type=\"file\" id=\"files-52675b43-7c82-408c-9a48-2b5617e0eb39\" name=\"files[]\" multiple disabled\n",
              "        style=\"border:none\" />\n",
              "     <output id=\"result-52675b43-7c82-408c-9a48-2b5617e0eb39\">\n",
              "      Upload widget is only available when the cell has been executed in the\n",
              "      current browser session. Please rerun this cell to enable.\n",
              "      </output>\n",
              "      <script src=\"/nbextensions/google.colab/files.js\"></script> "
            ],
            "text/plain": [
              "<IPython.core.display.HTML object>"
            ]
          },
          "metadata": {
            "tags": []
          }
        },
        {
          "output_type": "stream",
          "text": [
            "Saving modelo.h5 to modelo.h5\n",
            "Saving objs.pkl to objs.pkl\n",
            "Saving pesos.h5 to pesos.h5\n"
          ],
          "name": "stdout"
        }
      ]
    },
    {
      "cell_type": "code",
      "metadata": {
        "colab": {
          "base_uri": "https://localhost:8080/"
        },
        "id": "iZhgRvYzwDSa",
        "outputId": "353cfd86-97d3-4a84-e8cf-02caec477265"
      },
      "source": [
        "###################   LOAD SAVED MODEL   ##################\n",
        "modelo = '/content/modelo.h5'\n",
        "pesos_modelo = '/content/pesos.h5'\n",
        "\n",
        "cnn = load_model(modelo)\n",
        "cnn.load_weights(pesos_modelo)\n",
        "cnn.summary() "
      ],
      "execution_count": null,
      "outputs": [
        {
          "output_type": "stream",
          "text": [
            "Model: \"sequential_88\"\n",
            "_________________________________________________________________\n",
            "Layer (type)                 Output Shape              Param #   \n",
            "=================================================================\n",
            "dense_101 (Dense)            (None, 3)                 141       \n",
            "=================================================================\n",
            "Total params: 141\n",
            "Trainable params: 141\n",
            "Non-trainable params: 0\n",
            "_________________________________________________________________\n"
          ],
          "name": "stdout"
        }
      ]
    },
    {
      "cell_type": "code",
      "metadata": {
        "id": "pXqc0c7fQNf4"
      },
      "source": [
        "# Getting back the objects:\n",
        "with open('objs.pkl', 'rb') as f:  # Python 3: open(..., 'rb')\n",
        "    scaler = pickle.load(f)"
      ],
      "execution_count": null,
      "outputs": []
    },
    {
      "cell_type": "code",
      "metadata": {
        "id": "1GVmaMrgbACp"
      },
      "source": [
        "sorted_pre_data_x = np.asarray(data_x)[np.argsort(lista_Time)]\n",
        "sorted_pre_Div = np.asarray(lista_Div)[np.argsort(lista_Time)]\n",
        "sorted_pre_Date = np.asarray(lista_Date)[np.argsort(lista_Time)]\n",
        "sorted_pre_Time = np.asarray(lista_Time)[np.argsort(lista_Time)]\n",
        "sorted_pre_HomeTeam = np.asarray(lista_HomeTeam)[np.argsort(lista_Time)]\n",
        "sorted_pre_AwayTeam = np.asarray(lista_AwayTeam)[np.argsort(lista_Time)]\n",
        "sorted_pre_WHH = np.asarray(lista_WHH)[np.argsort(lista_Time)]\n",
        "sorted_pre_WHD = np.asarray(lista_WHD)[np.argsort(lista_Time)]\n",
        "sorted_pre_WHA = np.asarray(lista_WHA)[np.argsort(lista_Time)]\n",
        "sorted_pre_Datos = np.asarray(lista_Datos)[np.argsort(lista_Time)]"
      ],
      "execution_count": null,
      "outputs": []
    },
    {
      "cell_type": "code",
      "metadata": {
        "id": "dGIrFZxKWogT"
      },
      "source": [
        "sorted_data_x = np.asarray(sorted_pre_data_x)[np.argsort(sorted_pre_Date, kind = 'stable')]\n",
        "sorted_Div = np.asarray(sorted_pre_Div)[np.argsort(sorted_pre_Date, kind = 'stable')]\n",
        "sorted_Date = np.asarray(sorted_pre_Date)[np.argsort(sorted_pre_Date, kind = 'stable')]\n",
        "sorted_Time = np.asarray(sorted_pre_Time)[np.argsort(sorted_pre_Date, kind = 'stable')]\n",
        "sorted_HomeTeam = np.asarray(sorted_pre_HomeTeam)[np.argsort(sorted_pre_Date, kind = 'stable')]\n",
        "sorted_AwayTeam = np.asarray(sorted_pre_AwayTeam)[np.argsort(sorted_pre_Date, kind = 'stable')]\n",
        "sorted_WHH = np.expand_dims(np.asarray(sorted_pre_WHH)[np.argsort(sorted_pre_Date, kind = 'stable')], axis=-1)\n",
        "sorted_WHD = np.expand_dims(np.asarray(sorted_pre_WHD)[np.argsort(sorted_pre_Date, kind = 'stable')], axis=-1)\n",
        "sorted_WHA = np.expand_dims(np.asarray(sorted_pre_WHA)[np.argsort(sorted_pre_Date, kind = 'stable')], axis=-1)\n",
        "sorted_Datos = np.asarray(sorted_pre_Datos)[np.argsort(sorted_pre_Date, kind = 'stable')]\n",
        "\n"
      ],
      "execution_count": null,
      "outputs": []
    },
    {
      "cell_type": "code",
      "metadata": {
        "id": "IVW5FtjcXrsi"
      },
      "source": [
        "test_x = scaler.transform(sorted_data_x)\n",
        "WH = np.concatenate((sorted_WHH, sorted_WHD, sorted_WHA), axis=1)\n"
      ],
      "execution_count": null,
      "outputs": []
    },
    {
      "cell_type": "code",
      "metadata": {
        "colab": {
          "base_uri": "https://localhost:8080/"
        },
        "id": "GmiYhrJn50EE",
        "outputId": "91ca6764-8c3a-41f0-f7ba-3aaabc307247"
      },
      "source": [
        "for i in range(len(lista_HomeTeam)):\n",
        "  if ((cnn.predict_classes(test_x[i:i+1]) == 0) and (sorted_WHH[i]>=1.4) and (cnn.predict(test_x[i:i+1])[0][0]>=0.39 ) ) or ((cnn.predict_classes(test_x[i:i+1]) == 2) and (sorted_WHA[i]>=1.4) and (cnn.predict(test_x[i:i+1])[0][2]>=0.44 )):\n",
        "  #if ((cnn.predict_classes(test_x[i:i+1]) == 0) and (sorted_WHH[i]>=1.6)  ) or ((cnn.predict_classes(test_x[i:i+1]) == 2) and (sorted_WHA[i]>=1.6) ):\n",
        "    #print(sorted_Date[i], sorted_Time[i], sorted_Div[i], sorted_HomeTeam[i], ' vs ', sorted_AwayTeam[i], ': ', cnn.predict_classes(test_x[i:i+1]), cnn.predict(test_x[i:i+1]) )\n",
        "    clase = cnn.predict_classes(test_x[i:i+1])\n",
        "    print(sorted_Date[i], sorted_Time[i], sorted_Div[i], sorted_HomeTeam[i], ' vs ', sorted_AwayTeam[i], ': ', clase[0], ', Odd:', WH[i][clase[0]], ', Prob: ',cnn.predict(test_x[i:i+1])[0][clase[0]] )"
      ],
      "execution_count": null,
      "outputs": [
        {
          "output_type": "stream",
          "text": [
            "/usr/local/lib/python3.7/dist-packages/tensorflow/python/keras/engine/sequential.py:450: UserWarning: `model.predict_classes()` is deprecated and will be removed after 2021-01-01. Please use instead:* `np.argmax(model.predict(x), axis=-1)`,   if your model does multi-class classification   (e.g. if it uses a `softmax` last-layer activation).* `(model.predict(x) > 0.5).astype(\"int32\")`,   if your model does binary classification   (e.g. if it uses a `sigmoid` last-layer activation).\n",
            "  warnings.warn('`model.predict_classes()` is deprecated and '\n"
          ],
          "name": "stderr"
        },
        {
          "output_type": "stream",
          "text": [
            "20/04/2021 17:00 T1 Hatayspor  vs  Antalyaspor :  0 , Odd: 1.78 , Prob:  0.40101135\n",
            "20/04/2021 17:30 D1 FC Koln  vs  RB Leipzig :  2 , Odd: 1.4 , Prob:  0.5128948\n",
            "20/04/2021 17:30 D2 Greuther Furth  vs  Braunschweig :  0 , Odd: 1.47 , Prob:  0.4683949\n",
            "20/04/2021 19:00 F2 Niort  vs  Troyes :  2 , Odd: 1.85 , Prob:  0.48446196\n",
            "20/04/2021 19:00 E2 Accrington  vs  Doncaster :  0 , Odd: 2.45 , Prob:  0.40905064\n",
            "20/04/2021 19:00 E2 Bristol Rvs  vs  Milton Keynes Dons :  2 , Odd: 2.45 , Prob:  0.45176205\n",
            "20/04/2021 19:00 E2 Rochdale  vs  Blackpool :  2 , Odd: 1.91 , Prob:  0.47489575\n",
            "20/04/2021 19:00 E3 Grimsby  vs  Morecambe :  2 , Odd: 2.25 , Prob:  0.4630283\n",
            "20/04/2021 19:00 E3 Bradford  vs  Tranmere :  0 , Odd: 2.62 , Prob:  0.39259002\n",
            "20/04/2021 19:00 E3 Bolton  vs  Carlisle :  0 , Odd: 2.3 , Prob:  0.4176092\n",
            "20/04/2021 19:30 D1 Ein Frankfurt  vs  Augsburg :  0 , Odd: 1.4 , Prob:  0.52974343\n",
            "20/04/2021 19:30 D1 Bielefeld  vs  Schalke 04 :  0 , Odd: 1.73 , Prob:  0.4062886\n",
            "20/04/2021 19:30 D1 Bayern Munich  vs  Leverkusen :  0 , Odd: 1.4 , Prob:  0.45397416\n",
            "20/04/2021 19:45 E2 Peterboro  vs  Gillingham :  0 , Odd: 1.57 , Prob:  0.4383865\n",
            "20/04/2021 19:45 E2 Hull  vs  Sunderland :  0 , Odd: 2.15 , Prob:  0.41123977\n",
            "20/04/2021 20:00 P1 Pacos Ferreira  vs  Farense :  0 , Odd: 2.4 , Prob:  0.4687006\n",
            "20/04/2021 20:00 E0 Chelsea  vs  Brighton :  0 , Odd: 1.57 , Prob:  0.4059744\n",
            "21/04/2021 14:00 T1 Ankaragucu  vs  Denizlispor :  0 , Odd: 1.78 , Prob:  0.4499444\n",
            "21/04/2021 17:30 I1 Milan  vs  Sassuolo :  0 , Odd: 1.55 , Prob:  0.40225464\n",
            "21/04/2021 17:30 D2 Paderborn  vs  Osnabruck :  0 , Odd: 1.62 , Prob:  0.47434595\n",
            "21/04/2021 17:30 D2 Hannover  vs  Regensburg :  0 , Odd: 2.0 , Prob:  0.40659603\n",
            "21/04/2021 18:00 E0 Tottenham  vs  Southampton :  0 , Odd: 1.8 , Prob:  0.41605288\n",
            "21/04/2021 18:00 SP1 Levante  vs  Sevilla :  2 , Odd: 1.7 , Prob:  0.48302928\n",
            "21/04/2021 19:00 SC0 St Johnstone  vs  Rangers :  2 , Odd: 1.57 , Prob:  0.56855047\n",
            "21/04/2021 19:00 SP1 Betis  vs  Ath Bilbao :  0 , Odd: 2.45 , Prob:  0.40797424\n",
            "21/04/2021 19:00 P1 Sp Braga  vs  Boavista :  0 , Odd: 1.44 , Prob:  0.45914117\n",
            "21/04/2021 19:00 E1 Wycombe  vs  Bristol City :  0 , Odd: 2.75 , Prob:  0.39358953\n",
            "21/04/2021 19:45 E1 Huddersfield  vs  Barnsley :  2 , Odd: 2.15 , Prob:  0.44194177\n",
            "21/04/2021 20:00 SP1 Alaves  vs  Villarreal :  2 , Odd: 1.91 , Prob:  0.46760118\n",
            "21/04/2021 21:15 P1 Sp Lisbon  vs  Belenenses :  0 , Odd: 1.44 , Prob:  0.46341255\n",
            "22/04/2021 15:00 P1 Tondela  vs  Nacional :  0 , Odd: 2.05 , Prob:  0.46788323\n",
            "22/04/2021 17:00 P1 Gil Vicente  vs  Famalicao :  0 , Odd: 2.5 , Prob:  0.39585787\n",
            "22/04/2021 17:30 I1 Roma  vs  Atalanta :  2 , Odd: 1.95 , Prob:  0.46364313\n",
            "22/04/2021 17:45 N1 Ajax  vs  Utrecht :  0 , Odd: 1.4 , Prob:  0.50155026\n",
            "22/04/2021 18:00 SP1 Ath Madrid  vs  Huesca :  0 , Odd: 1.4 , Prob:  0.48865366\n",
            "22/04/2021 20:00 SP1 Granada  vs  Eibar :  0 , Odd: 2.45 , Prob:  0.4705844\n",
            "22/04/2021 20:00 E0 Leicester  vs  West Brom :  0 , Odd: 1.57 , Prob:  0.4493952\n"
          ],
          "name": "stdout"
        }
      ]
    },
    {
      "cell_type": "code",
      "metadata": {
        "id": "dtltm-Pxa1tS"
      },
      "source": [
        ""
      ],
      "execution_count": null,
      "outputs": []
    },
    {
      "cell_type": "code",
      "metadata": {
        "id": "_ipands_r_OS"
      },
      "source": [
        ""
      ],
      "execution_count": null,
      "outputs": []
    }
  ]
}