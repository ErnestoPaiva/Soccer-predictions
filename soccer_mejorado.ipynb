{
  "nbformat": 4,
  "nbformat_minor": 0,
  "metadata": {
    "accelerator": "GPU",
    "colab": {
      "name": "soccer mejorado.ipynb",
      "provenance": [],
      "collapsed_sections": [],
      "toc_visible": true
    },
    "kernelspec": {
      "display_name": "Python 3",
      "name": "python3"
    }
  },
  "cells": [
    {
      "cell_type": "markdown",
      "metadata": {
        "id": "vc-VrWmo_0cd"
      },
      "source": [
        "# Importar funciones"
      ]
    },
    {
      "cell_type": "code",
      "metadata": {
        "id": "TZF7CCgXuoE5"
      },
      "source": [
        "import pandas as pd\n",
        "import glob\n",
        "import numpy as np\n",
        "import pickle\n"
      ],
      "execution_count": null,
      "outputs": []
    },
    {
      "cell_type": "code",
      "metadata": {
        "id": "NKgO8P5qF_Gu"
      },
      "source": [
        "import numpy as np\n",
        "import matplotlib.pyplot as plt\n",
        "import pandas as pd\n",
        "\n",
        "from sklearn.model_selection import train_test_split\n",
        "from sklearn.preprocessing import MinMaxScaler\n",
        "from tensorflow.keras import Sequential\n",
        "from tensorflow.keras.layers import Dense, Dropout, BatchNormalization, Activation, Input\n",
        "from tensorflow.keras.activations import sigmoid, softmax, relu, tanh\n",
        "from tensorflow.keras.optimizers import Adam\n",
        "from tensorflow.keras.losses import BinaryCrossentropy\n",
        "import tensorflow as tf\n",
        "from tensorflow.keras.utils import to_categorical\n",
        "from tensorflow.keras.callbacks import EarlyStopping\n",
        "from tensorflow.keras.regularizers import l2, l1_l2\n",
        "from sklearn.utils import class_weight\n",
        "from sklearn.metrics  import confusion_matrix, accuracy_score\n"
      ],
      "execution_count": null,
      "outputs": []
    },
    {
      "cell_type": "markdown",
      "metadata": {
        "id": "sU40JqjG_q8_"
      },
      "source": [
        "# Cargar Datos"
      ]
    },
    {
      "cell_type": "code",
      "metadata": {
        "colab": {
          "resources": {
            "http://localhost:8080/nbextensions/google.colab/files.js": {
              "data": "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",
              "ok": true,
              "headers": [
                [
                  "content-type",
                  "application/javascript"
                ]
              ],
              "status": 200,
              "status_text": ""
            }
          },
          "base_uri": "https://localhost:8080/",
          "height": 1000
        },
        "id": "W6nX_Gw9_sSc",
        "outputId": "ca199512-bd8d-4510-c64b-5e7504c8547b"
      },
      "source": [
        "from google.colab import files\n",
        "uploaded = files.upload()"
      ],
      "execution_count": null,
      "outputs": [
        {
          "output_type": "display_data",
          "data": {
            "text/html": [
              "\n",
              "     <input type=\"file\" id=\"files-48c00cd7-a967-4fa6-971b-7ead5ae2041e\" name=\"files[]\" multiple disabled\n",
              "        style=\"border:none\" />\n",
              "     <output id=\"result-48c00cd7-a967-4fa6-971b-7ead5ae2041e\">\n",
              "      Upload widget is only available when the cell has been executed in the\n",
              "      current browser session. Please rerun this cell to enable.\n",
              "      </output>\n",
              "      <script src=\"/nbextensions/google.colab/files.js\"></script> "
            ],
            "text/plain": [
              "<IPython.core.display.HTML object>"
            ]
          },
          "metadata": {
            "tags": []
          }
        },
        {
          "output_type": "stream",
          "text": [
            "Saving B1_2015.csv to B1_2015.csv\n",
            "Saving B1_2016.csv to B1_2016.csv\n",
            "Saving B1_2017.csv to B1_2017.csv\n",
            "Saving B1_2018.csv to B1_2018.csv\n",
            "Saving D1_2015.csv to D1_2015.csv\n",
            "Saving D1_2016.csv to D1_2016.csv\n",
            "Saving D1_2017.csv to D1_2017.csv\n",
            "Saving D1_2018.csv to D1_2018.csv\n",
            "Saving D2_2015.csv to D2_2015.csv\n",
            "Saving D2_2016.csv to D2_2016.csv\n",
            "Saving D2_2017.csv to D2_2017.csv\n",
            "Saving D2_2018.csv to D2_2018.csv\n",
            "Saving E0_2015.csv to E0_2015.csv\n",
            "Saving E0_2016.csv to E0_2016.csv\n",
            "Saving E0_2017.csv to E0_2017.csv\n",
            "Saving E0_2018.csv to E0_2018.csv\n",
            "Saving E1_2015.csv to E1_2015.csv\n",
            "Saving E1_2016.csv to E1_2016.csv\n",
            "Saving E1_2017.csv to E1_2017.csv\n",
            "Saving E1_2018.csv to E1_2018.csv\n",
            "Saving E2_2015.csv to E2_2015.csv\n",
            "Saving E2_2016.csv to E2_2016.csv\n",
            "Saving E2_2017.csv to E2_2017.csv\n",
            "Saving E2_2018.csv to E2_2018.csv\n",
            "Saving E3_2015.csv to E3_2015.csv\n",
            "Saving E3_2016.csv to E3_2016.csv\n",
            "Saving E3_2017.csv to E3_2017.csv\n",
            "Saving E3_2018.csv to E3_2018.csv\n",
            "Saving F1_2015.csv to F1_2015.csv\n",
            "Saving F1_2016.csv to F1_2016.csv\n",
            "Saving F1_2017.csv to F1_2017.csv\n",
            "Saving F1_2018.csv to F1_2018.csv\n",
            "Saving F2_2015.csv to F2_2015.csv\n",
            "Saving F2_2016.csv to F2_2016.csv\n",
            "Saving F2_2017.csv to F2_2017.csv\n",
            "Saving F2_2018.csv to F2_2018.csv\n",
            "Saving G1_2015.csv to G1_2015.csv\n",
            "Saving G1_2016.csv to G1_2016.csv\n",
            "Saving G1_2017.csv to G1_2017.csv\n",
            "Saving I1_2015.csv to I1_2015.csv\n",
            "Saving I1_2016.csv to I1_2016.csv\n",
            "Saving I1_2017.csv to I1_2017.csv\n",
            "Saving I1_2018.csv to I1_2018.csv\n",
            "Saving I2_2015.csv to I2_2015.csv\n",
            "Saving I2_2016.csv to I2_2016.csv\n",
            "Saving I2_2017.csv to I2_2017.csv\n",
            "Saving I2_2018.csv to I2_2018.csv\n",
            "Saving N1_2015.csv to N1_2015.csv\n",
            "Saving N1_2016.csv to N1_2016.csv\n",
            "Saving N1_2017.csv to N1_2017.csv\n",
            "Saving N1_2018.csv to N1_2018.csv\n",
            "Saving P1_2015.csv to P1_2015.csv\n",
            "Saving P1_2016.csv to P1_2016.csv\n",
            "Saving P1_2017.csv to P1_2017.csv\n",
            "Saving P1_2018.csv to P1_2018.csv\n",
            "Saving SC0_2015.csv to SC0_2015.csv\n",
            "Saving SC0_2016.csv to SC0_2016.csv\n",
            "Saving SC0_2017.csv to SC0_2017.csv\n",
            "Saving SC0_2018.csv to SC0_2018.csv\n",
            "Saving SP1_2015.csv to SP1_2015.csv\n",
            "Saving SP1_2016.csv to SP1_2016.csv\n",
            "Saving SP1_2017.csv to SP1_2017.csv\n",
            "Saving SP1_2018.csv to SP1_2018.csv\n",
            "Saving SP2_2015.csv to SP2_2015.csv\n",
            "Saving SP2_2016.csv to SP2_2016.csv\n",
            "Saving SP2_2017.csv to SP2_2017.csv\n",
            "Saving SP2_2018.csv to SP2_2018.csv\n",
            "Saving T1_2015.csv to T1_2015.csv\n",
            "Saving T1_2016.csv to T1_2016.csv\n",
            "Saving T1_2017.csv to T1_2017.csv\n",
            "Saving T1_2018.csv to T1_2018.csv\n"
          ],
          "name": "stdout"
        }
      ]
    },
    {
      "cell_type": "code",
      "metadata": {
        "id": "yfIl8c6i_tNq"
      },
      "source": [
        "\n",
        "# Obtener la dirección de todos los archivos .CSV del path\n",
        "path = r'/content' # use your path\n",
        "#path = r'gdrive/My Drive/Data' # use your path\n",
        "all_files = glob.glob(path + \"/*.csv\")\n",
        "\n",
        "# Leer los archivos .CSV encontrados en all_files\n",
        "li = []\n",
        "for filename in all_files:\n",
        "    df = pd.read_csv(filename,encoding = \"ISO-8859-1\",usecols = ['Div', 'Date', 'HomeTeam', 'AwayTeam','FTHG','FTAG','FTR','WHH','WHD','WHA'])\n",
        "    li.append(df)\n"
      ],
      "execution_count": null,
      "outputs": []
    },
    {
      "cell_type": "code",
      "metadata": {
        "colab": {
          "base_uri": "https://localhost:8080/"
        },
        "id": "ZnidoFCN_wml",
        "outputId": "6389c14a-e308-41db-cd05-e605cffc7c60"
      },
      "source": [
        "len(all_files)"
      ],
      "execution_count": null,
      "outputs": [
        {
          "output_type": "execute_result",
          "data": {
            "text/plain": [
              "71"
            ]
          },
          "metadata": {
            "tags": []
          },
          "execution_count": 5
        }
      ]
    },
    {
      "cell_type": "markdown",
      "metadata": {
        "id": "ftf-O49FcePN"
      },
      "source": [
        "# Funciones"
      ]
    },
    {
      "cell_type": "code",
      "metadata": {
        "id": "RmSmYvqRwM5N"
      },
      "source": [
        "\n",
        "def numberOfNonNans(data):\n",
        "    count = 0\n",
        "    for i in data:\n",
        "        if not np.isnan(i):\n",
        "            count += 1\n",
        "    return count "
      ],
      "execution_count": null,
      "outputs": []
    },
    {
      "cell_type": "code",
      "metadata": {
        "id": "sfSWYs75TxwB"
      },
      "source": [
        "def figure(History, legend):\n",
        "  ####################### PLOT TRAINING VS VALIDATION ######################\n",
        "  ########## Accuracy ###########\n",
        "  acc = History.history['weighted_acc']\n",
        "  val_acc = History.history['val_weighted_acc']\n",
        "  loss = History.history['loss']\n",
        "  val_loss = History.history['val_loss']\n",
        "\n",
        "  plt.plot(acc)\n",
        "  plt.plot(val_acc)\n",
        "  plt.title('model accuracy')\n",
        "  plt.ylabel('accuracy')\n",
        "  plt.xlabel('epoch')\n",
        "  plt.legend(legend, loc='upper left')\n",
        "  plt.grid()\n",
        "  plt.show()\n",
        "\n",
        "  ########## Loss ###########\n",
        "  plt.plot(loss)\n",
        "  plt.plot(val_loss)\n",
        "  plt.title('model loss')\n",
        "  plt.ylabel('loss')\n",
        "  plt.xlabel('epoch')\n",
        "  try:\n",
        "    loss_no_reg = History.history['weighted_categorical_crossentropy']\n",
        "    val_loss_no_reg = History.history['val_weighted_categorical_crossentropy']\n",
        "    plt.plot(loss_no_reg)\n",
        "    plt.plot(val_loss_no_reg)\n",
        "    plt.legend(legend + [legend[0]+' sin reg', legend[1]+' sin reg'], loc='upper left')\n",
        "  except:\n",
        "    plt.legend(legend, loc='upper left')\n",
        "\n",
        "  plt.grid()\n",
        "  plt.show()"
      ],
      "execution_count": null,
      "outputs": []
    },
    {
      "cell_type": "code",
      "metadata": {
        "id": "Gf5dSILM5ztY"
      },
      "source": [
        "def a_puntos_L(result):\n",
        "  sum = 0\n",
        "  for i in range(len(result)):\n",
        "    if result[i]=='H':\n",
        "      sum = sum + 3\n",
        "    elif result[i]=='D':\n",
        "      sum = sum + 1\n",
        "  return sum\n",
        "\n",
        "def a_puntos_V(result):\n",
        "  sum = 0\n",
        "  for i in range(len(result)):\n",
        "    if result[i]=='A':\n",
        "      sum = sum + 3\n",
        "    elif result[i]=='D':\n",
        "      sum = sum + 1\n",
        "  return sum"
      ],
      "execution_count": null,
      "outputs": []
    },
    {
      "cell_type": "markdown",
      "metadata": {
        "id": "eE1XwfRaATQr"
      },
      "source": [
        "# Extraer features"
      ]
    },
    {
      "cell_type": "code",
      "metadata": {
        "colab": {
          "base_uri": "https://localhost:8080/"
        },
        "id": "VEHku8dLYTE_",
        "outputId": "c8e0de25-bf1b-48ab-d63b-c4fabb0338b8"
      },
      "source": [
        "partidos = 10\n",
        "\n",
        "data_x = []\n",
        "data_y = []\n",
        "lista_Div = []\n",
        "lista_Date = []\n",
        "lista_HomeTeam = []\n",
        "lista_AwayTeam = []\n",
        "lista_FTHG = []\n",
        "lista_FTAG = []\n",
        "lista_FTR = []\n",
        "lista_WHH = []\n",
        "lista_WHD = []\n",
        "lista_WHA = []\n",
        "lista_Datos = []\n",
        "lista_Weights = []\n",
        "\n",
        "n = 1\n",
        "for fixture in li:\n",
        "\n",
        "  Goles_L = {}\n",
        "  Goles_V = {}\n",
        "  Result_L = {}\n",
        "  Result_V = {}\n",
        "\n",
        "  print(n)\n",
        "  n = n + 1\n",
        "  for i in range(len(fixture)):\n",
        "    EquipoL = fixture.iloc[i]['HomeTeam']\n",
        "    EquipoV = fixture.iloc[i]['AwayTeam']\n",
        "    \n",
        "    #if (len(Goles_L.get(EquipoL, [])) >=5) & (len(Goles_V.get(EquipoV, [])) >=5)&(len(Goles_L.get(EquipoV, [])) >=5) & (len(Goles_V.get(EquipoL, [])) >=5) & (fixture.iloc[i]['WHH']  == fixture.iloc[i]['WHH'] ):\n",
        "    if (len(Goles_L.get(EquipoL, [])) >=partidos) & (len(Goles_V.get(EquipoV, [])) >=partidos)&(len(Goles_L.get(EquipoV, [])) >=partidos) & (len(Goles_V.get(EquipoL, [])) >=partidos) & (fixture.iloc[i]['HomeTeam']  == fixture.iloc[i]['HomeTeam'] ) & (fixture.iloc[i]['WHH']>=1.6) & (fixture.iloc[i]['WHA']>=1.6): \n",
        "      lista_Div.append( fixture.iloc[i]['Div'] )\n",
        "      lista_Date.append( fixture.iloc[i]['Date'] )\n",
        "      lista_HomeTeam.append( fixture.iloc[i]['HomeTeam'] )\n",
        "      lista_AwayTeam.append( fixture.iloc[i]['AwayTeam'] )\n",
        "      lista_FTHG.append( fixture.iloc[i]['FTHG'] )\n",
        "      lista_FTAG.append( fixture.iloc[i]['FTAG'] )\n",
        "      lista_FTR.append( fixture.iloc[i]['FTR'] )\n",
        "      lista_WHH.append( fixture.iloc[i]['WHH'] )\n",
        "      lista_WHD.append( fixture.iloc[i]['WHD'] )\n",
        "      lista_WHA.append( fixture.iloc[i]['WHA'] )\n",
        "      lista_Datos.append( fixture.iloc[i] )\n",
        "      if fixture.iloc[i]['FTR'] == 'H':\n",
        "        lista_Weights.append(fixture.iloc[i]['WHH'] )\n",
        "      elif fixture.iloc[i]['FTR'] == 'D':\n",
        "        lista_Weights.append(fixture.iloc[i]['WHD'] )\n",
        "      elif fixture.iloc[i]['FTR'] == 'A':\n",
        "        lista_Weights.append(fixture.iloc[i]['WHA'] )\n",
        "\n",
        "\n",
        "      rf = fixture.iloc[i]['FTR']\n",
        "      if rf == 'H':\n",
        "        data_y.append(0)\n",
        "      elif rf == 'D':\n",
        "        data_y.append(1)\n",
        "      elif rf == 'A':\n",
        "        data_y.append(2)\n",
        "      else:\n",
        "        print('ERROR')\n",
        "        \n",
        "      pll1 = a_puntos_L( Result_L[EquipoL][-1:] )/1/3 # puntos de local del equipo L\n",
        "      pvv1 = a_puntos_V( Result_V[EquipoV][-1:] )/1/3  # puntos de visita del equipo v\n",
        "      pvl1 = a_puntos_V( Result_V[EquipoL][-1:] )/1/3 # puntos de visita del equipo L\n",
        "      plv1 = a_puntos_L( Result_L[EquipoV][-1:] )/1/3 # puntos de local del equipo V\n",
        "      \n",
        "      pll3 = a_puntos_L( Result_L[EquipoL][-3:] )/3/3 # puntos de local del equipo L\n",
        "      pvv3 = a_puntos_V( Result_V[EquipoV][-3:] )/3/3  # puntos de visita del equipo v\n",
        "      pvl3 = a_puntos_V( Result_V[EquipoL][-3:] )/3/3 # puntos de visita del equipo L\n",
        "      plv3 = a_puntos_L( Result_L[EquipoV][-3:] )/3/3 # puntos de local del equipo V\n",
        "      \n",
        "      pll = a_puntos_L( Result_L[EquipoL][-partidos:] )/partidos/3 # puntos de local del equipo L\n",
        "      pvv = a_puntos_V( Result_V[EquipoV][-partidos:] )/partidos/3  # puntos de visita del equipo v\n",
        "      pvl = a_puntos_V( Result_V[EquipoL][-partidos:] )/partidos/3 # puntos de visita del equipo L\n",
        "      plv = a_puntos_L( Result_L[EquipoV][-partidos:] )/partidos/3 # puntos de local del equipo V\n",
        "      plg = (pvl + pll)/2  # puntos todos los partidos del equipoL\n",
        "      pvg = (plv + pvv)/2 # puntos todos los partidos del equipoV\n",
        "\n",
        "      gll1 = np.mean( Goles_L[EquipoL][-1:] ) # ultimos goles de local el equipoL\n",
        "      gvv1 = np.mean( Goles_V[EquipoV][-1:] ) # ultimos goles de visita el equipoV\n",
        "      glv1 = np.mean( Goles_L[EquipoV][-1:] ) # ultimos goles de local el equipoV\n",
        "      gvl1 = np.mean( Goles_V[EquipoL][-1:] ) # ultimos goles de visita el equipoL\n",
        "      \n",
        "      gll3 = np.mean( Goles_L[EquipoL][-3:] ) # ultimos goles de local el equipoL\n",
        "      gvv3 = np.mean( Goles_V[EquipoV][-3:] ) # ultimos goles de visita el equipoV\n",
        "      glv3 = np.mean( Goles_L[EquipoV][-3:] ) # ultimos goles de local el equipoV\n",
        "      gvl3 = np.mean( Goles_V[EquipoL][-3:] ) # ultimos goles de visita el equipoL\n",
        "      \n",
        "      gll = np.mean( Goles_L[EquipoL][-partidos:] ) # ultimos goles de local el equipoL\n",
        "      gvv = np.mean( Goles_V[EquipoV][-partidos:] ) # ultimos goles de visita el equipoV\n",
        "      glv = np.mean( Goles_L[EquipoV][-partidos:] ) # ultimos goles de local el equipoV\n",
        "      gvl = np.mean( Goles_V[EquipoL][-partidos:] ) # ultimos goles de visita el equipoL\n",
        "      ggl = (gll + gvl)/2 # ultimos goles en general el equipoL\n",
        "      ggv = (glv + gvv)/2 # ultimos goles en general el equipoV\n",
        "      \n",
        "      nvll = np.sum([1 for a in Result_L[EquipoL][-partidos:] if a == 'H' ])\n",
        "      nell = np.sum([1 for a in Result_L[EquipoL][-partidos:] if a == 'D' ])\n",
        "      ndll = np.sum([1 for a in Result_L[EquipoL][-partidos:] if a == 'A' ])\n",
        "      nvvv = np.sum([1 for a in Result_V[EquipoV][-partidos:] if a == 'A' ])\n",
        "      nevv = np.sum([1 for a in Result_V[EquipoV][-partidos:] if a == 'D' ])\n",
        "      ndvv = np.sum([1 for a in Result_V[EquipoV][-partidos:] if a == 'H' ])\n",
        "      nvlv = np.sum([1 for a in Result_L[EquipoV][-partidos:] if a == 'H' ])\n",
        "      nelv = np.sum([1 for a in Result_L[EquipoV][-partidos:] if a == 'D' ])\n",
        "      ndlv = np.sum([1 for a in Result_L[EquipoV][-partidos:] if a == 'A' ])\n",
        "      nvvl = np.sum([1 for a in Result_V[EquipoL][-partidos:] if a == 'A' ])\n",
        "      nevl = np.sum([1 for a in Result_V[EquipoL][-partidos:] if a == 'D' ])\n",
        "      ndvl = np.sum([1 for a in Result_V[EquipoL][-partidos:] if a == 'H' ])\n",
        "\n",
        "      nvgl = nvll + nvvl\n",
        "      negl = nell + nevl\n",
        "      ndgl = ndll + ndvl\n",
        "      nvgv = nvvv + nvlv\n",
        "      negv = nevv + nelv\n",
        "      ndgv = ndvv + ndlv\n",
        "      \n",
        "      data_x.append([ pll1, pvv1, pvl1, plv1, gll1, gvv1, glv1, gvl1, pll3, pvv3, pvl3, plv3, gll3, gvv3, glv3, gvl3, pll, pvv, plg, pvg, plv, pvl, gll, gvv, ggl, ggv, glv, gvl, nvll, nell, ndll, nvvv, nevv, ndvv, nvgl, negl, ndgl, nvgv, negv, ndgv, nvlv, nelv, ndlv, nvvl, nevl, ndvl ])\n",
        "      #data_x.append([gll, gvv, glv, gvl, nvll, nell, ndll, nvvv, nevv, ndvv, nvlv, nelv, ndlv, nvvl, nevl, ndvl ])\n",
        "    \n",
        "    if fixture.iloc[i]['HomeTeam']  == fixture.iloc[i]['HomeTeam']:\n",
        "      Goles_L[EquipoL] = Goles_L.get(EquipoL, []) + [fixture.iloc[i]['FTHG']]\n",
        "      Goles_V[EquipoV] = Goles_V.get(EquipoV, []) + [fixture.iloc[i]['FTAG']]\n",
        "      Result_L[EquipoL] = Result_L.get(EquipoL, []) + [fixture.iloc[i]['FTR']]\n",
        "      Result_V[EquipoV] = Result_V.get(EquipoV, []) + [fixture.iloc[i]['FTR']]\n",
        "\n",
        "\n",
        "\n"
      ],
      "execution_count": null,
      "outputs": [
        {
          "output_type": "stream",
          "text": [
            "1\n",
            "2\n",
            "3\n",
            "4\n",
            "5\n",
            "6\n",
            "7\n",
            "8\n",
            "9\n",
            "10\n",
            "11\n",
            "12\n",
            "13\n",
            "14\n",
            "15\n",
            "16\n",
            "17\n",
            "18\n",
            "19\n",
            "20\n",
            "21\n",
            "22\n",
            "23\n",
            "24\n",
            "25\n",
            "26\n",
            "27\n",
            "28\n",
            "29\n",
            "30\n",
            "31\n",
            "32\n",
            "33\n",
            "34\n",
            "35\n",
            "36\n",
            "37\n",
            "38\n",
            "39\n",
            "40\n",
            "41\n",
            "42\n",
            "43\n",
            "44\n",
            "45\n",
            "46\n",
            "47\n",
            "48\n",
            "49\n",
            "50\n",
            "51\n",
            "52\n",
            "53\n",
            "54\n",
            "55\n",
            "56\n",
            "57\n",
            "58\n",
            "59\n",
            "60\n",
            "61\n",
            "62\n",
            "63\n",
            "64\n",
            "65\n",
            "66\n",
            "67\n",
            "68\n",
            "69\n",
            "70\n",
            "71\n"
          ],
          "name": "stdout"
        }
      ]
    },
    {
      "cell_type": "markdown",
      "metadata": {
        "id": "tidlOh3LAtB8"
      },
      "source": [
        "## Pre-procesar datos"
      ]
    },
    {
      "cell_type": "code",
      "metadata": {
        "id": "dVrSenPsQ1ti"
      },
      "source": [
        "data_x = np.asarray(data_x)\n",
        "data_y = np.asarray(data_y)\n",
        "\n",
        "lista_Div = np.asarray(lista_Div)\n",
        "lista_Date = np.asarray(lista_Date)\n",
        "lista_HomeTeam = np.asarray(lista_HomeTeam)\n",
        "lista_AwayTeam = np.asarray(lista_AwayTeam)\n",
        "lista_FTHG = np.asarray(lista_FTHG)\n",
        "lista_FTAG = np.asarray(lista_FTAG)\n",
        "lista_FTR = np.asarray(lista_FTR)\n",
        "lista_WHH = np.asarray(lista_WHH)\n",
        "lista_WHD = np.asarray(lista_WHD)\n",
        "lista_WHA = np.asarray(lista_WHA)\n",
        "lista_Weights = np.asarray(lista_Weights)\n"
      ],
      "execution_count": null,
      "outputs": []
    },
    {
      "cell_type": "code",
      "metadata": {
        "id": "1AQOHlLpTWTy"
      },
      "source": [
        "TRAIN_x_orig, test_x_orig, TRAIN_y, test_y, = train_test_split(data_x, data_y, test_size = 0.2, random_state = 42)\n",
        "\n",
        "TRAIN_Div, test_Div, = train_test_split(lista_Div, test_size = 0.2, random_state = 42)\n",
        "TRAIN_Date, test_Date, = train_test_split(lista_Date, test_size = 0.2, random_state = 42)\n",
        "TRAIN_HomeTeam, test_HomeTeam, = train_test_split(lista_HomeTeam, test_size = 0.2, random_state = 42)\n",
        "TRAIN_AwayTeam, test_AwayTeam, = train_test_split(lista_AwayTeam, test_size = 0.2, random_state = 42)\n",
        "TRAIN_FTHG, test_FTHG, = train_test_split(lista_FTHG, test_size = 0.2, random_state = 42)\n",
        "TRAIN_FTAG, test_FTAG, = train_test_split(lista_FTAG, test_size = 0.2, random_state = 42)\n",
        "TRAIN_FTR, test_FTR, = train_test_split(lista_FTR, test_size = 0.2, random_state = 42)\n",
        "TRAIN_WHH, test_WHH, = train_test_split(lista_WHH, test_size = 0.2, random_state = 42)\n",
        "TRAIN_WHD, test_WHD, = train_test_split(lista_WHD, test_size = 0.2, random_state = 42)\n",
        "TRAIN_WHA, test_WHA, = train_test_split(lista_WHA, test_size = 0.2, random_state = 42)\n",
        "TRAIN_Weights, test_Weights, = train_test_split(lista_Weights, test_size = 0.2, random_state = 42)\n",
        "\n"
      ],
      "execution_count": null,
      "outputs": []
    },
    {
      "cell_type": "code",
      "metadata": {
        "id": "aVpOD1aBFwpl"
      },
      "source": [
        "scaler = MinMaxScaler()\n",
        "scaler.fit(TRAIN_x_orig)\n",
        "TRAIN_x = scaler.transform(TRAIN_x_orig)\n",
        "test_x = scaler.transform(test_x_orig)\n",
        "#TRAIN_x = TRAIN_x_orig\n",
        "#test_x = test_x_orig"
      ],
      "execution_count": null,
      "outputs": []
    },
    {
      "cell_type": "code",
      "metadata": {
        "id": "qO3-vjFKOu2I"
      },
      "source": [
        "# Saving the objects:\n",
        "with open('objs.pkl', 'wb') as f:  # Python 3: open(..., 'wb')\n",
        "    pickle.dump(scaler, f)"
      ],
      "execution_count": null,
      "outputs": []
    },
    {
      "cell_type": "code",
      "metadata": {
        "id": "GF7tOg1xFstF"
      },
      "source": [
        "train_x, valid_x, train_y, valid_y, = train_test_split(TRAIN_x, TRAIN_y, test_size = 0.2, random_state = 42)\n",
        "\n",
        "train_Div, valid_Div, = train_test_split(TRAIN_Div, test_size = 0.2, random_state = 42)\n",
        "train_Date, valid_Date, = train_test_split(TRAIN_Date, test_size = 0.2, random_state = 42)\n",
        "train_HomeTeam, valid_HomeTeam, = train_test_split(TRAIN_HomeTeam, test_size = 0.2, random_state = 42)\n",
        "train_AwayTeam, valid_AwayTeam, = train_test_split(TRAIN_AwayTeam, test_size = 0.2, random_state = 42)\n",
        "train_FTHG, valid_FTHG, = train_test_split(TRAIN_FTHG, test_size = 0.2, random_state = 42)\n",
        "train_FTAG, valid_FTAG, = train_test_split(TRAIN_FTAG, test_size = 0.2, random_state = 42)\n",
        "train_FTR, valid_FTR, = train_test_split(TRAIN_FTR, test_size = 0.2, random_state = 42)\n",
        "train_WHH, valid_WHH, = train_test_split(TRAIN_WHH, test_size = 0.2, random_state = 42)\n",
        "train_WHD, valid_WHD, = train_test_split(TRAIN_WHD, test_size = 0.2, random_state = 42)\n",
        "train_WHA, valid_WHA, = train_test_split(TRAIN_WHA, test_size = 0.2, random_state = 42)\n",
        "train_Weights, valid_Weights, = train_test_split(TRAIN_Weights, test_size = 0.2, random_state = 42)\n"
      ],
      "execution_count": null,
      "outputs": []
    },
    {
      "cell_type": "code",
      "metadata": {
        "id": "9eB97T9GGCYK",
        "colab": {
          "base_uri": "https://localhost:8080/"
        },
        "outputId": "b7aca30a-5959-4455-8f7c-e2de8f9ff5e8"
      },
      "source": [
        "# Resumen de dimensiones\n",
        "print (\"TRAIN_x shape: \" + str(TRAIN_x.shape))\n",
        "print (\"TRAIN_y shape: \" + str(TRAIN_y.shape))\n",
        "print (\"train_x shape: \" + str(train_x.shape))\n",
        "print (\"train_y shape: \" + str(train_y.shape))\n",
        "print (\"valid_x shape: \" + str(valid_x.shape))\n",
        "print (\"valid_y shape: \" + str(valid_y.shape))\n",
        "print (\"test_x shape:  \" + str(test_x.shape))\n",
        "print (\"test_y shape:  \" + str(test_y.shape))"
      ],
      "execution_count": null,
      "outputs": [
        {
          "output_type": "stream",
          "text": [
            "TRAIN_x shape: (8042, 46)\n",
            "TRAIN_y shape: (8042,)\n",
            "train_x shape: (6433, 46)\n",
            "train_y shape: (6433,)\n",
            "valid_x shape: (1609, 46)\n",
            "valid_y shape: (1609,)\n",
            "test_x shape:  (2011, 46)\n",
            "test_y shape:  (2011,)\n"
          ],
          "name": "stdout"
        }
      ]
    },
    {
      "cell_type": "code",
      "metadata": {
        "id": "KJM95c4mI-nf",
        "colab": {
          "base_uri": "https://localhost:8080/"
        },
        "outputId": "6f32def0-d558-4d3c-e56c-d2bd5b15e6eb"
      },
      "source": [
        "print('clase 0: ',np.sum(TRAIN_y==0) )\n",
        "print('clase 1: ',np.sum(TRAIN_y==1) )\n",
        "print('clase 2: ', np.sum(TRAIN_y==2) )"
      ],
      "execution_count": null,
      "outputs": [
        {
          "output_type": "stream",
          "text": [
            "clase 0:  3383\n",
            "clase 1:  2246\n",
            "clase 2:  2413\n"
          ],
          "name": "stdout"
        }
      ]
    },
    {
      "cell_type": "code",
      "metadata": {
        "id": "t6uo51vbKXsT",
        "colab": {
          "base_uri": "https://localhost:8080/"
        },
        "outputId": "5d43817a-1044-42cd-e1f9-e44dc62f9e93"
      },
      "source": [
        "print('clase 0: ',np.sum(train_y==0) )\n",
        "print('clase 1: ',np.sum(train_y==1) )\n",
        "print('clase 2: ',np.sum(train_y==2) )"
      ],
      "execution_count": null,
      "outputs": [
        {
          "output_type": "stream",
          "text": [
            "clase 0:  2711\n",
            "clase 1:  1807\n",
            "clase 2:  1915\n"
          ],
          "name": "stdout"
        }
      ]
    },
    {
      "cell_type": "code",
      "metadata": {
        "id": "aDPEg2z-KXpt",
        "colab": {
          "base_uri": "https://localhost:8080/"
        },
        "outputId": "3ab66c36-c980-49dd-ecd9-3dad59b97f39"
      },
      "source": [
        "print('clase 0: ',np.sum(valid_y==0) )\n",
        "print('clase 1: ',np.sum(valid_y==1) )\n",
        "print('clase 2: ',np.sum(valid_y==2) )"
      ],
      "execution_count": null,
      "outputs": [
        {
          "output_type": "stream",
          "text": [
            "clase 0:  672\n",
            "clase 1:  439\n",
            "clase 2:  498\n"
          ],
          "name": "stdout"
        }
      ]
    },
    {
      "cell_type": "code",
      "metadata": {
        "id": "OTjwHv2EKXm8",
        "colab": {
          "base_uri": "https://localhost:8080/"
        },
        "outputId": "a2cce858-08a7-413b-945f-1ae0baaabfef"
      },
      "source": [
        "print('clase 0: ',np.sum(test_y==0) )\n",
        "print('clase 1: ',np.sum(test_y==1) )\n",
        "print('clase 2: ',np.sum(test_y==2) )"
      ],
      "execution_count": null,
      "outputs": [
        {
          "output_type": "stream",
          "text": [
            "clase 0:  828\n",
            "clase 1:  562\n",
            "clase 2:  621\n"
          ],
          "name": "stdout"
        }
      ]
    },
    {
      "cell_type": "code",
      "metadata": {
        "id": "6g9TnKPvXv-w"
      },
      "source": [
        "def transfor4(y_cat, alpha):\n",
        "  transformed = y_cat*(1-alpha) + (alpha)*np.concatenate((np.zeros((y_cat.shape[0],y_cat.shape[1]-1)),np.ones((y_cat.shape[0], 1))), axis = 1 )\n",
        "  return transformed"
      ],
      "execution_count": null,
      "outputs": []
    },
    {
      "cell_type": "code",
      "metadata": {
        "id": "V1bFB7VWSi8Q",
        "colab": {
          "base_uri": "https://localhost:8080/"
        },
        "outputId": "23867e1e-130f-4987-ac5e-f157a1b167af"
      },
      "source": [
        "#Converts a class vector\n",
        "alpha = 0\n",
        "Clases = 3\n",
        "\n",
        "if Clases ==4:\n",
        "  TRAIN_y_cat = transfor4(to_categorical(TRAIN_y,4), alpha=alpha)\n",
        "  train_y_cat = transfor4(to_categorical(train_y,4), alpha=alpha)\n",
        "  valid_y_cat = transfor4(to_categorical(valid_y,4), alpha=alpha)\n",
        "  test_y_cat = transfor4(to_categorical(test_y,4), alpha=alpha)\n",
        "elif Clases ==3:\n",
        "  TRAIN_y_cat = to_categorical(TRAIN_y)\n",
        "  train_y_cat = to_categorical(train_y)\n",
        "  valid_y_cat = to_categorical(valid_y)\n",
        "  test_y_cat = to_categorical(test_y)\n",
        "\n",
        "\n",
        "print (\"TRAIN_y_cat shape: \" + str(TRAIN_y_cat.shape))\n",
        "print (\"train_y_cat shape: \" + str(train_y_cat.shape))\n",
        "print (\"valid_y_cat shape: \" + str(valid_y_cat.shape))\n",
        "print (\"test_y_cat shape:  \" + str(test_y_cat.shape))"
      ],
      "execution_count": null,
      "outputs": [
        {
          "output_type": "stream",
          "text": [
            "TRAIN_y_cat shape: (8042, 3)\n",
            "train_y_cat shape: (6433, 3)\n",
            "valid_y_cat shape: (1609, 3)\n",
            "test_y_cat shape:  (2011, 3)\n"
          ],
          "name": "stdout"
        }
      ]
    },
    {
      "cell_type": "markdown",
      "metadata": {
        "id": "CInslTym8s4B"
      },
      "source": [
        "#Train"
      ]
    },
    {
      "cell_type": "code",
      "metadata": {
        "id": "DLAsiWQZ9E02"
      },
      "source": [
        "class_weights_train = class_weight.compute_class_weight('balanced',\n",
        "                                                 np.unique(train_y),\n",
        "                                                 train_y)\n",
        "\n",
        "weights_train = {}\n",
        "for i in range(len(class_weights_train)):\n",
        "  weights_train[i] = class_weights_train[i]\n",
        "\n",
        "#weights_train[1]=2\n"
      ],
      "execution_count": null,
      "outputs": []
    },
    {
      "cell_type": "code",
      "metadata": {
        "id": "LOTabRyNSn2B",
        "colab": {
          "base_uri": "https://localhost:8080/"
        },
        "outputId": "c0257500-7fe8-4189-e39c-5264b556fe6d"
      },
      "source": [
        "# Creación del modelo\n",
        "L2 = 0\n",
        "model = Sequential([\n",
        "                    Input(shape=[train_x.shape[-1]]),\n",
        "                    #Dense(units=Clases, input_shape= [train_x.shape[-1]], activation = softmax, kernel_regularizer= l2(0.001) ),\n",
        "                    #Dropout(0.25),\n",
        "                    #Dense(units=10, activation = relu),\n",
        "                    #Dropout(0.25),\n",
        "                    Dense(units=Clases, activation = softmax)\n",
        "                    ])\n",
        "\n",
        "# Arquitectura del modelo\n",
        "model.summary()\n",
        "Wsave = model.get_weights()\n"
      ],
      "execution_count": null,
      "outputs": [
        {
          "output_type": "stream",
          "text": [
            "Model: \"sequential_84\"\n",
            "_________________________________________________________________\n",
            "Layer (type)                 Output Shape              Param #   \n",
            "=================================================================\n",
            "dense_97 (Dense)             (None, 3)                 141       \n",
            "=================================================================\n",
            "Total params: 141\n",
            "Trainable params: 141\n",
            "Non-trainable params: 0\n",
            "_________________________________________________________________\n"
          ],
          "name": "stdout"
        }
      ]
    },
    {
      "cell_type": "code",
      "metadata": {
        "id": "wnYvtuTZUkTU"
      },
      "source": [
        "train_Weights = (train_y==0)*class_weights_train[0]+(train_y==1)*class_weights_train[1] + (train_y==2)*class_weights_train[2]\n",
        "#train_Weights = (train_y==0) + (train_y==1) + (train_y==2)\n",
        "#train_Weights = (train_y==0) + (train_y==1)*0 + (train_y==2)\n",
        "\n",
        "#valid_Weights = (valid_y==0) + (valid_y==1)*0 + (valid_y==2)\n",
        "valid_Weights = (valid_y==0)*class_weights_train[0]+(valid_y==1)*class_weights_train[1] + (valid_y==2)*class_weights_train[2]\n",
        "#valid_Weights = (valid_y==0) + (valid_y==1) + (valid_y==2)\n"
      ],
      "execution_count": null,
      "outputs": []
    },
    {
      "cell_type": "code",
      "metadata": {
        "id": "gb6WmtHQTRC9",
        "colab": {
          "base_uri": "https://localhost:8080/"
        },
        "outputId": "c725aa5a-1ec0-432e-a100-8c544663efb7"
      },
      "source": [
        "learning_rate  = 0.0002\n",
        "# Definición del optimizador, función de pérdidas y métricas\n",
        "model.compile(optimizer=pathlearning_rate=learning_rate), loss= 'categorical_crossentropy',metrics=['acc', 'categorical_crossentropy'], weighted_metrics=['acc','categorical_crossentropy'])\n",
        "# Early stopping\n",
        "stopping = EarlyStopping(monitor='val_weighted_categorical_crossentropy',min_delta=0,mode='auto',patience=15, restore_best_weights=True)\n",
        "# Ajuste de pesos\n",
        "History = model.fit(train_x, train_y_cat, sample_weight = train_Weights, epochs=250, batch_size=64, callbacks=[stopping], validation_data= (valid_x, valid_y_cat, valid_Weights))#, class_weight = weights_train)\n",
        "#History = model.fit(train_x, train_y_cat, epochs=250, batch_size=64, callbacks=[stopping], validation_data= (valid_x, valid_y_cat), class_weight = weights_train)\n",
        "#History = model.fit(train_x, train_y_cat, sample_weight = train_Weights/3, epochs=250, batch_size=64, callbacks=[stopping], validation_data= (valid_x, valid_y_cat, valid_Weights/3), class_weight = weights_train)\n",
        "#History = model.fit(train_x, train_y_cat, epochs=250, batch_size=64, callbacks=[stopping], validation_data= (valid_x, valid_y_cat))\n"
      ],
      "execution_count": null,
      "outputs": [
        {
          "output_type": "stream",
          "text": [
            "Epoch 1/250\n",
            "101/101 [==============================] - 1s 9ms/step - loss: 1.1572 - acc: 0.3549 - categorical_crossentropy: 1.1394 - weighted_acc: 0.3454 - weighted_categorical_crossentropy: 1.1602 - val_loss: 1.1374 - val_acc: 0.3163 - val_categorical_crossentropy: 1.1274 - val_weighted_acc: 0.3117 - val_weighted_categorical_crossentropy: 1.1366\n",
            "Epoch 2/250\n",
            "101/101 [==============================] - 0s 4ms/step - loss: 1.1169 - acc: 0.3604 - categorical_crossentropy: 1.1086 - weighted_acc: 0.3539 - weighted_categorical_crossentropy: 1.1162 - val_loss: 1.1232 - val_acc: 0.3132 - val_categorical_crossentropy: 1.1192 - val_weighted_acc: 0.3129 - val_weighted_categorical_crossentropy: 1.1225\n",
            "Epoch 3/250\n",
            "101/101 [==============================] - 0s 4ms/step - loss: 1.1080 - acc: 0.3480 - categorical_crossentropy: 1.1045 - weighted_acc: 0.3484 - weighted_categorical_crossentropy: 1.1069 - val_loss: 1.1198 - val_acc: 0.3250 - val_categorical_crossentropy: 1.1171 - val_weighted_acc: 0.3255 - val_weighted_categorical_crossentropy: 1.1190\n",
            "Epoch 4/250\n",
            "101/101 [==============================] - 0s 4ms/step - loss: 1.1086 - acc: 0.3489 - categorical_crossentropy: 1.1074 - weighted_acc: 0.3471 - weighted_categorical_crossentropy: 1.1102 - val_loss: 1.1179 - val_acc: 0.3269 - val_categorical_crossentropy: 1.1153 - val_weighted_acc: 0.3268 - val_weighted_categorical_crossentropy: 1.1171\n",
            "Epoch 5/250\n",
            "101/101 [==============================] - 0s 4ms/step - loss: 1.1024 - acc: 0.3574 - categorical_crossentropy: 1.1031 - weighted_acc: 0.3564 - weighted_categorical_crossentropy: 1.1049 - val_loss: 1.1165 - val_acc: 0.3219 - val_categorical_crossentropy: 1.1152 - val_weighted_acc: 0.3242 - val_weighted_categorical_crossentropy: 1.1157\n",
            "Epoch 6/250\n",
            "101/101 [==============================] - 0s 4ms/step - loss: 1.1107 - acc: 0.3473 - categorical_crossentropy: 1.1075 - weighted_acc: 0.3480 - weighted_categorical_crossentropy: 1.1084 - val_loss: 1.1152 - val_acc: 0.3244 - val_categorical_crossentropy: 1.1139 - val_weighted_acc: 0.3270 - val_weighted_categorical_crossentropy: 1.1144\n",
            "Epoch 7/250\n",
            "101/101 [==============================] - 0s 4ms/step - loss: 1.1061 - acc: 0.3489 - categorical_crossentropy: 1.1025 - weighted_acc: 0.3485 - weighted_categorical_crossentropy: 1.1034 - val_loss: 1.1139 - val_acc: 0.3313 - val_categorical_crossentropy: 1.1112 - val_weighted_acc: 0.3306 - val_weighted_categorical_crossentropy: 1.1131\n",
            "Epoch 8/250\n",
            "101/101 [==============================] - 0s 4ms/step - loss: 1.1063 - acc: 0.3504 - categorical_crossentropy: 1.1037 - weighted_acc: 0.3499 - weighted_categorical_crossentropy: 1.1047 - val_loss: 1.1127 - val_acc: 0.3350 - val_categorical_crossentropy: 1.1107 - val_weighted_acc: 0.3345 - val_weighted_categorical_crossentropy: 1.1119\n",
            "Epoch 9/250\n",
            "101/101 [==============================] - 0s 4ms/step - loss: 1.0997 - acc: 0.3644 - categorical_crossentropy: 1.0971 - weighted_acc: 0.3634 - weighted_categorical_crossentropy: 1.0990 - val_loss: 1.1117 - val_acc: 0.3393 - val_categorical_crossentropy: 1.1088 - val_weighted_acc: 0.3366 - val_weighted_categorical_crossentropy: 1.1109\n",
            "Epoch 10/250\n",
            "101/101 [==============================] - 0s 4ms/step - loss: 1.0962 - acc: 0.3678 - categorical_crossentropy: 1.0947 - weighted_acc: 0.3657 - weighted_categorical_crossentropy: 1.0968 - val_loss: 1.1107 - val_acc: 0.3393 - val_categorical_crossentropy: 1.1091 - val_weighted_acc: 0.3386 - val_weighted_categorical_crossentropy: 1.1099\n",
            "Epoch 11/250\n",
            "101/101 [==============================] - 0s 4ms/step - loss: 1.0989 - acc: 0.3636 - categorical_crossentropy: 1.0992 - weighted_acc: 0.3633 - weighted_categorical_crossentropy: 1.0997 - val_loss: 1.1099 - val_acc: 0.3400 - val_categorical_crossentropy: 1.1086 - val_weighted_acc: 0.3399 - val_weighted_categorical_crossentropy: 1.1091\n",
            "Epoch 12/250\n",
            "101/101 [==============================] - 0s 4ms/step - loss: 1.0907 - acc: 0.3814 - categorical_crossentropy: 1.0906 - weighted_acc: 0.3779 - weighted_categorical_crossentropy: 1.0922 - val_loss: 1.1089 - val_acc: 0.3412 - val_categorical_crossentropy: 1.1073 - val_weighted_acc: 0.3397 - val_weighted_categorical_crossentropy: 1.1081\n",
            "Epoch 13/250\n",
            "101/101 [==============================] - 0s 4ms/step - loss: 1.0986 - acc: 0.3630 - categorical_crossentropy: 1.0978 - weighted_acc: 0.3599 - weighted_categorical_crossentropy: 1.0983 - val_loss: 1.1083 - val_acc: 0.3431 - val_categorical_crossentropy: 1.1065 - val_weighted_acc: 0.3411 - val_weighted_categorical_crossentropy: 1.1075\n",
            "Epoch 14/250\n",
            "101/101 [==============================] - 0s 4ms/step - loss: 1.0987 - acc: 0.3714 - categorical_crossentropy: 1.0957 - weighted_acc: 0.3655 - weighted_categorical_crossentropy: 1.0977 - val_loss: 1.1075 - val_acc: 0.3474 - val_categorical_crossentropy: 1.1053 - val_weighted_acc: 0.3438 - val_weighted_categorical_crossentropy: 1.1067\n",
            "Epoch 15/250\n",
            "101/101 [==============================] - 0s 4ms/step - loss: 1.0937 - acc: 0.3736 - categorical_crossentropy: 1.0917 - weighted_acc: 0.3686 - weighted_categorical_crossentropy: 1.0935 - val_loss: 1.1069 - val_acc: 0.3449 - val_categorical_crossentropy: 1.1057 - val_weighted_acc: 0.3429 - val_weighted_categorical_crossentropy: 1.1061\n",
            "Epoch 16/250\n",
            "101/101 [==============================] - 0s 4ms/step - loss: 1.0958 - acc: 0.3805 - categorical_crossentropy: 1.0919 - weighted_acc: 0.3745 - weighted_categorical_crossentropy: 1.0933 - val_loss: 1.1062 - val_acc: 0.3468 - val_categorical_crossentropy: 1.1037 - val_weighted_acc: 0.3416 - val_weighted_categorical_crossentropy: 1.1054\n",
            "Epoch 17/250\n",
            "101/101 [==============================] - 0s 4ms/step - loss: 1.0854 - acc: 0.3903 - categorical_crossentropy: 1.0849 - weighted_acc: 0.3834 - weighted_categorical_crossentropy: 1.0870 - val_loss: 1.1056 - val_acc: 0.3462 - val_categorical_crossentropy: 1.1040 - val_weighted_acc: 0.3423 - val_weighted_categorical_crossentropy: 1.1048\n",
            "Epoch 18/250\n",
            "101/101 [==============================] - 0s 4ms/step - loss: 1.0940 - acc: 0.3837 - categorical_crossentropy: 1.0921 - weighted_acc: 0.3775 - weighted_categorical_crossentropy: 1.0933 - val_loss: 1.1050 - val_acc: 0.3518 - val_categorical_crossentropy: 1.1030 - val_weighted_acc: 0.3469 - val_weighted_categorical_crossentropy: 1.1043\n",
            "Epoch 19/250\n",
            "101/101 [==============================] - 0s 4ms/step - loss: 1.0943 - acc: 0.3856 - categorical_crossentropy: 1.0904 - weighted_acc: 0.3778 - weighted_categorical_crossentropy: 1.0922 - val_loss: 1.1046 - val_acc: 0.3555 - val_categorical_crossentropy: 1.1020 - val_weighted_acc: 0.3487 - val_weighted_categorical_crossentropy: 1.1039\n",
            "Epoch 20/250\n",
            "101/101 [==============================] - 0s 4ms/step - loss: 1.0833 - acc: 0.3936 - categorical_crossentropy: 1.0863 - weighted_acc: 0.3841 - weighted_categorical_crossentropy: 1.0888 - val_loss: 1.1041 - val_acc: 0.3443 - val_categorical_crossentropy: 1.1043 - val_weighted_acc: 0.3422 - val_weighted_categorical_crossentropy: 1.1033\n",
            "Epoch 21/250\n",
            "101/101 [==============================] - 0s 4ms/step - loss: 1.0880 - acc: 0.3886 - categorical_crossentropy: 1.0881 - weighted_acc: 0.3814 - weighted_categorical_crossentropy: 1.0885 - val_loss: 1.1039 - val_acc: 0.3567 - val_categorical_crossentropy: 1.1022 - val_weighted_acc: 0.3516 - val_weighted_categorical_crossentropy: 1.1032\n",
            "Epoch 22/250\n",
            "101/101 [==============================] - 0s 4ms/step - loss: 1.0853 - acc: 0.3871 - categorical_crossentropy: 1.0860 - weighted_acc: 0.3797 - weighted_categorical_crossentropy: 1.0866 - val_loss: 1.1035 - val_acc: 0.3543 - val_categorical_crossentropy: 1.1029 - val_weighted_acc: 0.3510 - val_weighted_categorical_crossentropy: 1.1027\n",
            "Epoch 23/250\n",
            "101/101 [==============================] - 0s 4ms/step - loss: 1.0881 - acc: 0.3843 - categorical_crossentropy: 1.0879 - weighted_acc: 0.3756 - weighted_categorical_crossentropy: 1.0888 - val_loss: 1.1028 - val_acc: 0.3567 - val_categorical_crossentropy: 1.1023 - val_weighted_acc: 0.3526 - val_weighted_categorical_crossentropy: 1.1021\n",
            "Epoch 24/250\n",
            "101/101 [==============================] - 0s 4ms/step - loss: 1.0901 - acc: 0.3768 - categorical_crossentropy: 1.0891 - weighted_acc: 0.3703 - weighted_categorical_crossentropy: 1.0891 - val_loss: 1.1024 - val_acc: 0.3605 - val_categorical_crossentropy: 1.1009 - val_weighted_acc: 0.3539 - val_weighted_categorical_crossentropy: 1.1016\n",
            "Epoch 25/250\n",
            "101/101 [==============================] - 0s 4ms/step - loss: 1.0836 - acc: 0.3901 - categorical_crossentropy: 1.0843 - weighted_acc: 0.3787 - weighted_categorical_crossentropy: 1.0860 - val_loss: 1.1021 - val_acc: 0.3630 - val_categorical_crossentropy: 1.1012 - val_weighted_acc: 0.3572 - val_weighted_categorical_crossentropy: 1.1013\n",
            "Epoch 26/250\n",
            "101/101 [==============================] - 0s 4ms/step - loss: 1.0841 - acc: 0.3931 - categorical_crossentropy: 1.0844 - weighted_acc: 0.3859 - weighted_categorical_crossentropy: 1.0845 - val_loss: 1.1019 - val_acc: 0.3586 - val_categorical_crossentropy: 1.1014 - val_weighted_acc: 0.3529 - val_weighted_categorical_crossentropy: 1.1011\n",
            "Epoch 27/250\n",
            "101/101 [==============================] - 0s 4ms/step - loss: 1.0911 - acc: 0.3889 - categorical_crossentropy: 1.0874 - weighted_acc: 0.3843 - weighted_categorical_crossentropy: 1.0866 - val_loss: 1.1016 - val_acc: 0.3673 - val_categorical_crossentropy: 1.0993 - val_weighted_acc: 0.3589 - val_weighted_categorical_crossentropy: 1.1009\n",
            "Epoch 28/250\n",
            "101/101 [==============================] - 0s 4ms/step - loss: 1.0849 - acc: 0.3900 - categorical_crossentropy: 1.0814 - weighted_acc: 0.3772 - weighted_categorical_crossentropy: 1.0841 - val_loss: 1.1013 - val_acc: 0.3754 - val_categorical_crossentropy: 1.0988 - val_weighted_acc: 0.3663 - val_weighted_categorical_crossentropy: 1.1005\n",
            "Epoch 29/250\n",
            "101/101 [==============================] - 0s 4ms/step - loss: 1.0880 - acc: 0.3928 - categorical_crossentropy: 1.0841 - weighted_acc: 0.3825 - weighted_categorical_crossentropy: 1.0859 - val_loss: 1.1011 - val_acc: 0.3741 - val_categorical_crossentropy: 1.0991 - val_weighted_acc: 0.3652 - val_weighted_categorical_crossentropy: 1.1004\n",
            "Epoch 30/250\n",
            "101/101 [==============================] - 0s 4ms/step - loss: 1.0873 - acc: 0.3957 - categorical_crossentropy: 1.0848 - weighted_acc: 0.3840 - weighted_categorical_crossentropy: 1.0872 - val_loss: 1.1008 - val_acc: 0.3735 - val_categorical_crossentropy: 1.0992 - val_weighted_acc: 0.3649 - val_weighted_categorical_crossentropy: 1.1001\n",
            "Epoch 31/250\n",
            "101/101 [==============================] - 0s 4ms/step - loss: 1.0861 - acc: 0.3957 - categorical_crossentropy: 1.0848 - weighted_acc: 0.3831 - weighted_categorical_crossentropy: 1.0869 - val_loss: 1.1008 - val_acc: 0.3717 - val_categorical_crossentropy: 1.0999 - val_weighted_acc: 0.3649 - val_weighted_categorical_crossentropy: 1.1000\n",
            "Epoch 32/250\n",
            "101/101 [==============================] - 0s 4ms/step - loss: 1.0857 - acc: 0.3856 - categorical_crossentropy: 1.0852 - weighted_acc: 0.3778 - weighted_categorical_crossentropy: 1.0847 - val_loss: 1.1003 - val_acc: 0.3810 - val_categorical_crossentropy: 1.0987 - val_weighted_acc: 0.3723 - val_weighted_categorical_crossentropy: 1.0995\n",
            "Epoch 33/250\n",
            "101/101 [==============================] - 0s 4ms/step - loss: 1.0906 - acc: 0.3913 - categorical_crossentropy: 1.0874 - weighted_acc: 0.3819 - weighted_categorical_crossentropy: 1.0876 - val_loss: 1.1001 - val_acc: 0.3779 - val_categorical_crossentropy: 1.0979 - val_weighted_acc: 0.3683 - val_weighted_categorical_crossentropy: 1.0993\n",
            "Epoch 34/250\n",
            "101/101 [==============================] - 0s 4ms/step - loss: 1.0853 - acc: 0.4039 - categorical_crossentropy: 1.0816 - weighted_acc: 0.3913 - weighted_categorical_crossentropy: 1.0838 - val_loss: 1.1000 - val_acc: 0.3816 - val_categorical_crossentropy: 1.0982 - val_weighted_acc: 0.3728 - val_weighted_categorical_crossentropy: 1.0992\n",
            "Epoch 35/250\n",
            "101/101 [==============================] - 0s 4ms/step - loss: 1.0838 - acc: 0.4008 - categorical_crossentropy: 1.0827 - weighted_acc: 0.3891 - weighted_categorical_crossentropy: 1.0845 - val_loss: 1.0997 - val_acc: 0.3816 - val_categorical_crossentropy: 1.0984 - val_weighted_acc: 0.3729 - val_weighted_categorical_crossentropy: 1.0989\n",
            "Epoch 36/250\n",
            "101/101 [==============================] - 0s 4ms/step - loss: 1.0865 - acc: 0.4027 - categorical_crossentropy: 1.0852 - weighted_acc: 0.3922 - weighted_categorical_crossentropy: 1.0860 - val_loss: 1.0995 - val_acc: 0.3828 - val_categorical_crossentropy: 1.0980 - val_weighted_acc: 0.3739 - val_weighted_categorical_crossentropy: 1.0987\n",
            "Epoch 37/250\n",
            "101/101 [==============================] - 0s 4ms/step - loss: 1.0835 - acc: 0.4148 - categorical_crossentropy: 1.0822 - weighted_acc: 0.4012 - weighted_categorical_crossentropy: 1.0841 - val_loss: 1.0993 - val_acc: 0.3816 - val_categorical_crossentropy: 1.0976 - val_weighted_acc: 0.3715 - val_weighted_categorical_crossentropy: 1.0985\n",
            "Epoch 38/250\n",
            "101/101 [==============================] - 0s 4ms/step - loss: 1.0861 - acc: 0.3966 - categorical_crossentropy: 1.0840 - weighted_acc: 0.3893 - weighted_categorical_crossentropy: 1.0839 - val_loss: 1.0989 - val_acc: 0.3841 - val_categorical_crossentropy: 1.0974 - val_weighted_acc: 0.3734 - val_weighted_categorical_crossentropy: 1.0981\n",
            "Epoch 39/250\n",
            "101/101 [==============================] - 0s 4ms/step - loss: 1.0873 - acc: 0.3868 - categorical_crossentropy: 1.0868 - weighted_acc: 0.3768 - weighted_categorical_crossentropy: 1.0875 - val_loss: 1.0988 - val_acc: 0.3866 - val_categorical_crossentropy: 1.0969 - val_weighted_acc: 0.3757 - val_weighted_categorical_crossentropy: 1.0980\n",
            "Epoch 40/250\n",
            "101/101 [==============================] - 0s 4ms/step - loss: 1.0848 - acc: 0.4071 - categorical_crossentropy: 1.0850 - weighted_acc: 0.3934 - weighted_categorical_crossentropy: 1.0873 - val_loss: 1.0988 - val_acc: 0.3866 - val_categorical_crossentropy: 1.0989 - val_weighted_acc: 0.3804 - val_weighted_categorical_crossentropy: 1.0981\n",
            "Epoch 41/250\n",
            "101/101 [==============================] - 0s 4ms/step - loss: 1.0840 - acc: 0.4072 - categorical_crossentropy: 1.0830 - weighted_acc: 0.3991 - weighted_categorical_crossentropy: 1.0826 - val_loss: 1.0985 - val_acc: 0.3847 - val_categorical_crossentropy: 1.0981 - val_weighted_acc: 0.3758 - val_weighted_categorical_crossentropy: 1.0978\n",
            "Epoch 42/250\n",
            "101/101 [==============================] - 0s 4ms/step - loss: 1.0843 - acc: 0.4069 - categorical_crossentropy: 1.0826 - weighted_acc: 0.3976 - weighted_categorical_crossentropy: 1.0820 - val_loss: 1.0984 - val_acc: 0.3866 - val_categorical_crossentropy: 1.0960 - val_weighted_acc: 0.3740 - val_weighted_categorical_crossentropy: 1.0976\n",
            "Epoch 43/250\n",
            "101/101 [==============================] - 0s 4ms/step - loss: 1.0827 - acc: 0.4094 - categorical_crossentropy: 1.0808 - weighted_acc: 0.3958 - weighted_categorical_crossentropy: 1.0836 - val_loss: 1.0983 - val_acc: 0.3897 - val_categorical_crossentropy: 1.0968 - val_weighted_acc: 0.3794 - val_weighted_categorical_crossentropy: 1.0975\n",
            "Epoch 44/250\n",
            "101/101 [==============================] - 0s 4ms/step - loss: 1.0848 - acc: 0.4104 - categorical_crossentropy: 1.0817 - weighted_acc: 0.4001 - weighted_categorical_crossentropy: 1.0816 - val_loss: 1.0981 - val_acc: 0.3891 - val_categorical_crossentropy: 1.0954 - val_weighted_acc: 0.3758 - val_weighted_categorical_crossentropy: 1.0973\n",
            "Epoch 45/250\n",
            "101/101 [==============================] - 0s 4ms/step - loss: 1.0773 - acc: 0.4161 - categorical_crossentropy: 1.0791 - weighted_acc: 0.4005 - weighted_categorical_crossentropy: 1.0814 - val_loss: 1.0979 - val_acc: 0.3866 - val_categorical_crossentropy: 1.0975 - val_weighted_acc: 0.3778 - val_weighted_categorical_crossentropy: 1.0972\n",
            "Epoch 46/250\n",
            "101/101 [==============================] - 0s 4ms/step - loss: 1.0818 - acc: 0.4090 - categorical_crossentropy: 1.0823 - weighted_acc: 0.3997 - weighted_categorical_crossentropy: 1.0823 - val_loss: 1.0978 - val_acc: 0.3897 - val_categorical_crossentropy: 1.0970 - val_weighted_acc: 0.3802 - val_weighted_categorical_crossentropy: 1.0971\n",
            "Epoch 47/250\n",
            "101/101 [==============================] - 0s 4ms/step - loss: 1.0851 - acc: 0.3978 - categorical_crossentropy: 1.0833 - weighted_acc: 0.3893 - weighted_categorical_crossentropy: 1.0831 - val_loss: 1.0978 - val_acc: 0.3915 - val_categorical_crossentropy: 1.0957 - val_weighted_acc: 0.3799 - val_weighted_categorical_crossentropy: 1.0970\n",
            "Epoch 48/250\n",
            "101/101 [==============================] - 0s 4ms/step - loss: 1.0851 - acc: 0.4069 - categorical_crossentropy: 1.0836 - weighted_acc: 0.3969 - weighted_categorical_crossentropy: 1.0843 - val_loss: 1.0977 - val_acc: 0.3897 - val_categorical_crossentropy: 1.0957 - val_weighted_acc: 0.3780 - val_weighted_categorical_crossentropy: 1.0969\n",
            "Epoch 49/250\n",
            "101/101 [==============================] - 0s 4ms/step - loss: 1.0861 - acc: 0.4092 - categorical_crossentropy: 1.0828 - weighted_acc: 0.3972 - weighted_categorical_crossentropy: 1.0836 - val_loss: 1.0974 - val_acc: 0.3903 - val_categorical_crossentropy: 1.0964 - val_weighted_acc: 0.3805 - val_weighted_categorical_crossentropy: 1.0966\n",
            "Epoch 50/250\n",
            "101/101 [==============================] - 0s 4ms/step - loss: 1.0762 - acc: 0.4266 - categorical_crossentropy: 1.0752 - weighted_acc: 0.4131 - weighted_categorical_crossentropy: 1.0775 - val_loss: 1.0972 - val_acc: 0.3860 - val_categorical_crossentropy: 1.0961 - val_weighted_acc: 0.3744 - val_weighted_categorical_crossentropy: 1.0964\n",
            "Epoch 51/250\n",
            "101/101 [==============================] - 0s 4ms/step - loss: 1.0845 - acc: 0.4010 - categorical_crossentropy: 1.0832 - weighted_acc: 0.3874 - weighted_categorical_crossentropy: 1.0847 - val_loss: 1.0970 - val_acc: 0.3866 - val_categorical_crossentropy: 1.0958 - val_weighted_acc: 0.3747 - val_weighted_categorical_crossentropy: 1.0963\n",
            "Epoch 52/250\n",
            "101/101 [==============================] - 0s 4ms/step - loss: 1.0779 - acc: 0.4179 - categorical_crossentropy: 1.0802 - weighted_acc: 0.4001 - weighted_categorical_crossentropy: 1.0835 - val_loss: 1.0969 - val_acc: 0.3847 - val_categorical_crossentropy: 1.0976 - val_weighted_acc: 0.3767 - val_weighted_categorical_crossentropy: 1.0962\n",
            "Epoch 53/250\n",
            "101/101 [==============================] - 0s 4ms/step - loss: 1.0904 - acc: 0.3947 - categorical_crossentropy: 1.0895 - weighted_acc: 0.3885 - weighted_categorical_crossentropy: 1.0874 - val_loss: 1.0968 - val_acc: 0.3897 - val_categorical_crossentropy: 1.0947 - val_weighted_acc: 0.3759 - val_weighted_categorical_crossentropy: 1.0960\n",
            "Epoch 54/250\n",
            "101/101 [==============================] - 0s 4ms/step - loss: 1.0776 - acc: 0.4124 - categorical_crossentropy: 1.0783 - weighted_acc: 0.3961 - weighted_categorical_crossentropy: 1.0808 - val_loss: 1.0966 - val_acc: 0.3891 - val_categorical_crossentropy: 1.0957 - val_weighted_acc: 0.3767 - val_weighted_categorical_crossentropy: 1.0959\n",
            "Epoch 55/250\n",
            "101/101 [==============================] - 0s 4ms/step - loss: 1.0843 - acc: 0.4000 - categorical_crossentropy: 1.0825 - weighted_acc: 0.3887 - weighted_categorical_crossentropy: 1.0822 - val_loss: 1.0966 - val_acc: 0.3891 - val_categorical_crossentropy: 1.0948 - val_weighted_acc: 0.3755 - val_weighted_categorical_crossentropy: 1.0958\n",
            "Epoch 56/250\n",
            "101/101 [==============================] - 0s 4ms/step - loss: 1.0819 - acc: 0.4138 - categorical_crossentropy: 1.0788 - weighted_acc: 0.4024 - weighted_categorical_crossentropy: 1.0797 - val_loss: 1.0966 - val_acc: 0.3897 - val_categorical_crossentropy: 1.0943 - val_weighted_acc: 0.3752 - val_weighted_categorical_crossentropy: 1.0958\n",
            "Epoch 57/250\n",
            "101/101 [==============================] - 0s 4ms/step - loss: 1.0846 - acc: 0.4117 - categorical_crossentropy: 1.0816 - weighted_acc: 0.3975 - weighted_categorical_crossentropy: 1.0829 - val_loss: 1.0965 - val_acc: 0.3878 - val_categorical_crossentropy: 1.0949 - val_weighted_acc: 0.3744 - val_weighted_categorical_crossentropy: 1.0957\n",
            "Epoch 58/250\n",
            "101/101 [==============================] - 0s 4ms/step - loss: 1.0822 - acc: 0.4073 - categorical_crossentropy: 1.0798 - weighted_acc: 0.3929 - weighted_categorical_crossentropy: 1.0810 - val_loss: 1.0964 - val_acc: 0.3878 - val_categorical_crossentropy: 1.0953 - val_weighted_acc: 0.3752 - val_weighted_categorical_crossentropy: 1.0956\n",
            "Epoch 59/250\n",
            "101/101 [==============================] - 0s 4ms/step - loss: 1.0809 - acc: 0.4123 - categorical_crossentropy: 1.0808 - weighted_acc: 0.3969 - weighted_categorical_crossentropy: 1.0829 - val_loss: 1.0963 - val_acc: 0.3860 - val_categorical_crossentropy: 1.0959 - val_weighted_acc: 0.3755 - val_weighted_categorical_crossentropy: 1.0955\n",
            "Epoch 60/250\n",
            "101/101 [==============================] - 0s 4ms/step - loss: 1.0809 - acc: 0.4134 - categorical_crossentropy: 1.0797 - weighted_acc: 0.4005 - weighted_categorical_crossentropy: 1.0803 - val_loss: 1.0961 - val_acc: 0.3909 - val_categorical_crossentropy: 1.0946 - val_weighted_acc: 0.3767 - val_weighted_categorical_crossentropy: 1.0953\n",
            "Epoch 61/250\n",
            "101/101 [==============================] - 0s 4ms/step - loss: 1.0791 - acc: 0.4155 - categorical_crossentropy: 1.0781 - weighted_acc: 0.4013 - weighted_categorical_crossentropy: 1.0795 - val_loss: 1.0960 - val_acc: 0.3897 - val_categorical_crossentropy: 1.0946 - val_weighted_acc: 0.3755 - val_weighted_categorical_crossentropy: 1.0952\n",
            "Epoch 62/250\n",
            "101/101 [==============================] - 0s 4ms/step - loss: 1.0798 - acc: 0.4160 - categorical_crossentropy: 1.0810 - weighted_acc: 0.4011 - weighted_categorical_crossentropy: 1.0828 - val_loss: 1.0960 - val_acc: 0.3853 - val_categorical_crossentropy: 1.0955 - val_weighted_acc: 0.3744 - val_weighted_categorical_crossentropy: 1.0952\n",
            "Epoch 63/250\n",
            "101/101 [==============================] - 0s 4ms/step - loss: 1.0788 - acc: 0.4209 - categorical_crossentropy: 1.0783 - weighted_acc: 0.4073 - weighted_categorical_crossentropy: 1.0795 - val_loss: 1.0959 - val_acc: 0.3878 - val_categorical_crossentropy: 1.0951 - val_weighted_acc: 0.3758 - val_weighted_categorical_crossentropy: 1.0952\n",
            "Epoch 64/250\n",
            "101/101 [==============================] - 0s 4ms/step - loss: 1.0787 - acc: 0.4143 - categorical_crossentropy: 1.0774 - weighted_acc: 0.4027 - weighted_categorical_crossentropy: 1.0780 - val_loss: 1.0957 - val_acc: 0.3915 - val_categorical_crossentropy: 1.0940 - val_weighted_acc: 0.3769 - val_weighted_categorical_crossentropy: 1.0949\n",
            "Epoch 65/250\n",
            "101/101 [==============================] - 0s 4ms/step - loss: 1.0780 - acc: 0.4117 - categorical_crossentropy: 1.0805 - weighted_acc: 0.3940 - weighted_categorical_crossentropy: 1.0830 - val_loss: 1.0957 - val_acc: 0.3884 - val_categorical_crossentropy: 1.0949 - val_weighted_acc: 0.3757 - val_weighted_categorical_crossentropy: 1.0949\n",
            "Epoch 66/250\n",
            "101/101 [==============================] - 0s 4ms/step - loss: 1.0818 - acc: 0.4133 - categorical_crossentropy: 1.0838 - weighted_acc: 0.4003 - weighted_categorical_crossentropy: 1.0841 - val_loss: 1.0954 - val_acc: 0.3872 - val_categorical_crossentropy: 1.0957 - val_weighted_acc: 0.3759 - val_weighted_categorical_crossentropy: 1.0946\n",
            "Epoch 67/250\n",
            "101/101 [==============================] - 0s 4ms/step - loss: 1.0795 - acc: 0.4102 - categorical_crossentropy: 1.0782 - weighted_acc: 0.4001 - weighted_categorical_crossentropy: 1.0774 - val_loss: 1.0956 - val_acc: 0.3915 - val_categorical_crossentropy: 1.0940 - val_weighted_acc: 0.3772 - val_weighted_categorical_crossentropy: 1.0948\n",
            "Epoch 68/250\n",
            "101/101 [==============================] - 0s 5ms/step - loss: 1.0800 - acc: 0.4163 - categorical_crossentropy: 1.0781 - weighted_acc: 0.4030 - weighted_categorical_crossentropy: 1.0794 - val_loss: 1.0955 - val_acc: 0.3922 - val_categorical_crossentropy: 1.0934 - val_weighted_acc: 0.3770 - val_weighted_categorical_crossentropy: 1.0948\n",
            "Epoch 69/250\n",
            "101/101 [==============================] - 0s 4ms/step - loss: 1.0806 - acc: 0.4213 - categorical_crossentropy: 1.0785 - weighted_acc: 0.4076 - weighted_categorical_crossentropy: 1.0799 - val_loss: 1.0954 - val_acc: 0.3928 - val_categorical_crossentropy: 1.0946 - val_weighted_acc: 0.3800 - val_weighted_categorical_crossentropy: 1.0946\n",
            "Epoch 70/250\n",
            "101/101 [==============================] - 0s 4ms/step - loss: 1.0782 - acc: 0.4124 - categorical_crossentropy: 1.0782 - weighted_acc: 0.3975 - weighted_categorical_crossentropy: 1.0791 - val_loss: 1.0952 - val_acc: 0.3915 - val_categorical_crossentropy: 1.0949 - val_weighted_acc: 0.3794 - val_weighted_categorical_crossentropy: 1.0944\n",
            "Epoch 71/250\n",
            "101/101 [==============================] - 0s 4ms/step - loss: 1.0768 - acc: 0.4159 - categorical_crossentropy: 1.0760 - weighted_acc: 0.4008 - weighted_categorical_crossentropy: 1.0772 - val_loss: 1.0952 - val_acc: 0.3953 - val_categorical_crossentropy: 1.0944 - val_weighted_acc: 0.3817 - val_weighted_categorical_crossentropy: 1.0944\n",
            "Epoch 72/250\n",
            "101/101 [==============================] - 0s 4ms/step - loss: 1.0794 - acc: 0.4146 - categorical_crossentropy: 1.0773 - weighted_acc: 0.3999 - weighted_categorical_crossentropy: 1.0786 - val_loss: 1.0952 - val_acc: 0.3940 - val_categorical_crossentropy: 1.0939 - val_weighted_acc: 0.3798 - val_weighted_categorical_crossentropy: 1.0944\n",
            "Epoch 73/250\n",
            "101/101 [==============================] - 0s 4ms/step - loss: 1.0851 - acc: 0.4078 - categorical_crossentropy: 1.0839 - weighted_acc: 0.3942 - weighted_categorical_crossentropy: 1.0843 - val_loss: 1.0951 - val_acc: 0.3928 - val_categorical_crossentropy: 1.0939 - val_weighted_acc: 0.3788 - val_weighted_categorical_crossentropy: 1.0944\n",
            "Epoch 74/250\n",
            "101/101 [==============================] - 0s 4ms/step - loss: 1.0754 - acc: 0.4207 - categorical_crossentropy: 1.0759 - weighted_acc: 0.4057 - weighted_categorical_crossentropy: 1.0772 - val_loss: 1.0952 - val_acc: 0.3884 - val_categorical_crossentropy: 1.0947 - val_weighted_acc: 0.3763 - val_weighted_categorical_crossentropy: 1.0945\n",
            "Epoch 75/250\n",
            "101/101 [==============================] - 0s 4ms/step - loss: 1.0721 - acc: 0.4225 - categorical_crossentropy: 1.0741 - weighted_acc: 0.4066 - weighted_categorical_crossentropy: 1.0765 - val_loss: 1.0949 - val_acc: 0.3903 - val_categorical_crossentropy: 1.0949 - val_weighted_acc: 0.3786 - val_weighted_categorical_crossentropy: 1.0942\n",
            "Epoch 76/250\n",
            "101/101 [==============================] - 0s 4ms/step - loss: 1.0837 - acc: 0.4081 - categorical_crossentropy: 1.0842 - weighted_acc: 0.3970 - weighted_categorical_crossentropy: 1.0839 - val_loss: 1.0948 - val_acc: 0.3928 - val_categorical_crossentropy: 1.0938 - val_weighted_acc: 0.3790 - val_weighted_categorical_crossentropy: 1.0941\n",
            "Epoch 77/250\n",
            "101/101 [==============================] - 0s 4ms/step - loss: 1.0749 - acc: 0.4168 - categorical_crossentropy: 1.0768 - weighted_acc: 0.4005 - weighted_categorical_crossentropy: 1.0783 - val_loss: 1.0946 - val_acc: 0.3934 - val_categorical_crossentropy: 1.0952 - val_weighted_acc: 0.3825 - val_weighted_categorical_crossentropy: 1.0939\n",
            "Epoch 78/250\n",
            "101/101 [==============================] - 0s 4ms/step - loss: 1.0806 - acc: 0.4211 - categorical_crossentropy: 1.0806 - weighted_acc: 0.4083 - weighted_categorical_crossentropy: 1.0809 - val_loss: 1.0949 - val_acc: 0.3897 - val_categorical_crossentropy: 1.0930 - val_weighted_acc: 0.3742 - val_weighted_categorical_crossentropy: 1.0942\n",
            "Epoch 79/250\n",
            "101/101 [==============================] - 0s 4ms/step - loss: 1.0810 - acc: 0.4132 - categorical_crossentropy: 1.0812 - weighted_acc: 0.3991 - weighted_categorical_crossentropy: 1.0821 - val_loss: 1.0948 - val_acc: 0.3897 - val_categorical_crossentropy: 1.0933 - val_weighted_acc: 0.3742 - val_weighted_categorical_crossentropy: 1.0940\n",
            "Epoch 80/250\n",
            "101/101 [==============================] - 0s 4ms/step - loss: 1.0730 - acc: 0.4344 - categorical_crossentropy: 1.0710 - weighted_acc: 0.4168 - weighted_categorical_crossentropy: 1.0740 - val_loss: 1.0948 - val_acc: 0.3928 - val_categorical_crossentropy: 1.0937 - val_weighted_acc: 0.3786 - val_weighted_categorical_crossentropy: 1.0940\n",
            "Epoch 81/250\n",
            "101/101 [==============================] - 0s 4ms/step - loss: 1.0801 - acc: 0.4132 - categorical_crossentropy: 1.0789 - weighted_acc: 0.3978 - weighted_categorical_crossentropy: 1.0799 - val_loss: 1.0948 - val_acc: 0.3884 - val_categorical_crossentropy: 1.0943 - val_weighted_acc: 0.3766 - val_weighted_categorical_crossentropy: 1.0940\n",
            "Epoch 82/250\n",
            "101/101 [==============================] - 0s 4ms/step - loss: 1.0800 - acc: 0.4190 - categorical_crossentropy: 1.0780 - weighted_acc: 0.4078 - weighted_categorical_crossentropy: 1.0779 - val_loss: 1.0947 - val_acc: 0.3928 - val_categorical_crossentropy: 1.0932 - val_weighted_acc: 0.3779 - val_weighted_categorical_crossentropy: 1.0939\n",
            "Epoch 83/250\n",
            "101/101 [==============================] - 0s 4ms/step - loss: 1.0810 - acc: 0.4124 - categorical_crossentropy: 1.0793 - weighted_acc: 0.3988 - weighted_categorical_crossentropy: 1.0796 - val_loss: 1.0948 - val_acc: 0.3922 - val_categorical_crossentropy: 1.0921 - val_weighted_acc: 0.3758 - val_weighted_categorical_crossentropy: 1.0940\n",
            "Epoch 84/250\n",
            "101/101 [==============================] - 0s 4ms/step - loss: 1.0770 - acc: 0.4268 - categorical_crossentropy: 1.0764 - weighted_acc: 0.4132 - weighted_categorical_crossentropy: 1.0778 - val_loss: 1.0944 - val_acc: 0.3959 - val_categorical_crossentropy: 1.0925 - val_weighted_acc: 0.3804 - val_weighted_categorical_crossentropy: 1.0936\n",
            "Epoch 85/250\n",
            "101/101 [==============================] - 0s 4ms/step - loss: 1.0827 - acc: 0.4082 - categorical_crossentropy: 1.0783 - weighted_acc: 0.3934 - weighted_categorical_crossentropy: 1.0794 - val_loss: 1.0945 - val_acc: 0.3915 - val_categorical_crossentropy: 1.0923 - val_weighted_acc: 0.3753 - val_weighted_categorical_crossentropy: 1.0938\n",
            "Epoch 86/250\n",
            "101/101 [==============================] - 0s 4ms/step - loss: 1.0793 - acc: 0.4209 - categorical_crossentropy: 1.0768 - weighted_acc: 0.4041 - weighted_categorical_crossentropy: 1.0790 - val_loss: 1.0950 - val_acc: 0.3915 - val_categorical_crossentropy: 1.0939 - val_weighted_acc: 0.3795 - val_weighted_categorical_crossentropy: 1.0942\n",
            "Epoch 87/250\n",
            "101/101 [==============================] - 0s 4ms/step - loss: 1.0736 - acc: 0.4252 - categorical_crossentropy: 1.0726 - weighted_acc: 0.4137 - weighted_categorical_crossentropy: 1.0727 - val_loss: 1.0944 - val_acc: 0.3928 - val_categorical_crossentropy: 1.0938 - val_weighted_acc: 0.3800 - val_weighted_categorical_crossentropy: 1.0936\n",
            "Epoch 88/250\n",
            "101/101 [==============================] - 0s 4ms/step - loss: 1.0846 - acc: 0.4039 - categorical_crossentropy: 1.0823 - weighted_acc: 0.3904 - weighted_categorical_crossentropy: 1.0829 - val_loss: 1.0944 - val_acc: 0.3922 - val_categorical_crossentropy: 1.0928 - val_weighted_acc: 0.3773 - val_weighted_categorical_crossentropy: 1.0936\n",
            "Epoch 89/250\n",
            "101/101 [==============================] - 0s 4ms/step - loss: 1.0771 - acc: 0.4212 - categorical_crossentropy: 1.0758 - weighted_acc: 0.4067 - weighted_categorical_crossentropy: 1.0762 - val_loss: 1.0944 - val_acc: 0.3934 - val_categorical_crossentropy: 1.0937 - val_weighted_acc: 0.3804 - val_weighted_categorical_crossentropy: 1.0936\n",
            "Epoch 90/250\n",
            "101/101 [==============================] - 0s 4ms/step - loss: 1.0828 - acc: 0.4160 - categorical_crossentropy: 1.0796 - weighted_acc: 0.4024 - weighted_categorical_crossentropy: 1.0802 - val_loss: 1.0942 - val_acc: 0.3978 - val_categorical_crossentropy: 1.0931 - val_weighted_acc: 0.3841 - val_weighted_categorical_crossentropy: 1.0934\n",
            "Epoch 91/250\n",
            "101/101 [==============================] - 0s 4ms/step - loss: 1.0835 - acc: 0.4137 - categorical_crossentropy: 1.0803 - weighted_acc: 0.3975 - weighted_categorical_crossentropy: 1.0814 - val_loss: 1.0942 - val_acc: 0.3959 - val_categorical_crossentropy: 1.0917 - val_weighted_acc: 0.3793 - val_weighted_categorical_crossentropy: 1.0934\n",
            "Epoch 92/250\n",
            "101/101 [==============================] - 0s 4ms/step - loss: 1.0776 - acc: 0.4178 - categorical_crossentropy: 1.0784 - weighted_acc: 0.3997 - weighted_categorical_crossentropy: 1.0810 - val_loss: 1.0942 - val_acc: 0.3928 - val_categorical_crossentropy: 1.0940 - val_weighted_acc: 0.3810 - val_weighted_categorical_crossentropy: 1.0934\n",
            "Epoch 93/250\n",
            "101/101 [==============================] - 0s 4ms/step - loss: 1.0812 - acc: 0.4155 - categorical_crossentropy: 1.0811 - weighted_acc: 0.4049 - weighted_categorical_crossentropy: 1.0799 - val_loss: 1.0943 - val_acc: 0.3940 - val_categorical_crossentropy: 1.0932 - val_weighted_acc: 0.3807 - val_weighted_categorical_crossentropy: 1.0935\n",
            "Epoch 94/250\n",
            "101/101 [==============================] - 0s 4ms/step - loss: 1.0786 - acc: 0.4163 - categorical_crossentropy: 1.0796 - weighted_acc: 0.3995 - weighted_categorical_crossentropy: 1.0820 - val_loss: 1.0942 - val_acc: 0.3947 - val_categorical_crossentropy: 1.0938 - val_weighted_acc: 0.3826 - val_weighted_categorical_crossentropy: 1.0934\n",
            "Epoch 95/250\n",
            "101/101 [==============================] - 0s 4ms/step - loss: 1.0771 - acc: 0.4181 - categorical_crossentropy: 1.0810 - weighted_acc: 0.4063 - weighted_categorical_crossentropy: 1.0818 - val_loss: 1.0940 - val_acc: 0.3947 - val_categorical_crossentropy: 1.0939 - val_weighted_acc: 0.3828 - val_weighted_categorical_crossentropy: 1.0932\n",
            "Epoch 96/250\n",
            "101/101 [==============================] - 0s 4ms/step - loss: 1.0815 - acc: 0.4041 - categorical_crossentropy: 1.0814 - weighted_acc: 0.3906 - weighted_categorical_crossentropy: 1.0815 - val_loss: 1.0940 - val_acc: 0.3990 - val_categorical_crossentropy: 1.0927 - val_weighted_acc: 0.3847 - val_weighted_categorical_crossentropy: 1.0932\n",
            "Epoch 97/250\n",
            "101/101 [==============================] - 0s 4ms/step - loss: 1.0776 - acc: 0.4226 - categorical_crossentropy: 1.0761 - weighted_acc: 0.4052 - weighted_categorical_crossentropy: 1.0777 - val_loss: 1.0938 - val_acc: 0.4015 - val_categorical_crossentropy: 1.0938 - val_weighted_acc: 0.3899 - val_weighted_categorical_crossentropy: 1.0931\n",
            "Epoch 98/250\n",
            "101/101 [==============================] - 0s 4ms/step - loss: 1.0789 - acc: 0.4134 - categorical_crossentropy: 1.0795 - weighted_acc: 0.3974 - weighted_categorical_crossentropy: 1.0811 - val_loss: 1.0940 - val_acc: 0.3978 - val_categorical_crossentropy: 1.0932 - val_weighted_acc: 0.3849 - val_weighted_categorical_crossentropy: 1.0933\n",
            "Epoch 99/250\n",
            "101/101 [==============================] - 0s 4ms/step - loss: 1.0774 - acc: 0.4094 - categorical_crossentropy: 1.0773 - weighted_acc: 0.3997 - weighted_categorical_crossentropy: 1.0766 - val_loss: 1.0939 - val_acc: 0.3971 - val_categorical_crossentropy: 1.0933 - val_weighted_acc: 0.3845 - val_weighted_categorical_crossentropy: 1.0932\n",
            "Epoch 100/250\n",
            "101/101 [==============================] - 0s 4ms/step - loss: 1.0786 - acc: 0.4286 - categorical_crossentropy: 1.0766 - weighted_acc: 0.4133 - weighted_categorical_crossentropy: 1.0781 - val_loss: 1.0940 - val_acc: 0.3922 - val_categorical_crossentropy: 1.0944 - val_weighted_acc: 0.3824 - val_weighted_categorical_crossentropy: 1.0933\n",
            "Epoch 101/250\n",
            "101/101 [==============================] - 0s 4ms/step - loss: 1.0753 - acc: 0.4240 - categorical_crossentropy: 1.0782 - weighted_acc: 0.4087 - weighted_categorical_crossentropy: 1.0795 - val_loss: 1.0939 - val_acc: 0.3965 - val_categorical_crossentropy: 1.0938 - val_weighted_acc: 0.3852 - val_weighted_categorical_crossentropy: 1.0931\n",
            "Epoch 102/250\n",
            "101/101 [==============================] - 0s 4ms/step - loss: 1.0789 - acc: 0.4160 - categorical_crossentropy: 1.0794 - weighted_acc: 0.4017 - weighted_categorical_crossentropy: 1.0802 - val_loss: 1.0941 - val_acc: 0.3922 - val_categorical_crossentropy: 1.0940 - val_weighted_acc: 0.3821 - val_weighted_categorical_crossentropy: 1.0933\n",
            "Epoch 103/250\n",
            "101/101 [==============================] - 0s 4ms/step - loss: 1.0781 - acc: 0.4285 - categorical_crossentropy: 1.0781 - weighted_acc: 0.4134 - weighted_categorical_crossentropy: 1.0798 - val_loss: 1.0941 - val_acc: 0.3934 - val_categorical_crossentropy: 1.0932 - val_weighted_acc: 0.3809 - val_weighted_categorical_crossentropy: 1.0933\n",
            "Epoch 104/250\n",
            "101/101 [==============================] - 0s 4ms/step - loss: 1.0792 - acc: 0.4190 - categorical_crossentropy: 1.0761 - weighted_acc: 0.4048 - weighted_categorical_crossentropy: 1.0767 - val_loss: 1.0940 - val_acc: 0.3978 - val_categorical_crossentropy: 1.0916 - val_weighted_acc: 0.3820 - val_weighted_categorical_crossentropy: 1.0932\n",
            "Epoch 105/250\n",
            "101/101 [==============================] - 0s 4ms/step - loss: 1.0814 - acc: 0.4220 - categorical_crossentropy: 1.0779 - weighted_acc: 0.4053 - weighted_categorical_crossentropy: 1.0800 - val_loss: 1.0939 - val_acc: 0.4009 - val_categorical_crossentropy: 1.0923 - val_weighted_acc: 0.3870 - val_weighted_categorical_crossentropy: 1.0931\n",
            "Epoch 106/250\n",
            "101/101 [==============================] - 0s 4ms/step - loss: 1.0782 - acc: 0.4228 - categorical_crossentropy: 1.0759 - weighted_acc: 0.4052 - weighted_categorical_crossentropy: 1.0777 - val_loss: 1.0939 - val_acc: 0.3996 - val_categorical_crossentropy: 1.0919 - val_weighted_acc: 0.3847 - val_weighted_categorical_crossentropy: 1.0931\n",
            "Epoch 107/250\n",
            "101/101 [==============================] - 0s 4ms/step - loss: 1.0783 - acc: 0.4197 - categorical_crossentropy: 1.0787 - weighted_acc: 0.4056 - weighted_categorical_crossentropy: 1.0795 - val_loss: 1.0936 - val_acc: 0.3990 - val_categorical_crossentropy: 1.0936 - val_weighted_acc: 0.3870 - val_weighted_categorical_crossentropy: 1.0928\n",
            "Epoch 108/250\n",
            "101/101 [==============================] - 0s 4ms/step - loss: 1.0840 - acc: 0.4118 - categorical_crossentropy: 1.0801 - weighted_acc: 0.3990 - weighted_categorical_crossentropy: 1.0799 - val_loss: 1.0938 - val_acc: 0.3990 - val_categorical_crossentropy: 1.0915 - val_weighted_acc: 0.3832 - val_weighted_categorical_crossentropy: 1.0930\n",
            "Epoch 109/250\n",
            "101/101 [==============================] - 0s 4ms/step - loss: 1.0822 - acc: 0.4086 - categorical_crossentropy: 1.0777 - weighted_acc: 0.3951 - weighted_categorical_crossentropy: 1.0779 - val_loss: 1.0936 - val_acc: 0.4021 - val_categorical_crossentropy: 1.0912 - val_weighted_acc: 0.3868 - val_weighted_categorical_crossentropy: 1.0928\n",
            "Epoch 110/250\n",
            "101/101 [==============================] - 0s 4ms/step - loss: 1.0764 - acc: 0.4273 - categorical_crossentropy: 1.0750 - weighted_acc: 0.4085 - weighted_categorical_crossentropy: 1.0771 - val_loss: 1.0936 - val_acc: 0.3996 - val_categorical_crossentropy: 1.0920 - val_weighted_acc: 0.3853 - val_weighted_categorical_crossentropy: 1.0928\n",
            "Epoch 111/250\n",
            "101/101 [==============================] - 0s 4ms/step - loss: 1.0786 - acc: 0.4186 - categorical_crossentropy: 1.0777 - weighted_acc: 0.4045 - weighted_categorical_crossentropy: 1.0788 - val_loss: 1.0935 - val_acc: 0.4002 - val_categorical_crossentropy: 1.0918 - val_weighted_acc: 0.3858 - val_weighted_categorical_crossentropy: 1.0928\n",
            "Epoch 112/250\n",
            "101/101 [==============================] - 0s 4ms/step - loss: 1.0868 - acc: 0.4102 - categorical_crossentropy: 1.0832 - weighted_acc: 0.3984 - weighted_categorical_crossentropy: 1.0830 - val_loss: 1.0937 - val_acc: 0.3990 - val_categorical_crossentropy: 1.0912 - val_weighted_acc: 0.3829 - val_weighted_categorical_crossentropy: 1.0929\n",
            "Epoch 113/250\n",
            "101/101 [==============================] - 0s 4ms/step - loss: 1.0803 - acc: 0.4254 - categorical_crossentropy: 1.0771 - weighted_acc: 0.4084 - weighted_categorical_crossentropy: 1.0791 - val_loss: 1.0936 - val_acc: 0.3990 - val_categorical_crossentropy: 1.0916 - val_weighted_acc: 0.3839 - val_weighted_categorical_crossentropy: 1.0929\n",
            "Epoch 114/250\n",
            "101/101 [==============================] - 0s 4ms/step - loss: 1.0851 - acc: 0.4159 - categorical_crossentropy: 1.0790 - weighted_acc: 0.3977 - weighted_categorical_crossentropy: 1.0813 - val_loss: 1.0935 - val_acc: 0.4027 - val_categorical_crossentropy: 1.0912 - val_weighted_acc: 0.3876 - val_weighted_categorical_crossentropy: 1.0927\n",
            "Epoch 115/250\n",
            "101/101 [==============================] - 0s 4ms/step - loss: 1.0717 - acc: 0.4321 - categorical_crossentropy: 1.0714 - weighted_acc: 0.4099 - weighted_categorical_crossentropy: 1.0756 - val_loss: 1.0938 - val_acc: 0.3965 - val_categorical_crossentropy: 1.0936 - val_weighted_acc: 0.3864 - val_weighted_categorical_crossentropy: 1.0931\n",
            "Epoch 116/250\n",
            "101/101 [==============================] - 0s 4ms/step - loss: 1.0752 - acc: 0.4243 - categorical_crossentropy: 1.0772 - weighted_acc: 0.4102 - weighted_categorical_crossentropy: 1.0778 - val_loss: 1.0937 - val_acc: 0.4015 - val_categorical_crossentropy: 1.0928 - val_weighted_acc: 0.3897 - val_weighted_categorical_crossentropy: 1.0929\n",
            "Epoch 117/250\n",
            "101/101 [==============================] - 0s 4ms/step - loss: 1.0789 - acc: 0.4221 - categorical_crossentropy: 1.0785 - weighted_acc: 0.4079 - weighted_categorical_crossentropy: 1.0789 - val_loss: 1.0935 - val_acc: 0.4021 - val_categorical_crossentropy: 1.0922 - val_weighted_acc: 0.3888 - val_weighted_categorical_crossentropy: 1.0927\n",
            "Epoch 118/250\n",
            "101/101 [==============================] - 0s 4ms/step - loss: 1.0763 - acc: 0.4273 - categorical_crossentropy: 1.0753 - weighted_acc: 0.4105 - weighted_categorical_crossentropy: 1.0766 - val_loss: 1.0936 - val_acc: 0.3984 - val_categorical_crossentropy: 1.0933 - val_weighted_acc: 0.3876 - val_weighted_categorical_crossentropy: 1.0928\n",
            "Epoch 119/250\n",
            "101/101 [==============================] - 0s 4ms/step - loss: 1.0834 - acc: 0.4050 - categorical_crossentropy: 1.0812 - weighted_acc: 0.3937 - weighted_categorical_crossentropy: 1.0813 - val_loss: 1.0936 - val_acc: 0.4002 - val_categorical_crossentropy: 1.0915 - val_weighted_acc: 0.3853 - val_weighted_categorical_crossentropy: 1.0928\n",
            "Epoch 120/250\n",
            "101/101 [==============================] - 0s 4ms/step - loss: 1.0775 - acc: 0.4277 - categorical_crossentropy: 1.0761 - weighted_acc: 0.4129 - weighted_categorical_crossentropy: 1.0772 - val_loss: 1.0937 - val_acc: 0.4015 - val_categorical_crossentropy: 1.0920 - val_weighted_acc: 0.3874 - val_weighted_categorical_crossentropy: 1.0930\n",
            "Epoch 121/250\n",
            "101/101 [==============================] - 0s 4ms/step - loss: 1.0780 - acc: 0.4204 - categorical_crossentropy: 1.0765 - weighted_acc: 0.4059 - weighted_categorical_crossentropy: 1.0771 - val_loss: 1.0938 - val_acc: 0.4040 - val_categorical_crossentropy: 1.0922 - val_weighted_acc: 0.3909 - val_weighted_categorical_crossentropy: 1.0930\n",
            "Epoch 122/250\n",
            "101/101 [==============================] - 0s 4ms/step - loss: 1.0759 - acc: 0.4270 - categorical_crossentropy: 1.0749 - weighted_acc: 0.4102 - weighted_categorical_crossentropy: 1.0769 - val_loss: 1.0936 - val_acc: 0.4009 - val_categorical_crossentropy: 1.0930 - val_weighted_acc: 0.3898 - val_weighted_categorical_crossentropy: 1.0928\n",
            "Epoch 123/250\n",
            "101/101 [==============================] - 0s 4ms/step - loss: 1.0778 - acc: 0.4259 - categorical_crossentropy: 1.0765 - weighted_acc: 0.4103 - weighted_categorical_crossentropy: 1.0772 - val_loss: 1.0935 - val_acc: 0.4046 - val_categorical_crossentropy: 1.0927 - val_weighted_acc: 0.3924 - val_weighted_categorical_crossentropy: 1.0927\n",
            "Epoch 124/250\n",
            "101/101 [==============================] - 0s 4ms/step - loss: 1.0740 - acc: 0.4300 - categorical_crossentropy: 1.0734 - weighted_acc: 0.4130 - weighted_categorical_crossentropy: 1.0757 - val_loss: 1.0934 - val_acc: 0.4009 - val_categorical_crossentropy: 1.0933 - val_weighted_acc: 0.3900 - val_weighted_categorical_crossentropy: 1.0926\n",
            "Epoch 125/250\n",
            "101/101 [==============================] - 0s 4ms/step - loss: 1.0809 - acc: 0.4179 - categorical_crossentropy: 1.0789 - weighted_acc: 0.4056 - weighted_categorical_crossentropy: 1.0788 - val_loss: 1.0934 - val_acc: 0.4052 - val_categorical_crossentropy: 1.0919 - val_weighted_acc: 0.3918 - val_weighted_categorical_crossentropy: 1.0927\n",
            "Epoch 126/250\n",
            "101/101 [==============================] - 0s 4ms/step - loss: 1.0748 - acc: 0.4223 - categorical_crossentropy: 1.0754 - weighted_acc: 0.4049 - weighted_categorical_crossentropy: 1.0777 - val_loss: 1.0933 - val_acc: 0.4040 - val_categorical_crossentropy: 1.0920 - val_weighted_acc: 0.3907 - val_weighted_categorical_crossentropy: 1.0926\n",
            "Epoch 127/250\n",
            "101/101 [==============================] - 0s 4ms/step - loss: 1.0801 - acc: 0.4220 - categorical_crossentropy: 1.0751 - weighted_acc: 0.4080 - weighted_categorical_crossentropy: 1.0763 - val_loss: 1.0934 - val_acc: 0.4040 - val_categorical_crossentropy: 1.0918 - val_weighted_acc: 0.3904 - val_weighted_categorical_crossentropy: 1.0927\n",
            "Epoch 128/250\n",
            "101/101 [==============================] - 0s 4ms/step - loss: 1.0732 - acc: 0.4241 - categorical_crossentropy: 1.0736 - weighted_acc: 0.4051 - weighted_categorical_crossentropy: 1.0763 - val_loss: 1.0934 - val_acc: 0.4021 - val_categorical_crossentropy: 1.0931 - val_weighted_acc: 0.3911 - val_weighted_categorical_crossentropy: 1.0926\n",
            "Epoch 129/250\n",
            "101/101 [==============================] - 0s 4ms/step - loss: 1.0770 - acc: 0.4275 - categorical_crossentropy: 1.0735 - weighted_acc: 0.4147 - weighted_categorical_crossentropy: 1.0734 - val_loss: 1.0934 - val_acc: 0.4052 - val_categorical_crossentropy: 1.0918 - val_weighted_acc: 0.3919 - val_weighted_categorical_crossentropy: 1.0926\n",
            "Epoch 130/250\n",
            "101/101 [==============================] - 0s 4ms/step - loss: 1.0799 - acc: 0.4155 - categorical_crossentropy: 1.0808 - weighted_acc: 0.3988 - weighted_categorical_crossentropy: 1.0826 - val_loss: 1.0933 - val_acc: 0.4040 - val_categorical_crossentropy: 1.0929 - val_weighted_acc: 0.3923 - val_weighted_categorical_crossentropy: 1.0926\n",
            "Epoch 131/250\n",
            "101/101 [==============================] - 0s 4ms/step - loss: 1.0733 - acc: 0.4213 - categorical_crossentropy: 1.0742 - weighted_acc: 0.4065 - weighted_categorical_crossentropy: 1.0749 - val_loss: 1.0932 - val_acc: 0.4052 - val_categorical_crossentropy: 1.0928 - val_weighted_acc: 0.3931 - val_weighted_categorical_crossentropy: 1.0925\n",
            "Epoch 132/250\n",
            "101/101 [==============================] - 0s 4ms/step - loss: 1.0744 - acc: 0.4281 - categorical_crossentropy: 1.0754 - weighted_acc: 0.4126 - weighted_categorical_crossentropy: 1.0769 - val_loss: 1.0933 - val_acc: 0.4046 - val_categorical_crossentropy: 1.0931 - val_weighted_acc: 0.3937 - val_weighted_categorical_crossentropy: 1.0925\n",
            "Epoch 133/250\n",
            "101/101 [==============================] - 0s 4ms/step - loss: 1.0794 - acc: 0.4114 - categorical_crossentropy: 1.0795 - weighted_acc: 0.3972 - weighted_categorical_crossentropy: 1.0800 - val_loss: 1.0933 - val_acc: 0.4040 - val_categorical_crossentropy: 1.0926 - val_weighted_acc: 0.3921 - val_weighted_categorical_crossentropy: 1.0926\n",
            "Epoch 134/250\n",
            "101/101 [==============================] - 0s 4ms/step - loss: 1.0756 - acc: 0.4282 - categorical_crossentropy: 1.0734 - weighted_acc: 0.4119 - weighted_categorical_crossentropy: 1.0753 - val_loss: 1.0937 - val_acc: 0.4002 - val_categorical_crossentropy: 1.0913 - val_weighted_acc: 0.3855 - val_weighted_categorical_crossentropy: 1.0930\n",
            "Epoch 135/250\n",
            "101/101 [==============================] - 0s 4ms/step - loss: 1.0777 - acc: 0.4147 - categorical_crossentropy: 1.0766 - weighted_acc: 0.3958 - weighted_categorical_crossentropy: 1.0788 - val_loss: 1.0933 - val_acc: 0.4034 - val_categorical_crossentropy: 1.0923 - val_weighted_acc: 0.3911 - val_weighted_categorical_crossentropy: 1.0925\n",
            "Epoch 136/250\n",
            "101/101 [==============================] - 0s 4ms/step - loss: 1.0783 - acc: 0.4294 - categorical_crossentropy: 1.0748 - weighted_acc: 0.4153 - weighted_categorical_crossentropy: 1.0760 - val_loss: 1.0934 - val_acc: 0.4046 - val_categorical_crossentropy: 1.0922 - val_weighted_acc: 0.3923 - val_weighted_categorical_crossentropy: 1.0926\n",
            "Epoch 137/250\n",
            "101/101 [==============================] - 0s 4ms/step - loss: 1.0802 - acc: 0.4307 - categorical_crossentropy: 1.0776 - weighted_acc: 0.4177 - weighted_categorical_crossentropy: 1.0780 - val_loss: 1.0934 - val_acc: 0.4052 - val_categorical_crossentropy: 1.0926 - val_weighted_acc: 0.3936 - val_weighted_categorical_crossentropy: 1.0926\n",
            "Epoch 138/250\n",
            "101/101 [==============================] - 0s 4ms/step - loss: 1.0811 - acc: 0.4173 - categorical_crossentropy: 1.0801 - weighted_acc: 0.4017 - weighted_categorical_crossentropy: 1.0812 - val_loss: 1.0932 - val_acc: 0.4071 - val_categorical_crossentropy: 1.0915 - val_weighted_acc: 0.3935 - val_weighted_categorical_crossentropy: 1.0925\n",
            "Epoch 139/250\n",
            "101/101 [==============================] - 0s 4ms/step - loss: 1.0740 - acc: 0.4277 - categorical_crossentropy: 1.0745 - weighted_acc: 0.4076 - weighted_categorical_crossentropy: 1.0769 - val_loss: 1.0931 - val_acc: 0.4058 - val_categorical_crossentropy: 1.0928 - val_weighted_acc: 0.3946 - val_weighted_categorical_crossentropy: 1.0923\n",
            "Epoch 140/250\n",
            "101/101 [==============================] - 0s 4ms/step - loss: 1.0808 - acc: 0.4146 - categorical_crossentropy: 1.0779 - weighted_acc: 0.4001 - weighted_categorical_crossentropy: 1.0787 - val_loss: 1.0932 - val_acc: 0.4071 - val_categorical_crossentropy: 1.0915 - val_weighted_acc: 0.3938 - val_weighted_categorical_crossentropy: 1.0924\n",
            "Epoch 141/250\n",
            "101/101 [==============================] - 0s 4ms/step - loss: 1.0796 - acc: 0.4237 - categorical_crossentropy: 1.0767 - weighted_acc: 0.4092 - weighted_categorical_crossentropy: 1.0777 - val_loss: 1.0932 - val_acc: 0.4034 - val_categorical_crossentropy: 1.0910 - val_weighted_acc: 0.3887 - val_weighted_categorical_crossentropy: 1.0924\n",
            "Epoch 142/250\n",
            "101/101 [==============================] - 0s 5ms/step - loss: 1.0781 - acc: 0.4217 - categorical_crossentropy: 1.0767 - weighted_acc: 0.4034 - weighted_categorical_crossentropy: 1.0782 - val_loss: 1.0933 - val_acc: 0.4040 - val_categorical_crossentropy: 1.0930 - val_weighted_acc: 0.3928 - val_weighted_categorical_crossentropy: 1.0925\n",
            "Epoch 143/250\n",
            "101/101 [==============================] - 0s 4ms/step - loss: 1.0755 - acc: 0.4268 - categorical_crossentropy: 1.0744 - weighted_acc: 0.4148 - weighted_categorical_crossentropy: 1.0748 - val_loss: 1.0931 - val_acc: 0.4058 - val_categorical_crossentropy: 1.0927 - val_weighted_acc: 0.3946 - val_weighted_categorical_crossentropy: 1.0924\n",
            "Epoch 144/250\n",
            "101/101 [==============================] - 0s 4ms/step - loss: 1.0759 - acc: 0.4216 - categorical_crossentropy: 1.0780 - weighted_acc: 0.4048 - weighted_categorical_crossentropy: 1.0797 - val_loss: 1.0933 - val_acc: 0.4002 - val_categorical_crossentropy: 1.0934 - val_weighted_acc: 0.3909 - val_weighted_categorical_crossentropy: 1.0925\n",
            "Epoch 145/250\n",
            "101/101 [==============================] - 0s 4ms/step - loss: 1.0796 - acc: 0.4146 - categorical_crossentropy: 1.0769 - weighted_acc: 0.4037 - weighted_categorical_crossentropy: 1.0757 - val_loss: 1.0937 - val_acc: 0.4027 - val_categorical_crossentropy: 1.0912 - val_weighted_acc: 0.3882 - val_weighted_categorical_crossentropy: 1.0929\n",
            "Epoch 146/250\n",
            "101/101 [==============================] - 0s 4ms/step - loss: 1.0784 - acc: 0.4226 - categorical_crossentropy: 1.0756 - weighted_acc: 0.4054 - weighted_categorical_crossentropy: 1.0784 - val_loss: 1.0933 - val_acc: 0.4046 - val_categorical_crossentropy: 1.0925 - val_weighted_acc: 0.3929 - val_weighted_categorical_crossentropy: 1.0925\n",
            "Epoch 147/250\n",
            "101/101 [==============================] - 0s 4ms/step - loss: 1.0818 - acc: 0.4159 - categorical_crossentropy: 1.0791 - weighted_acc: 0.4046 - weighted_categorical_crossentropy: 1.0784 - val_loss: 1.0932 - val_acc: 0.4065 - val_categorical_crossentropy: 1.0908 - val_weighted_acc: 0.3914 - val_weighted_categorical_crossentropy: 1.0924\n",
            "Epoch 148/250\n",
            "101/101 [==============================] - 0s 4ms/step - loss: 1.0841 - acc: 0.4209 - categorical_crossentropy: 1.0790 - weighted_acc: 0.4075 - weighted_categorical_crossentropy: 1.0790 - val_loss: 1.0932 - val_acc: 0.4065 - val_categorical_crossentropy: 1.0912 - val_weighted_acc: 0.3922 - val_weighted_categorical_crossentropy: 1.0924\n",
            "Epoch 149/250\n",
            "101/101 [==============================] - 0s 4ms/step - loss: 1.0756 - acc: 0.4204 - categorical_crossentropy: 1.0728 - weighted_acc: 0.4034 - weighted_categorical_crossentropy: 1.0749 - val_loss: 1.0934 - val_acc: 0.4058 - val_categorical_crossentropy: 1.0906 - val_weighted_acc: 0.3902 - val_weighted_categorical_crossentropy: 1.0926\n",
            "Epoch 150/250\n",
            "101/101 [==============================] - 0s 4ms/step - loss: 1.0785 - acc: 0.4223 - categorical_crossentropy: 1.0761 - weighted_acc: 0.4034 - weighted_categorical_crossentropy: 1.0786 - val_loss: 1.0933 - val_acc: 0.4052 - val_categorical_crossentropy: 1.0919 - val_weighted_acc: 0.3922 - val_weighted_categorical_crossentropy: 1.0925\n",
            "Epoch 151/250\n",
            "101/101 [==============================] - 0s 4ms/step - loss: 1.0798 - acc: 0.4212 - categorical_crossentropy: 1.0782 - weighted_acc: 0.4076 - weighted_categorical_crossentropy: 1.0789 - val_loss: 1.0933 - val_acc: 0.4077 - val_categorical_crossentropy: 1.0922 - val_weighted_acc: 0.3955 - val_weighted_categorical_crossentropy: 1.0926\n",
            "Epoch 152/250\n",
            "101/101 [==============================] - 0s 4ms/step - loss: 1.0792 - acc: 0.4270 - categorical_crossentropy: 1.0780 - weighted_acc: 0.4156 - weighted_categorical_crossentropy: 1.0778 - val_loss: 1.0934 - val_acc: 0.4040 - val_categorical_crossentropy: 1.0915 - val_weighted_acc: 0.3904 - val_weighted_categorical_crossentropy: 1.0926\n",
            "Epoch 153/250\n",
            "101/101 [==============================] - 0s 4ms/step - loss: 1.0764 - acc: 0.4225 - categorical_crossentropy: 1.0728 - weighted_acc: 0.4084 - weighted_categorical_crossentropy: 1.0735 - val_loss: 1.0933 - val_acc: 0.4065 - val_categorical_crossentropy: 1.0913 - val_weighted_acc: 0.3923 - val_weighted_categorical_crossentropy: 1.0925\n",
            "Epoch 154/250\n",
            "101/101 [==============================] - 0s 4ms/step - loss: 1.0777 - acc: 0.4232 - categorical_crossentropy: 1.0784 - weighted_acc: 0.4068 - weighted_categorical_crossentropy: 1.0801 - val_loss: 1.0932 - val_acc: 0.4077 - val_categorical_crossentropy: 1.0925 - val_weighted_acc: 0.3963 - val_weighted_categorical_crossentropy: 1.0924\n"
          ],
          "name": "stdout"
        }
      ]
    },
    {
      "cell_type": "code",
      "metadata": {
        "id": "_6Ob6E-ZTrX2",
        "colab": {
          "base_uri": "https://localhost:8080/",
          "height": 573
        },
        "outputId": "fbb27322-2e60-458a-8198-cc32b419d3ca"
      },
      "source": [
        "figure(History,['train', 'valid'])"
      ],
      "execution_count": null,
      "outputs": [
        {
          "output_type": "display_data",
          "data": {
            "image/png": "[encoded data removed]",
            "text/plain": [
              "<Figure size 432x288 with 1 Axes>"
            ]
          },
          "metadata": {
            "tags": [],
            "needs_background": "light"
          }
        },
        {
          "output_type": "display_data",
          "data": {
            "image/png": "[encoded data removed]",
            "text/plain": [
              "<Figure size 432x288 with 1 Axes>"
            ]
          },
          "metadata": {
            "tags": [],
            "needs_background": "light"
          }
        }
      ]
    },
    {
      "cell_type": "code",
      "metadata": {
        "id": "rjFG91I0T6LS",
        "colab": {
          "base_uri": "https://localhost:8080/"
        },
        "outputId": "972cc0f5-0aff-4af2-9948-a60aefef5436"
      },
      "source": [
        "# Metricas\n",
        "Metricas = model.evaluate(train_x, train_y_cat , verbose=0, sample_weight = (train_y==0) +(train_y==1)*0 + (train_y==2))\n",
        "print('train Loss: %.4f, train Acc: %.4f' % (Metricas[0], Metricas[3]) )\n",
        "Metricas = model.evaluate(valid_x, valid_y_cat , verbose=0, sample_weight = (valid_y==0) +(valid_y==1)*0 + (valid_y==2))\n",
        "print('valid Loss: %.4f, valid Acc: %.4f' % (Metricas[0], Metricas[3]) )\n"
      ],
      "execution_count": null,
      "outputs": [
        {
          "output_type": "stream",
          "text": [
            "train Loss: 0.7683, train Acc: 0.5052\n",
            "valid Loss: 0.7913, valid Acc: 0.4761\n"
          ],
          "name": "stdout"
        }
      ]
    },
    {
      "cell_type": "code",
      "metadata": {
        "id": "hbL_jA9s63Vr",
        "colab": {
          "base_uri": "https://localhost:8080/"
        },
        "outputId": "d5a50859-a3f2-4b36-dd59-dc02b03972e2"
      },
      "source": [
        "a = model.predict_classes(valid_x[model.predict(valid_x)[:,0]>0.46])\n",
        "b = valid_y[model.predict(valid_x)[:,0]>0.46]\n",
        "confusion_matrix(b, a)\n"
      ],
      "execution_count": null,
      "outputs": [
        {
          "output_type": "stream",
          "text": [
            "/usr/local/lib/python3.7/dist-packages/tensorflow/python/keras/engine/sequential.py:450: UserWarning: `model.predict_classes()` is deprecated and will be removed after 2021-01-01. Please use instead:* `np.argmax(model.predict(x), axis=-1)`,   if your model does multi-class classification   (e.g. if it uses a `softmax` last-layer activation).* `(model.predict(x) > 0.5).astype(\"int32\")`,   if your model does binary classification   (e.g. if it uses a `sigmoid` last-layer activation).\n",
            "  warnings.warn('`model.predict_classes()` is deprecated and '\n"
          ],
          "name": "stderr"
        },
        {
          "output_type": "execute_result",
          "data": {
            "text/plain": [
              "array([[37,  0,  0],\n",
              "       [19,  0,  0],\n",
              "       [18,  0,  0]])"
            ]
          },
          "metadata": {
            "tags": []
          },
          "execution_count": 1085
        }
      ]
    },
    {
      "cell_type": "code",
      "metadata": {
        "id": "uXiPj4sI-WjU",
        "colab": {
          "base_uri": "https://localhost:8080/"
        },
        "outputId": "5ba52197-90a0-4c00-ba78-89f047edf326"
      },
      "source": [
        "a = model.predict_classes(valid_x[model.predict(valid_x)[:,2]>0.49])\n",
        "b = valid_y[model.predict(valid_x)[:,2]>0.49]\n",
        "confusion_matrix(b, a)"
      ],
      "execution_count": null,
      "outputs": [
        {
          "output_type": "stream",
          "text": [
            "/usr/local/lib/python3.7/dist-packages/tensorflow/python/keras/engine/sequential.py:450: UserWarning: `model.predict_classes()` is deprecated and will be removed after 2021-01-01. Please use instead:* `np.argmax(model.predict(x), axis=-1)`,   if your model does multi-class classification   (e.g. if it uses a `softmax` last-layer activation).* `(model.predict(x) > 0.5).astype(\"int32\")`,   if your model does binary classification   (e.g. if it uses a `sigmoid` last-layer activation).\n",
            "  warnings.warn('`model.predict_classes()` is deprecated and '\n"
          ],
          "name": "stderr"
        },
        {
          "output_type": "execute_result",
          "data": {
            "text/plain": [
              "array([[ 0,  0, 25],\n",
              "       [ 0,  0, 19],\n",
              "       [ 0,  0, 44]])"
            ]
          },
          "metadata": {
            "tags": []
          },
          "execution_count": 1086
        }
      ]
    },
    {
      "cell_type": "code",
      "metadata": {
        "id": "PrbSsgsddEbY",
        "colab": {
          "base_uri": "https://localhost:8080/"
        },
        "outputId": "b2bca38d-4a26-4001-a5e3-4434778a5789"
      },
      "source": [
        "confusion_matrix(train_y, model.predict_classes(train_x))\n"
      ],
      "execution_count": null,
      "outputs": [
        {
          "output_type": "stream",
          "text": [
            "/usr/local/lib/python3.7/dist-packages/tensorflow/python/keras/engine/sequential.py:450: UserWarning: `model.predict_classes()` is deprecated and will be removed after 2021-01-01. Please use instead:* `np.argmax(model.predict(x), axis=-1)`,   if your model does multi-class classification   (e.g. if it uses a `softmax` last-layer activation).* `(model.predict(x) > 0.5).astype(\"int32\")`,   if your model does binary classification   (e.g. if it uses a `sigmoid` last-layer activation).\n",
            "  warnings.warn('`model.predict_classes()` is deprecated and '\n"
          ],
          "name": "stderr"
        },
        {
          "output_type": "execute_result",
          "data": {
            "text/plain": [
              "array([[1337,  454,  920],\n",
              "       [ 709,  376,  722],\n",
              "       [ 623,  292, 1000]])"
            ]
          },
          "metadata": {
            "tags": []
          },
          "execution_count": 1087
        }
      ]
    },
    {
      "cell_type": "code",
      "metadata": {
        "id": "E4sKLXb4OCEz",
        "colab": {
          "base_uri": "https://localhost:8080/"
        },
        "outputId": "2f7a0ac1-9a31-499e-c5d6-947c61f962a6"
      },
      "source": [
        "a = confusion_matrix(valid_y, model.predict_classes(valid_x))\n",
        "a"
      ],
      "execution_count": null,
      "outputs": [
        {
          "output_type": "stream",
          "text": [
            "/usr/local/lib/python3.7/dist-packages/tensorflow/python/keras/engine/sequential.py:450: UserWarning: `model.predict_classes()` is deprecated and will be removed after 2021-01-01. Please use instead:* `np.argmax(model.predict(x), axis=-1)`,   if your model does multi-class classification   (e.g. if it uses a `softmax` last-layer activation).* `(model.predict(x) > 0.5).astype(\"int32\")`,   if your model does binary classification   (e.g. if it uses a `sigmoid` last-layer activation).\n",
            "  warnings.warn('`model.predict_classes()` is deprecated and '\n"
          ],
          "name": "stderr"
        },
        {
          "output_type": "execute_result",
          "data": {
            "text/plain": [
              "array([[311, 110, 251],\n",
              "       [181,  79, 179],\n",
              "       [190,  60, 248]])"
            ]
          },
          "metadata": {
            "tags": []
          },
          "execution_count": 1099
        }
      ]
    },
    {
      "cell_type": "code",
      "metadata": {
        "colab": {
          "base_uri": "https://localhost:8080/"
        },
        "id": "MO1E2IX5f8EA",
        "outputId": "ce0ec8c8-83e6-496d-c834-9b1737efe18d"
      },
      "source": [
        "(a[0,0] + a[2,2])/(a[0,0]+a[1,0]+a[2,0]+a[0,2]+a[1,2]+a[2,2])"
      ],
      "execution_count": null,
      "outputs": [
        {
          "output_type": "execute_result",
          "data": {
            "text/plain": [
              "0.41102941176470587"
            ]
          },
          "metadata": {
            "tags": []
          },
          "execution_count": 1100
        }
      ]
    },
    {
      "cell_type": "code",
      "metadata": {
        "id": "qrcA09iuKy2A",
        "colab": {
          "base_uri": "https://localhost:8080/"
        },
        "outputId": "41b61104-8f2a-466d-ef93-2a74d52c4f1f"
      },
      "source": [
        "a[0,0]/(a[0,0]+a[1,0]+a[2,0])"
      ],
      "execution_count": null,
      "outputs": [
        {
          "output_type": "execute_result",
          "data": {
            "text/plain": [
              "0.47480916030534354"
            ]
          },
          "metadata": {
            "tags": []
          },
          "execution_count": 1090
        }
      ]
    },
    {
      "cell_type": "code",
      "metadata": {
        "id": "az99bOdqMOBY",
        "colab": {
          "base_uri": "https://localhost:8080/"
        },
        "outputId": "1f196edd-96d0-449b-e2d7-e68f7027e8ee"
      },
      "source": [
        "a[2,2]/(a[0,2]+a[1,2]+a[2,2])"
      ],
      "execution_count": null,
      "outputs": [
        {
          "output_type": "execute_result",
          "data": {
            "text/plain": [
              "0.3704819277108434"
            ]
          },
          "metadata": {
            "tags": []
          },
          "execution_count": 1091
        }
      ]
    },
    {
      "cell_type": "markdown",
      "metadata": {
        "id": "YaeYBr8aLZGT"
      },
      "source": [
        "## Predicciones Prob L > T"
      ]
    },
    {
      "cell_type": "code",
      "metadata": {
        "id": "PJ82Pe-shCPp",
        "colab": {
          "base_uri": "https://localhost:8080/"
        },
        "outputId": "f80901bf-829d-473e-c985-cbf71faaa6ba"
      },
      "source": [
        "np.sum(model.predict_classes(valid_x)==0)/8"
      ],
      "execution_count": null,
      "outputs": [
        {
          "output_type": "stream",
          "text": [
            "/usr/local/lib/python3.7/dist-packages/tensorflow/python/keras/engine/sequential.py:450: UserWarning: `model.predict_classes()` is deprecated and will be removed after 2021-01-01. Please use instead:* `np.argmax(model.predict(x), axis=-1)`,   if your model does multi-class classification   (e.g. if it uses a `softmax` last-layer activation).* `(model.predict(x) > 0.5).astype(\"int32\")`,   if your model does binary classification   (e.g. if it uses a `sigmoid` last-layer activation).\n",
            "  warnings.warn('`model.predict_classes()` is deprecated and '\n"
          ],
          "name": "stderr"
        },
        {
          "output_type": "execute_result",
          "data": {
            "text/plain": [
              "154.125"
            ]
          },
          "metadata": {
            "tags": []
          },
          "execution_count": 901
        }
      ]
    },
    {
      "cell_type": "code",
      "metadata": {
        "id": "5svlYExZN9RF",
        "colab": {
          "base_uri": "https://localhost:8080/",
          "height": 338
        },
        "outputId": "870a6b20-55e1-407f-b940-0c66e08e226d"
      },
      "source": [
        "list_acc= []\n",
        "umbral = []\n",
        "for t in range(10, 50, 2):\n",
        "  T = t/100\n",
        "  \n",
        "  index_L_mayor_T = model.predict(valid_x)[:,0]>T\n",
        "  try:\n",
        "    Pred_L_mayor_T = model.predict_classes(valid_x[index_L_mayor_T])\n",
        "    True_labels = valid_y[index_L_mayor_T]\n",
        "    list_acc.append(accuracy_score( True_labels, Pred_L_mayor_T) )\n",
        "    umbral.append(T)\n",
        "  except:\n",
        "    pass\n",
        "\n",
        "plt.plot(umbral,list_acc)\n"
      ],
      "execution_count": null,
      "outputs": [
        {
          "output_type": "stream",
          "text": [
            "/usr/local/lib/python3.7/dist-packages/tensorflow/python/keras/engine/sequential.py:450: UserWarning: `model.predict_classes()` is deprecated and will be removed after 2021-01-01. Please use instead:* `np.argmax(model.predict(x), axis=-1)`,   if your model does multi-class classification   (e.g. if it uses a `softmax` last-layer activation).* `(model.predict(x) > 0.5).astype(\"int32\")`,   if your model does binary classification   (e.g. if it uses a `sigmoid` last-layer activation).\n",
            "  warnings.warn('`model.predict_classes()` is deprecated and '\n"
          ],
          "name": "stderr"
        },
        {
          "output_type": "execute_result",
          "data": {
            "text/plain": [
              "[<matplotlib.lines.Line2D at 0x7f67ee5682d0>]"
            ]
          },
          "metadata": {
            "tags": []
          },
          "execution_count": 180
        },
        {
          "output_type": "display_data",
          "data": {
            "image/png": "[encoded data removed]",
            "text/plain": [
              "<Figure size 432x288 with 1 Axes>"
            ]
          },
          "metadata": {
            "tags": [],
            "needs_background": "light"
          }
        }
      ]
    },
    {
      "cell_type": "markdown",
      "metadata": {
        "id": "6gtJq6NrLfdg"
      },
      "source": [
        "## Predicciones L > T"
      ]
    },
    {
      "cell_type": "code",
      "metadata": {
        "id": "C3EHgklGI9eR",
        "colab": {
          "base_uri": "https://localhost:8080/",
          "height": 338
        },
        "outputId": "697c1032-7e0d-4bbc-81ca-1149519e2439"
      },
      "source": [
        "list_acc= []\n",
        "umbral = []\n",
        "for t in range(10, 50, 2):\n",
        "  T = t/100\n",
        "  index_Pred_L = model.predict_classes(valid_x)==0\n",
        "  try:\n",
        "    index_Pred_L_mayor_T = model.predict(valid_x[index_Pred_L])[:,0]>T\n",
        "    Pred_L_y_mayor_T = model.predict_classes(valid_x[index_Pred_L][index_Pred_L_mayor_T])\n",
        "    True_labels = valid_y[index_Pred_L][index_Pred_L_mayor_T]\n",
        "    list_acc.append(accuracy_score( True_labels, Pred_L_y_mayor_T) )\n",
        "    umbral.append(T)\n",
        "  except:\n",
        "    pass\n",
        "\n",
        "plt.plot(umbral,list_acc)\n"
      ],
      "execution_count": null,
      "outputs": [
        {
          "output_type": "stream",
          "text": [
            "/usr/local/lib/python3.7/dist-packages/tensorflow/python/keras/engine/sequential.py:450: UserWarning: `model.predict_classes()` is deprecated and will be removed after 2021-01-01. Please use instead:* `np.argmax(model.predict(x), axis=-1)`,   if your model does multi-class classification   (e.g. if it uses a `softmax` last-layer activation).* `(model.predict(x) > 0.5).astype(\"int32\")`,   if your model does binary classification   (e.g. if it uses a `sigmoid` last-layer activation).\n",
            "  warnings.warn('`model.predict_classes()` is deprecated and '\n"
          ],
          "name": "stderr"
        },
        {
          "output_type": "execute_result",
          "data": {
            "text/plain": [
              "[<matplotlib.lines.Line2D at 0x7f68508ff550>]"
            ]
          },
          "metadata": {
            "tags": []
          },
          "execution_count": 181
        },
        {
          "output_type": "display_data",
          "data": {
            "image/png": "[encoded data removed]",
            "text/plain": [
              "<Figure size 432x288 with 1 Axes>"
            ]
          },
          "metadata": {
            "tags": [],
            "needs_background": "light"
          }
        }
      ]
    },
    {
      "cell_type": "markdown",
      "metadata": {
        "id": "Q_5gLoVILq-o"
      },
      "source": [
        "## Predicciones Prob V > T"
      ]
    },
    {
      "cell_type": "code",
      "metadata": {
        "id": "Qmg8dPXnVyTJ",
        "colab": {
          "base_uri": "https://localhost:8080/",
          "height": 338
        },
        "outputId": "83625bac-f1ed-4e1c-dae7-e648d108afc7"
      },
      "source": [
        "list_acc= []\n",
        "umbral = []\n",
        "for t in range(10, 50, 2):\n",
        "  T = t/100\n",
        "  try:\n",
        "    index_V_mayor_T = model.predict(valid_x)[:,2]>T\n",
        "    Pred_V_mayor_T = model.predict_classes(valid_x[index_V_mayor_T])\n",
        "    True_labels = valid_y[index_V_mayor_T]\n",
        "    list_acc.append(accuracy_score( True_labels, Pred_V_mayor_T) )\n",
        "    umbral.append(T)\n",
        "  except:\n",
        "    pass\n",
        "\n",
        "plt.plot(umbral,list_acc)\n"
      ],
      "execution_count": null,
      "outputs": [
        {
          "output_type": "stream",
          "text": [
            "/usr/local/lib/python3.7/dist-packages/tensorflow/python/keras/engine/sequential.py:450: UserWarning: `model.predict_classes()` is deprecated and will be removed after 2021-01-01. Please use instead:* `np.argmax(model.predict(x), axis=-1)`,   if your model does multi-class classification   (e.g. if it uses a `softmax` last-layer activation).* `(model.predict(x) > 0.5).astype(\"int32\")`,   if your model does binary classification   (e.g. if it uses a `sigmoid` last-layer activation).\n",
            "  warnings.warn('`model.predict_classes()` is deprecated and '\n"
          ],
          "name": "stderr"
        },
        {
          "output_type": "execute_result",
          "data": {
            "text/plain": [
              "[<matplotlib.lines.Line2D at 0x7f67d5037590>]"
            ]
          },
          "metadata": {
            "tags": []
          },
          "execution_count": 182
        },
        {
          "output_type": "display_data",
          "data": {
            "image/png": "[encoded data removed]",
            "text/plain": [
              "<Figure size 432x288 with 1 Axes>"
            ]
          },
          "metadata": {
            "tags": [],
            "needs_background": "light"
          }
        }
      ]
    },
    {
      "cell_type": "markdown",
      "metadata": {
        "id": "nfMErd1WLu0g"
      },
      "source": [
        "## Predicciones L > T"
      ]
    },
    {
      "cell_type": "code",
      "metadata": {
        "id": "GNPABzByL1IL",
        "colab": {
          "base_uri": "https://localhost:8080/",
          "height": 338
        },
        "outputId": "5b5dee89-3191-4e95-eba1-7d5e64306240"
      },
      "source": [
        "list_acc= []\n",
        "umbral = []\n",
        "for t in range(10, 50, 2):\n",
        "  T = t/100\n",
        "  try:\n",
        "    index_Pred_V = model.predict_classes(valid_x)==2\n",
        "    index_Pred_V_mayor_T = model.predict(valid_x[index_Pred_V])[:,2]>T\n",
        "    Pred_V_y_mayor_T = model.predict_classes(valid_x[index_Pred_V][index_Pred_V_mayor_T])\n",
        "    True_labels = valid_y[index_Pred_V][index_Pred_V_mayor_T]\n",
        "    list_acc.append(accuracy_score( True_labels, Pred_V_y_mayor_T) )\n",
        "    umbral.append(T)\n",
        "  except:\n",
        "    pass\n",
        "\n",
        "plt.plot(umbral,list_acc)\n"
      ],
      "execution_count": null,
      "outputs": [
        {
          "output_type": "stream",
          "text": [
            "/usr/local/lib/python3.7/dist-packages/tensorflow/python/keras/engine/sequential.py:450: UserWarning: `model.predict_classes()` is deprecated and will be removed after 2021-01-01. Please use instead:* `np.argmax(model.predict(x), axis=-1)`,   if your model does multi-class classification   (e.g. if it uses a `softmax` last-layer activation).* `(model.predict(x) > 0.5).astype(\"int32\")`,   if your model does binary classification   (e.g. if it uses a `sigmoid` last-layer activation).\n",
            "  warnings.warn('`model.predict_classes()` is deprecated and '\n"
          ],
          "name": "stderr"
        },
        {
          "output_type": "execute_result",
          "data": {
            "text/plain": [
              "[<matplotlib.lines.Line2D at 0x7f67d5607a10>]"
            ]
          },
          "metadata": {
            "tags": []
          },
          "execution_count": 183
        },
        {
          "output_type": "display_data",
          "data": {
            "image/png": "[encoded data removed]",
            "text/plain": [
              "<Figure size 432x288 with 1 Axes>"
            ]
          },
          "metadata": {
            "tags": [],
            "needs_background": "light"
          }
        }
      ]
    },
    {
      "cell_type": "markdown",
      "metadata": {
        "id": "3nr-GbCTpV5R"
      },
      "source": [
        "# encotnrar alpha"
      ]
    },
    {
      "cell_type": "code",
      "metadata": {
        "colab": {
          "base_uri": "https://localhost:8080/"
        },
        "id": "8FlUuFZ6Wbor",
        "outputId": "3d84b032-822c-4e41-dc98-2ff29a3fa150"
      },
      "source": [
        "np.mean(valid_WHH)*0.7393*3/(np.mean(valid_WHH)*0.7393+np.mean(valid_WHD)*1.2625+np.mean(valid_WHA)*1.1691)"
      ],
      "execution_count": null,
      "outputs": [
        {
          "output_type": "execute_result",
          "data": {
            "text/plain": [
              "0.5057473090069288"
            ]
          },
          "metadata": {
            "tags": []
          },
          "execution_count": 223
        }
      ]
    },
    {
      "cell_type": "code",
      "metadata": {
        "colab": {
          "base_uri": "https://localhost:8080/"
        },
        "id": "zG3Om1KcWheG",
        "outputId": "3880b89d-96dc-42c0-a97a-ba60efd70458"
      },
      "source": [
        "np.mean(valid_WHD)*1.2625*3/(np.mean(valid_WHH)*0.7393+np.mean(valid_WHD)*1.2625+np.mean(valid_WHA)*1.1691)"
      ],
      "execution_count": null,
      "outputs": [
        {
          "output_type": "execute_result",
          "data": {
            "text/plain": [
              "1.215704060328639"
            ]
          },
          "metadata": {
            "tags": []
          },
          "execution_count": 224
        }
      ]
    },
    {
      "cell_type": "code",
      "metadata": {
        "colab": {
          "base_uri": "https://localhost:8080/"
        },
        "id": "SRT6C6sTWjM8",
        "outputId": "78ecafdc-2096-477b-cbf0-1271ef2b6305"
      },
      "source": [
        "np.mean(valid_WHA)*1.1691*3/(np.mean(valid_WHH)*0.7393+np.mean(valid_WHD)*1.2625+np.mean(valid_WHA)*1.1691)"
      ],
      "execution_count": null,
      "outputs": [
        {
          "output_type": "execute_result",
          "data": {
            "text/plain": [
              "1.278548630664432"
            ]
          },
          "metadata": {
            "tags": []
          },
          "execution_count": 225
        }
      ]
    },
    {
      "cell_type": "code",
      "metadata": {
        "colab": {
          "base_uri": "https://localhost:8080/"
        },
        "id": "Cv5Kjk-12rs-",
        "outputId": "d568b2bd-a570-4341-d4d5-348fba737b36"
      },
      "source": [
        "#weights_train[1]=1.75\n",
        "weights_train"
      ],
      "execution_count": null,
      "outputs": [
        {
          "output_type": "execute_result",
          "data": {
            "text/plain": [
              "{0: 0.7393339333933393, 1: 1.2625268982477713, 2: 1.1690862510674638}"
            ]
          },
          "metadata": {
            "tags": []
          },
          "execution_count": 222
        }
      ]
    },
    {
      "cell_type": "code",
      "metadata": {
        "id": "Lo3NG5g7XuNN"
      },
      "source": [
        "weights_train[0] = 0.7393339333933393\n",
        "weights_train[1] = 1.2625268982477713\n",
        "weights_train[2] = 1.1690862510674638"
      ],
      "execution_count": null,
      "outputs": []
    },
    {
      "cell_type": "code",
      "metadata": {
        "id": "8eVuGtMSn4xv",
        "colab": {
          "base_uri": "https://localhost:8080/",
          "height": 1000
        },
        "outputId": "bb5ddd73-5758-4d79-cb8b-cb3274d47829"
      },
      "source": [
        "#Converts a class vector\n",
        "#alpha = 0\n",
        "legend = []\n",
        "acc_L = []\n",
        "acc_V = []\n",
        "n_L = []\n",
        "n_V = []\n",
        "Odds_V = []\n",
        "Odds_L = []\n",
        "Profit_L = []\n",
        "Profit_V = []\n",
        "\n",
        "for alpha_100 in range(0,20,10):\n",
        "  alpha_test = alpha_100/100\n",
        "  legend.append(str(alpha_test))\n",
        "  \n",
        "  alpha_test = 0\n",
        "\n",
        "  if Clases ==4:\n",
        "    TRAIN_y_cat = transfor4(to_categorical(TRAIN_y,4), alpha=alpha_test)\n",
        "    train_y_cat = transfor4(to_categorical(train_y,4), alpha=alpha_test)\n",
        "    valid_y_cat = transfor4(to_categorical(valid_y,4), alpha=alpha_test)\n",
        "    test_y_cat = transfor4(to_categorical(test_y,4), alpha=alpha_test)\n",
        "  elif Clases ==3:\n",
        "    TRAIN_y_cat = to_categorical(TRAIN_y,3)\n",
        "    train_y_cat = to_categorical(train_y,3)\n",
        "    valid_y_cat = to_categorical(valid_y,3)\n",
        "    test_y_cat = to_categorical(test_y,3)\n",
        "\n",
        "\n",
        "  print (\"TRAIN_y_cat shape: \" + str(TRAIN_y_cat.shape))\n",
        "  print (\"train_y_cat shape: \" + str(train_y_cat.shape))\n",
        "  print (\"valid_y_cat shape: \" + str(valid_y_cat.shape))\n",
        "  print (\"test_y_cat shape:  \" + str(test_y_cat.shape))\n",
        "\n",
        "  # Creación del modelo\n",
        "  L2 = 0\n",
        "  model = Sequential([\n",
        "                    Input(shape=[train_x.shape[-1]]),\n",
        "                    #Dense(units=Clases, input_shape= [train_x.shape[-1]], activation = softmax, kernel_regularizer= l2(0.001) ),\n",
        "                    #Dropout(0.25),\n",
        "                    #Dense(units=10, activation = relu),\n",
        "                    #Dropout(0.25),\n",
        "                    Dense(units=Clases, activation = softmax)\n",
        "                    ])\n",
        "\n",
        "  # Arquitectura del modelo\n",
        "  model.summary()\n",
        "\n",
        "\n",
        "  # Definición del optimizador, función de pérdidas y métricas\n",
        "  model.compile(optimizer=tf.keras.optimizers.Adam(learning_rate=learning_rate), loss= 'categorical_crossentropy',metrics=['acc', 'categorical_crossentropy'], weighted_metrics=['acc','categorical_crossentropy'])\n",
        "  # Early stopping\n",
        "  stopping = EarlyStopping(monitor='val_weighted_categorical_crossentropy',min_delta=0,mode='auto',patience=15, restore_best_weights=True)\n",
        "  # Ajuste de pesos\n",
        "  History = model.fit(train_x, train_y_cat, sample_weight= train_Weights, epochs=250, batch_size=64, callbacks=[stopping], validation_data= (valid_x, valid_y_cat, valid_Weights), verbose=0)#, class_weight = weights_train)\n",
        "  #History = model.fit(train_x, train_y_cat, epochs=250, batch_size=64, callbacks=[stopping], validation_data= (valid_x, valid_y_cat), verbose=0, class_weight = weights_train)\n",
        "  #History = model.fit(train_x, train_y_cat, epochs=250, batch_size=64, callbacks=[stopping], validation_data= (valid_x, valid_y_cat), verbose=0)\n",
        "\n",
        "  acc_L_temp = []\n",
        "  acc_V_temp = []\n",
        "  n_L_temp = []\n",
        "  n_V_temp = []\n",
        "  Odds_V_temp = []\n",
        "  Odds_L_temp = []\n",
        "  Profit_V_temp = []\n",
        "  Profit_L_temp = []\n",
        "\n",
        "  #list_accL= []\n",
        "  umbral = []\n",
        "  for t in range(100, 650, 5):\n",
        "    T = t/1000\n",
        "    index_Pred_L = (model.predict_classes(valid_x)==0) & (valid_WHH>=1.6) & ( model.predict(valid_x)[:,0]>T )\n",
        "    index_Pred_L_good = (model.predict_classes(valid_x)==0) & (valid_WHH>=1.6) & (valid_y == 0 )  & ( model.predict(valid_x)[:,0]>T )\n",
        "    try:\n",
        "      #index_Pred_L_mayor_T = model.predict(valid_x[index_Pred_L])[:,0]>T\n",
        "      Pred_L_y_mayor_T = model.predict_classes(valid_x[index_Pred_L])\n",
        "      True_labels = valid_y[index_Pred_L]\n",
        "      #list_accL.append(accuracy_score( True_labels, Pred_L_y_mayor_T) )\n",
        "      umbral.append(T)\n",
        "      acc_L_temp.append(accuracy_score( True_labels, Pred_L_y_mayor_T) )\n",
        "      n_L_temp.append(np.sum(index_Pred_L))\n",
        "      Odds_L_temp.append(valid_WHH[index_Pred_L])\n",
        "      Profit_L_temp.append(np.sum(valid_WHH[index_Pred_L_good])/np.sum(index_Pred_L) )\n",
        "      \n",
        "      #Odds_L_temp.append(valid_WHH[index_Pred_L][index_Pred_L_mayor_T][True_labels==0] )\n",
        "      \n",
        "      #if (np.nansum(valid_WHH[index_Pred_L][index_Pred_L_mayor_T][True_labels==0])/numberOfNonNans(valid_WHH[index_Pred_L][index_Pred_L_mayor_T]) > 0.85) & (len(Pred_L_y_mayor_T) > 100):\n",
        "        #print('LLLLL:', T, alpha_test)\n",
        "    except:\n",
        "      pass\n",
        "  \n",
        "  #list_accV= []\n",
        "  umbralV = []\n",
        "  for t in range(100, 650, 5):\n",
        "    T = t/1000\n",
        "    index_Pred_V = (model.predict_classes(valid_x)==2) & (valid_WHA>=1.6) & ( model.predict(valid_x)[:,2]>T )\n",
        "    index_Pred_V_good = (model.predict_classes(valid_x)==2) & (valid_WHA>=1.6) & (valid_y == 2 )  & ( model.predict(valid_x)[:,2]>T ) \n",
        "    try:\n",
        "      Pred_V_y_mayor_T = model.predict_classes(valid_x[index_Pred_V])\n",
        "      True_labels = valid_y[index_Pred_V]\n",
        "      umbralV.append(T)\n",
        "      acc_V_temp.append(accuracy_score( True_labels, Pred_V_y_mayor_T) )\n",
        "      n_V_temp.append(np.sum(index_Pred_V))\n",
        "      Odds_V_temp.append(valid_WHA[index_Pred_V])\n",
        "      Profit_V_temp.append(np.sum(valid_WHA[index_Pred_V_good])/np.sum(index_Pred_V) )\n",
        "\n",
        "      #if (np.nansum(valid_WHA[index_Pred_V][index_Pred_V_mayor_T][True_labels==2])/numberOfNonNans(valid_WHA[index_Pred_V][index_Pred_V_mayor_T]) > 0.95) & (len(Pred_V_y_mayor_T) > 75):\n",
        "        #print('VVVVV:', T, alpha_test)\n",
        "    \n",
        "    except:\n",
        "      pass\n",
        "\n",
        "  acc_L.append(acc_L_temp)\n",
        "  acc_V.append(acc_V_temp)\n",
        "  \n",
        "  n_L.append(n_L_temp)\n",
        "  n_V.append(n_V_temp)\n",
        "\n",
        "  Odds_L.append(Odds_L_temp)\n",
        "  Odds_V.append(Odds_V_temp)\n",
        "\n",
        "  Profit_L.append(Profit_L_temp)\n",
        "  Profit_V.append(Profit_V_temp)\n",
        "\n",
        "\n",
        "  plt.figure(1)\n",
        "  plt.plot(umbral,acc_L_temp)\n",
        "  plt.figure(2)\n",
        "  plt.plot(umbralV,acc_V_temp)\n",
        "\n",
        "plt.legend(legend, loc = 'upper left')\n",
        "\n",
        "\n",
        "plt.figure()\n",
        "for k in range(len(legend)):\n",
        "  try:\n",
        "    plt.scatter(n_L[k], acc_L[k])\n",
        "    plt.plot(n_L[k], acc_L[k])\n",
        "  except:\n",
        "    pass\n",
        "plt.legend(legend, loc = 'best')\n",
        "plt.grid()\n",
        "\n",
        "plt.figure()\n",
        "for k in range(len(legend)):\n",
        "  try:\n",
        "    plt.scatter(n_V[k], acc_V[k])\n",
        "    plt.plot(n_V[k], acc_V[k])\n",
        "  except:\n",
        "    pass\n",
        "plt.legend(legend, loc = 'best')\n",
        "plt.grid()\n",
        "\n",
        "plt.figure()\n",
        "for k in range(len(legend)):\n",
        "  try:\n",
        "    plt.scatter(n_L[k], Profit_L[k])\n",
        "    plt.plot(n_L[k], Profit_L[k])\n",
        "  except:\n",
        "    pass\n",
        "plt.legend(legend, loc = 'best')\n",
        "plt.grid()\n",
        "\n",
        "plt.figure()\n",
        "for k in range(len(legend)):\n",
        "  try:\n",
        "    plt.scatter(n_V[k], Profit_V[k])\n",
        "    plt.plot(n_V[k], Profit_V[k])\n",
        "  except:\n",
        "    pass\n",
        "plt.legend(legend, loc = 'best')\n",
        "plt.grid()\n"
      ],
      "execution_count": null,
      "outputs": [
        {
          "output_type": "stream",
          "text": [
            "TRAIN_y_cat shape: (8042, 3)\n",
            "train_y_cat shape: (6433, 3)\n",
            "valid_y_cat shape: (1609, 3)\n",
            "test_y_cat shape:  (2011, 3)\n",
            "Model: \"sequential_85\"\n",
            "_________________________________________________________________\n",
            "Layer (type)                 Output Shape              Param #   \n",
            "=================================================================\n",
            "dense_98 (Dense)             (None, 3)                 141       \n",
            "=================================================================\n",
            "Total params: 141\n",
            "Trainable params: 141\n",
            "Non-trainable params: 0\n",
            "_________________________________________________________________\n"
          ],
          "name": "stdout"
        },
        {
          "output_type": "stream",
          "text": [
            "/usr/local/lib/python3.7/dist-packages/tensorflow/python/keras/engine/sequential.py:450: UserWarning: `model.predict_classes()` is deprecated and will be removed after 2021-01-01. Please use instead:* `np.argmax(model.predict(x), axis=-1)`,   if your model does multi-class classification   (e.g. if it uses a `softmax` last-layer activation).* `(model.predict(x) > 0.5).astype(\"int32\")`,   if your model does binary classification   (e.g. if it uses a `sigmoid` last-layer activation).\n",
            "  warnings.warn('`model.predict_classes()` is deprecated and '\n"
          ],
          "name": "stderr"
        },
        {
          "output_type": "stream",
          "text": [
            "TRAIN_y_cat shape: (8042, 3)\n",
            "train_y_cat shape: (6433, 3)\n",
            "valid_y_cat shape: (1609, 3)\n",
            "test_y_cat shape:  (2011, 3)\n",
            "Model: \"sequential_86\"\n",
            "_________________________________________________________________\n",
            "Layer (type)                 Output Shape              Param #   \n",
            "=================================================================\n",
            "dense_99 (Dense)             (None, 3)                 141       \n",
            "=================================================================\n",
            "Total params: 141\n",
            "Trainable params: 141\n",
            "Non-trainable params: 0\n",
            "_________________________________________________________________\n"
          ],
          "name": "stdout"
        },
        {
          "output_type": "display_data",
          "data": {
            "image/png": "[encoded data removed]",
            "text/plain": [
              "<Figure size 432x288 with 1 Axes>"
            ]
          },
          "metadata": {
            "tags": [],
            "needs_background": "light"
          }
        },
        {
          "output_type": "display_data",
          "data": {
            "image/png": "[encoded data removed]",
            "text/plain": [
              "<Figure size 432x288 with 1 Axes>"
            ]
          },
          "metadata": {
            "tags": [],
            "needs_background": "light"
          }
        },
        {
          "output_type": "display_data",
          "data": {
            "image/png": "[encoded data removed]",
            "text/plain": [
              "<Figure size 432x288 with 1 Axes>"
            ]
          },
          "metadata": {
            "tags": [],
            "needs_background": "light"
          }
        },
        {
          "output_type": "display_data",
          "data": {
            "image/png": "[encoded data removed]",
            "text/plain": [
              "<Figure size 432x288 with 1 Axes>"
            ]
          },
          "metadata": {
            "tags": [],
            "needs_background": "light"
          }
        },
        {
          "output_type": "display_data",
          "data": {
            "image/png": "[encoded data removed]",
            "text/plain": [
              "<Figure size 432x288 with 1 Axes>"
            ]
          },
          "metadata": {
            "tags": [],
            "needs_background": "light"
          }
        },
        {
          "output_type": "display_data",
          "data": {
            "image/png": "[encoded data removed]",
            "text/plain": [
              "<Figure size 432x288 with 1 Axes>"
            ]
          },
          "metadata": {
            "tags": [],
            "needs_background": "light"
          }
        }
      ]
    },
    {
      "cell_type": "markdown",
      "metadata": {
        "id": "oKaOnt82YP4x"
      },
      "source": [
        "## Ordenar"
      ]
    },
    {
      "cell_type": "code",
      "metadata": {
        "id": "-HVKqdcmx_0a",
        "colab": {
          "base_uri": "https://localhost:8080/"
        },
        "outputId": "d0d6654f-b589-4d89-964d-217809fa7ec7"
      },
      "source": [
        "temp_n_V = n_V[0]\n",
        "temp_acc_V = acc_V[0]\n",
        "temp_Odds_V = Odds_V[0]\n",
        "temp_Profit_V = Profit_V[0]\n",
        "\n",
        "for i in range(len(n_V)-1):\n",
        "  temp_n_V = np.concatenate((temp_n_V, n_V[i+1]),axis=0)\n",
        "  temp_acc_V = np.concatenate((temp_acc_V, acc_V[i+1]),axis=0)\n",
        "  temp_Odds_V = np.concatenate((temp_Odds_V, Odds_V[i+1]),axis=0)\n",
        "  temp_Profit_V = np.concatenate((temp_Profit_V, Profit_V[i+1]),axis=0)\n"
      ],
      "execution_count": null,
      "outputs": [
        {
          "output_type": "stream",
          "text": [
            "<string>:6: VisibleDeprecationWarning: Creating an ndarray from ragged nested sequences (which is a list-or-tuple of lists-or-tuples-or ndarrays with different lengths or shapes) is deprecated. If you meant to do this, you must specify 'dtype=object' when creating the ndarray\n"
          ],
          "name": "stderr"
        }
      ]
    },
    {
      "cell_type": "code",
      "metadata": {
        "id": "zI7T-UhGYARg",
        "colab": {
          "base_uri": "https://localhost:8080/"
        },
        "outputId": "25470276-6da5-45d9-ba02-b8b287ee0c2f"
      },
      "source": [
        "temp_n_L = n_L[0]\n",
        "temp_acc_L = acc_L[0]\n",
        "temp_Odds_L = Odds_L[0]\n",
        "temp_Profit_L = Profit_L[0]\n",
        "\n",
        "for i in range(len(n_L)-1):\n",
        "  temp_n_L = np.concatenate((temp_n_L, n_L[i+1]),axis=0)\n",
        "  temp_acc_L = np.concatenate((temp_acc_L, acc_L[i+1]),axis=0)\n",
        "  temp_Odds_L = np.concatenate((temp_Odds_L, Odds_L[i+1]),axis=0)\n",
        "  temp_Profit_L = np.concatenate((temp_Profit_L, Profit_L[i+1]),axis=0)\n"
      ],
      "execution_count": null,
      "outputs": [
        {
          "output_type": "stream",
          "text": [
            "<string>:6: VisibleDeprecationWarning: Creating an ndarray from ragged nested sequences (which is a list-or-tuple of lists-or-tuples-or ndarrays with different lengths or shapes) is deprecated. If you meant to do this, you must specify 'dtype=object' when creating the ndarray\n"
          ],
          "name": "stderr"
        }
      ]
    },
    {
      "cell_type": "code",
      "metadata": {
        "id": "rlsvixxEXe6S"
      },
      "source": [
        "new_n_V = np.asarray(temp_n_V)[np.argsort(temp_n_V)]\n",
        "new_acc_V = np.asarray(temp_acc_V)[np.argsort(temp_n_V)]\n",
        "new_Odds_V = np.asarray(temp_Odds_V)[np.argsort(temp_n_V)]\n",
        "new_Profit_V = np.asarray(temp_Profit_V)[np.argsort(temp_n_V)]\n",
        "\n",
        "new_n_L = np.asarray(temp_n_L)[np.argsort(temp_n_L)]\n",
        "new_acc_L = np.asarray(temp_acc_L)[np.argsort(temp_n_L)]\n",
        "new_Odds_L = np.asarray(temp_Odds_L)[np.argsort(temp_n_L)]\n",
        "new_Profit_L = np.asarray(temp_Profit_L)[np.argsort(temp_n_L)]"
      ],
      "execution_count": null,
      "outputs": []
    },
    {
      "cell_type": "markdown",
      "metadata": {
        "id": "_izCIo40Yi-h"
      },
      "source": [
        "## Valor promedio de Odds acertadas"
      ]
    },
    {
      "cell_type": "code",
      "metadata": {
        "id": "XKPCZ2FS9IYW"
      },
      "source": [
        "av_new_Odds_L = []\n",
        "for i in range(len(new_Odds_L)):\n",
        "  av_new_Odds_L.append(np.nanmean(new_Odds_L[i]))\n",
        "av_new_Odds_L = np.asarray(av_new_Odds_L)\n",
        "\n",
        "av_new_Odds_V = []\n",
        "for i in range(len(new_Odds_V)):\n",
        "  av_new_Odds_V.append(np.nanmean(new_Odds_V[i]))\n",
        "av_new_Odds_V = np.asarray(av_new_Odds_V)"
      ],
      "execution_count": null,
      "outputs": []
    },
    {
      "cell_type": "markdown",
      "metadata": {
        "id": "gj22iGCMY17m"
      },
      "source": [
        "## Plots"
      ]
    },
    {
      "cell_type": "code",
      "metadata": {
        "id": "WBqO11E287C-",
        "colab": {
          "base_uri": "https://localhost:8080/",
          "height": 782
        },
        "outputId": "ecd8ddd5-30a4-4afd-db13-8a4c2bf9a1be"
      },
      "source": [
        "plt.plot(np.convolve(new_n_L, np.ones(10), 'valid') / 10, np.convolve(av_new_Odds_L, np.ones(10), 'valid') / 10)\n",
        "plt.grid()\n",
        "plt.legend(['Odds promedio'])\n",
        "\n",
        "std_temp = []\n",
        "for i in range(len(new_acc_L)-9):\n",
        "  std_temp.append(np.std(new_acc_L[i:i+10]))\n",
        "#plt.plot(new_n_L[5:-4], std_temp)\n",
        "\n",
        "plt.figure()\n",
        "plt.plot(np.convolve(new_n_L, np.ones(10), 'valid') / 10, np.convolve(new_acc_L, np.ones(10), 'valid') / 10)\n",
        "plt.plot(np.convolve(new_n_L, np.ones(10), 'valid') / 10, np.convolve(new_acc_L, np.ones(10), 'valid') / 10 + np.asarray(std_temp)*3)\n",
        "plt.plot(np.convolve(new_n_L, np.ones(10), 'valid') / 10, np.convolve(new_acc_L, np.ones(10), 'valid') / 10 - np.asarray(std_temp)*3)\n",
        "plt.grid()\n",
        "plt.legend(['Probabilidad de acertar','acertar+3std','acertar-3std'])\n",
        "plt.axis([0, 1200, 0.25, 0.75])\n",
        "\n",
        "std_temp = []\n",
        "for i in range(len(new_Profit_L)-9):\n",
        "  std_temp.append(np.std(new_Profit_L[i:i+10]))\n",
        "\n",
        "plt.figure()\n",
        "#plt.plot(np.convolve(new_n_L, np.ones(10), 'valid') / 10, (np.convolve(new_acc_L, np.ones(10), 'valid') / 10)*(np.convolve(av_new_Odds_L, np.ones(10), 'valid') / 10))\n",
        "plt.plot(np.convolve(new_n_L, np.ones(10), 'valid') / 10, np.convolve(new_Profit_L, np.ones(10), 'valid') / 10 )\n",
        "plt.plot(np.convolve(new_n_L, np.ones(10), 'valid') / 10, np.convolve(new_Profit_L, np.ones(10), 'valid') / 10 + np.asarray(std_temp)*3)\n",
        "plt.plot(np.convolve(new_n_L, np.ones(10), 'valid') / 10, np.convolve(new_Profit_L, np.ones(10), 'valid') / 10 - np.asarray(std_temp)*3)\n",
        "plt.grid()\n",
        "plt.legend(['Ganancia esperada'])\n",
        "plt.axis([0, 1200, 0.8, 1.2])\n",
        "\n",
        "\n",
        "#plt.figure()\n",
        "#plt.title('Desviación estandar')\n",
        "#plt.axis([0, 600, 0, 0.05])\n"
      ],
      "execution_count": null,
      "outputs": [
        {
          "output_type": "execute_result",
          "data": {
            "text/plain": [
              "(0.0, 1200.0, 0.8, 1.2)"
            ]
          },
          "metadata": {
            "tags": []
          },
          "execution_count": 1097
        },
        {
          "output_type": "display_data",
          "data": {
            "image/png": "[encoded data removed]",
            "text/plain": [
              "<Figure size 432x288 with 1 Axes>"
            ]
          },
          "metadata": {
            "tags": [],
            "needs_background": "light"
          }
        },
        {
          "output_type": "display_data",
          "data": {
            "image/png": "[encoded data removed]",
            "text/plain": [
              "<Figure size 432x288 with 1 Axes>"
            ]
          },
          "metadata": {
            "tags": [],
            "needs_background": "light"
          }
        },
        {
          "output_type": "display_data",
          "data": {
            "image/png": "[encoded data removed]",
            "text/plain": [
              "<Figure size 432x288 with 1 Axes>"
            ]
          },
          "metadata": {
            "tags": [],
            "needs_background": "light"
          }
        }
      ]
    },
    {
      "cell_type": "code",
      "metadata": {
        "colab": {
          "base_uri": "https://localhost:8080/",
          "height": 782
        },
        "id": "rgfgQOZ4xr1N",
        "outputId": "a84cc6cd-dda7-4ba8-a021-b4bd001d9902"
      },
      "source": [
        "plt.plot(np.convolve(new_n_V, np.ones(10), 'valid') / 10, np.convolve(av_new_Odds_V, np.ones(10), 'valid') / 10)\n",
        "plt.grid()\n",
        "plt.legend(['Odds promedio'])\n",
        "\n",
        "std_temp = []\n",
        "for i in range(len(new_acc_V)-9):\n",
        "  std_temp.append(np.std(new_acc_V[i:i+10]))\n",
        "#plt.plot(new_n_V[5:-4], std_temp)\n",
        "\n",
        "plt.figure()\n",
        "plt.plot(np.convolve(new_n_V, np.ones(10), 'valid') / 10, np.convolve(new_acc_V, np.ones(10), 'valid') / 10)\n",
        "plt.plot(np.convolve(new_n_V, np.ones(10), 'valid') / 10, np.convolve(new_acc_V, np.ones(10), 'valid') / 10 + np.asarray(std_temp)*3)\n",
        "plt.plot(np.convolve(new_n_V, np.ones(10), 'valid') / 10, np.convolve(new_acc_V, np.ones(10), 'valid') / 10 - np.asarray(std_temp)*3)\n",
        "plt.grid()\n",
        "plt.legend(['Probabilidad de acertar','acertar+3std','acertar-3std'])\n",
        "plt.axis([0, 1200, 0.25, 0.75])\n",
        "\n",
        "std_temp = []\n",
        "for i in range(len(new_Profit_V)-9):\n",
        "  std_temp.append(np.std(new_Profit_V[i:i+10]))\n",
        "\n",
        "plt.figure()\n",
        "#plt.plot(np.convolve(new_n_V, np.ones(10), 'valid') / 10, (np.convolve(new_acc_V, np.ones(10), 'valid') / 10)*(np.convolve(av_new_Odds_V, np.ones(10), 'valid') / 10))\n",
        "plt.plot(np.convolve(new_n_V, np.ones(10), 'valid') / 10, np.convolve(new_Profit_V, np.ones(10), 'valid') / 10 )\n",
        "plt.plot(np.convolve(new_n_V, np.ones(10), 'valid') / 10, np.convolve(new_Profit_V, np.ones(10), 'valid') / 10 + np.asarray(std_temp)*3)\n",
        "plt.plot(np.convolve(new_n_V, np.ones(10), 'valid') / 10, np.convolve(new_Profit_V, np.ones(10), 'valid') / 10 - np.asarray(std_temp)*3)\n",
        "plt.grid()\n",
        "plt.legend(['Ganancia esperada'])\n",
        "plt.axis([0, 1200, 0.8, 1.2])\n",
        "\n",
        "#plt.figure()\n",
        "#plt.title('Desviación estandar')\n",
        "#plt.axis([0, 600, 0, 0.05])\n"
      ],
      "execution_count": null,
      "outputs": [
        {
          "output_type": "execute_result",
          "data": {
            "text/plain": [
              "(0.0, 1200.0, 0.8, 1.2)"
            ]
          },
          "metadata": {
            "tags": []
          },
          "execution_count": 1098
        },
        {
          "output_type": "display_data",
          "data": {
            "image/png": "[encoded data removed]",
            "text/plain": [
              "<Figure size 432x288 with 1 Axes>"
            ]
          },
          "metadata": {
            "tags": [],
            "needs_background": "light"
          }
        },
        {
          "output_type": "display_data",
          "data": {
            "image/png": "[encoded data removed]",
            "text/plain": [
              "<Figure size 432x288 with 1 Axes>"
            ]
          },
          "metadata": {
            "tags": [],
            "needs_background": "light"
          }
        },
        {
          "output_type": "display_data",
          "data": {
            "image/png": "[encoded data removed]",
            "text/plain": [
              "<Figure size 432x288 with 1 Axes>"
            ]
          },
          "metadata": {
            "tags": [],
            "needs_background": "light"
          }
        }
      ]
    },
    {
      "cell_type": "code",
      "metadata": {
        "colab": {
          "base_uri": "https://localhost:8080/"
        },
        "id": "1Eqj_P9wkozN",
        "outputId": "9ab7487b-04fe-426b-e416-c9d5bead05c4"
      },
      "source": [
        "len(np.asarray(std_temp)*3)"
      ],
      "execution_count": null,
      "outputs": [
        {
          "output_type": "execute_result",
          "data": {
            "text/plain": [
              "2742"
            ]
          },
          "metadata": {
            "tags": []
          },
          "execution_count": 518
        }
      ]
    },
    {
      "cell_type": "code",
      "metadata": {
        "id": "9p2SRUSTameZ",
        "colab": {
          "base_uri": "https://localhost:8080/"
        },
        "outputId": "2c5fa40f-c625-4487-c9d8-af2e5a60eb28"
      },
      "source": [
        "test_y.shape"
      ],
      "execution_count": null,
      "outputs": [
        {
          "output_type": "execute_result",
          "data": {
            "text/plain": [
              "(2011,)"
            ]
          },
          "metadata": {
            "tags": []
          },
          "execution_count": 1117
        }
      ]
    },
    {
      "cell_type": "markdown",
      "metadata": {
        "id": "n1CYwD_eUGuH"
      },
      "source": [
        "#TEST"
      ]
    },
    {
      "cell_type": "code",
      "metadata": {
        "colab": {
          "base_uri": "https://localhost:8080/",
          "height": 1000
        },
        "id": "WujW4aNgHsL7",
        "outputId": "7195cde2-d516-4bde-a692-c3db39385047"
      },
      "source": [
        "pf = []\n",
        "prob =  []\n",
        "num_p = []\n",
        "odds_p = []\n",
        "\n",
        "for T in range(33,55):\n",
        "  t = T/100  \n",
        "  index_Pred_L = (model.predict_classes(test_x)==0) & (test_WHH>=1.6) & ( model.predict(test_x)[:,0]> t )\n",
        "  index_Pred_L_good = (model.predict_classes(test_x)==0) & (test_WHH>=1.6) & (test_y == 0 )  & ( model.predict(test_x)[:,0]> t ) \n",
        "  Pred_L_y_mayor_T = model.predict_classes(test_x[index_Pred_L])\n",
        "  True_labels = test_y[index_Pred_L]\n",
        "  print('acc: ', accuracy_score( True_labels, Pred_L_y_mayor_T) )\n",
        "  print('num predicciones: ', np.sum(index_Pred_L) )\n",
        "  print('Odds promedio: ',np.mean(test_WHH[index_Pred_L]) )\n",
        "  print('Profit: ',np.sum(test_WHH[index_Pred_L_good])/np.sum(index_Pred_L) )\n",
        "  pf.append(np.sum(test_WHH[index_Pred_L_good])/np.sum(index_Pred_L))\n",
        "  prob.append(accuracy_score( True_labels, Pred_L_y_mayor_T) )\n",
        "  num_p.append(np.sum(index_Pred_L) )\n",
        "  odds_p.append(np.mean(test_WHH[index_Pred_L]) )\n",
        "\n",
        "\n",
        "plt.plot(range(33,55),pf)\n",
        "plt.figure()\n",
        "plt.plot(range(33,55),prob)\n",
        "plt.figure()\n",
        "plt.plot(range(33,55),num_p)\n",
        "plt.figure()\n",
        "plt.plot(range(33,55),odds_p)"
      ],
      "execution_count": null,
      "outputs": [
        {
          "output_type": "stream",
          "text": [
            "/usr/local/lib/python3.7/dist-packages/tensorflow/python/keras/engine/sequential.py:450: UserWarning: `model.predict_classes()` is deprecated and will be removed after 2021-01-01. Please use instead:* `np.argmax(model.predict(x), axis=-1)`,   if your model does multi-class classification   (e.g. if it uses a `softmax` last-layer activation).* `(model.predict(x) > 0.5).astype(\"int32\")`,   if your model does binary classification   (e.g. if it uses a `sigmoid` last-layer activation).\n",
            "  warnings.warn('`model.predict_classes()` is deprecated and '\n"
          ],
          "name": "stderr"
        },
        {
          "output_type": "stream",
          "text": [
            "acc:  0.48491879350348027\n",
            "num predicciones:  862\n",
            "Odds promedio:  2.059953596287703\n",
            "Profit:  0.973909512761021\n",
            "acc:  0.4859484777517564\n",
            "num predicciones:  854\n",
            "Odds promedio:  2.058091334894614\n",
            "Profit:  0.9750117096018737\n",
            "acc:  0.49266503667481665\n",
            "num predicciones:  818\n",
            "Odds promedio:  2.053471882640587\n",
            "Profit:  0.9886919315403423\n",
            "acc:  0.4905913978494624\n",
            "num predicciones:  744\n",
            "Odds promedio:  2.0345295698924732\n",
            "Profit:  0.978481182795699\n",
            "acc:  0.49925705794947994\n",
            "num predicciones:  673\n",
            "Odds promedio:  2.0120356612184254\n",
            "Profit:  0.9917830609212482\n",
            "acc:  0.4957983193277311\n",
            "num predicciones:  595\n",
            "Odds promedio:  1.9937647058823529\n",
            "Profit:  0.9779159663865544\n",
            "acc:  0.5106382978723404\n",
            "num predicciones:  517\n",
            "Odds promedio:  1.9708704061895552\n",
            "Profit:  0.996615087040619\n",
            "acc:  0.5150812064965197\n",
            "num predicciones:  431\n",
            "Odds promedio:  1.9416937354988402\n",
            "Profit:  0.9866125290023202\n",
            "acc:  0.5121951219512195\n",
            "num predicciones:  369\n",
            "Odds promedio:  1.9173441734417345\n",
            "Profit:  0.9668834688346882\n",
            "acc:  0.5112540192926045\n",
            "num predicciones:  311\n",
            "Odds promedio:  1.8921221864951767\n",
            "Profit:  0.9559163987138263\n",
            "acc:  0.5210727969348659\n",
            "num predicciones:  261\n",
            "Odds promedio:  1.891954022988506\n",
            "Profit:  0.9779693486590039\n",
            "acc:  0.5333333333333333\n",
            "num predicciones:  210\n",
            "Odds promedio:  1.8826666666666667\n",
            "Profit:  1.000047619047619\n",
            "acc:  0.5217391304347826\n",
            "num predicciones:  161\n",
            "Odds promedio:  1.8822981366459628\n",
            "Profit:  0.986583850931677\n",
            "acc:  0.48412698412698413\n",
            "num predicciones:  126\n",
            "Odds promedio:  1.8493650793650795\n",
            "Profit:  0.8973015873015874\n",
            "acc:  0.5048543689320388\n",
            "num predicciones:  103\n",
            "Odds promedio:  1.852815533980582\n",
            "Profit:  0.9380582524271845\n",
            "acc:  0.47368421052631576\n",
            "num predicciones:  76\n",
            "Odds promedio:  1.825263157894737\n",
            "Profit:  0.8657894736842103\n",
            "acc:  0.4807692307692308\n",
            "num predicciones:  52\n",
            "Odds promedio:  1.8311538461538461\n",
            "Profit:  0.8873076923076924\n",
            "acc:  0.4166666666666667\n",
            "num predicciones:  36\n",
            "Odds promedio:  1.8316666666666666\n",
            "Profit:  0.7594444444444446\n",
            "acc:  0.4074074074074074\n",
            "num predicciones:  27\n",
            "Odds promedio:  1.7925925925925925\n",
            "Profit:  0.7329629629629629\n",
            "acc:  0.4444444444444444\n",
            "num predicciones:  18\n",
            "Odds promedio:  1.808888888888889\n",
            "Profit:  0.8088888888888889\n",
            "acc:  0.5833333333333334\n",
            "num predicciones:  12\n",
            "Odds promedio:  1.7758333333333332\n",
            "Profit:  1.0675\n",
            "acc:  0.75\n",
            "num predicciones:  8\n",
            "Odds promedio:  1.82375\n",
            "Profit:  1.40125\n"
          ],
          "name": "stdout"
        },
        {
          "output_type": "execute_result",
          "data": {
            "text/plain": [
              "[<matplotlib.lines.Line2D at 0x7f3d1e8ac110>]"
            ]
          },
          "metadata": {
            "tags": []
          },
          "execution_count": 1121
        },
        {
          "output_type": "display_data",
          "data": {
            "image/png": "[encoded data removed]",
            "text/plain": [
              "<Figure size 432x288 with 1 Axes>"
            ]
          },
          "metadata": {
            "tags": [],
            "needs_background": "light"
          }
        },
        {
          "output_type": "display_data",
          "data": {
            "image/png": "[encoded data removed]",
            "text/plain": [
              "<Figure size 432x288 with 1 Axes>"
            ]
          },
          "metadata": {
            "tags": [],
            "needs_background": "light"
          }
        },
        {
          "output_type": "display_data",
          "data": {
            "image/png": "[encoded data removed]",
            "text/plain": [
              "<Figure size 432x288 with 1 Axes>"
            ]
          },
          "metadata": {
            "tags": [],
            "needs_background": "light"
          }
        },
        {
          "output_type": "display_data",
          "data": {
            "image/png": "[encoded data removed]",
            "text/plain": [
              "<Figure size 432x288 with 1 Axes>"
            ]
          },
          "metadata": {
            "tags": [],
            "needs_background": "light"
          }
        }
      ]
    },
    {
      "cell_type": "code",
      "metadata": {
        "colab": {
          "base_uri": "https://localhost:8080/",
          "height": 1000
        },
        "id": "7zGIEF2xGnFL",
        "outputId": "d5daa42e-a6f5-4da3-d6ec-0be13228d991"
      },
      "source": [
        "pf = []\n",
        "prob =  []\n",
        "num_p = []\n",
        "odds_p = []\n",
        "\n",
        "for T in range(33,55):\n",
        "  t = T/100\n",
        "  print(t)\n",
        "  index_Pred_V = (model.predict_classes(test_x)==2) & (test_WHA>=1.6) & ( model.predict(test_x)[:,2]> t )\n",
        "  index_Pred_V_good = (model.predict_classes(test_x)==2) & (test_WHA>=1.6) & (test_y == 2 )  & ( model.predict(test_x)[:,2]> t ) \n",
        "  Pred_V_y_mayor_T = model.predict_classes(test_x[index_Pred_V])\n",
        "  True_labels = test_y[index_Pred_V]\n",
        "  print('acc: ', accuracy_score( True_labels, Pred_V_y_mayor_T) )\n",
        "  print('num predicciones: ', np.sum(index_Pred_V) )\n",
        "  print('Odds promedio: ',np.mean(test_WHA[index_Pred_V]) )\n",
        "  print('Profit: ',np.sum(test_WHA[index_Pred_V_good])/np.sum(index_Pred_V) )\n",
        "\n",
        "  pf.append(np.sum(test_WHA[index_Pred_V_good])/np.sum(index_Pred_V) )\n",
        "  prob.append(accuracy_score( True_labels, Pred_V_y_mayor_T) )\n",
        "  num_p.append( np.sum(index_Pred_V) )\n",
        "  odds_p.append(np.mean(test_WHA[index_Pred_V]) )\n",
        "\n",
        "plt.plot(range(33,55),pf)\n",
        "plt.figure()\n",
        "plt.plot(range(33,55),prob)\n",
        "plt.figure()\n",
        "plt.plot(range(33,55),num_p)\n",
        "plt.figure()\n",
        "plt.plot(range(33,55),odds_p)"
      ],
      "execution_count": null,
      "outputs": [
        {
          "output_type": "stream",
          "text": [
            "0.33\n"
          ],
          "name": "stdout"
        },
        {
          "output_type": "stream",
          "text": [
            "/usr/local/lib/python3.7/dist-packages/tensorflow/python/keras/engine/sequential.py:450: UserWarning: `model.predict_classes()` is deprecated and will be removed after 2021-01-01. Please use instead:* `np.argmax(model.predict(x), axis=-1)`,   if your model does multi-class classification   (e.g. if it uses a `softmax` last-layer activation).* `(model.predict(x) > 0.5).astype(\"int32\")`,   if your model does binary classification   (e.g. if it uses a `sigmoid` last-layer activation).\n",
            "  warnings.warn('`model.predict_classes()` is deprecated and '\n"
          ],
          "name": "stderr"
        },
        {
          "output_type": "stream",
          "text": [
            "acc:  0.36529126213592233\n",
            "num predicciones:  824\n",
            "Odds promedio:  2.6513592233009713\n",
            "Profit:  0.8860800970873788\n",
            "0.34\n",
            "acc:  0.36887254901960786\n",
            "num predicciones:  816\n",
            "Odds promedio:  2.645367647058823\n",
            "Profit:  0.8947671568627452\n",
            "0.35\n",
            "acc:  0.3669250645994832\n",
            "num predicciones:  774\n",
            "Odds promedio:  2.6140697674418605\n",
            "Profit:  0.8779715762273903\n",
            "0.36\n",
            "acc:  0.3755274261603376\n",
            "num predicciones:  711\n",
            "Odds promedio:  2.5659915611814346\n",
            "Profit:  0.8879606188466946\n",
            "0.37\n",
            "acc:  0.38871951219512196\n",
            "num predicciones:  656\n",
            "Odds promedio:  2.5227286585365856\n",
            "Profit:  0.9096646341463415\n",
            "0.38\n",
            "acc:  0.3912310286677909\n",
            "num predicciones:  593\n",
            "Odds promedio:  2.4713827993254642\n",
            "Profit:  0.8977740303541317\n",
            "0.39\n",
            "acc:  0.39444444444444443\n",
            "num predicciones:  540\n",
            "Odds promedio:  2.440185185185185\n",
            "Profit:  0.8914629629629629\n",
            "0.4\n",
            "acc:  0.39828693790149894\n",
            "num predicciones:  467\n",
            "Odds promedio:  2.3814346895074943\n",
            "Profit:  0.8758458244111349\n",
            "0.41\n",
            "acc:  0.4156479217603912\n",
            "num predicciones:  409\n",
            "Odds promedio:  2.332078239608802\n",
            "Profit:  0.9034474327628361\n",
            "0.42\n",
            "acc:  0.4257703081232493\n",
            "num predicciones:  357\n",
            "Odds promedio:  2.2960224089635854\n",
            "Profit:  0.9127450980392156\n",
            "0.43\n",
            "acc:  0.42996742671009774\n",
            "num predicciones:  307\n",
            "Odds promedio:  2.255244299674267\n",
            "Profit:  0.9197068403908796\n",
            "0.44\n",
            "acc:  0.43023255813953487\n",
            "num predicciones:  258\n",
            "Odds promedio:  2.193178294573643\n",
            "Profit:  0.8959302325581396\n",
            "0.45\n",
            "acc:  0.44907407407407407\n",
            "num predicciones:  216\n",
            "Odds promedio:  2.158148148148148\n",
            "Profit:  0.9273148148148148\n",
            "0.46\n",
            "acc:  0.46111111111111114\n",
            "num predicciones:  180\n",
            "Odds promedio:  2.0983888888888886\n",
            "Profit:  0.9388333333333335\n",
            "0.47\n",
            "acc:  0.5\n",
            "num predicciones:  144\n",
            "Odds promedio:  2.0415972222222223\n",
            "Profit:  0.9886111111111112\n",
            "0.48\n",
            "acc:  0.49206349206349204\n",
            "num predicciones:  126\n",
            "Odds promedio:  2.0327777777777776\n",
            "Profit:  0.9563492063492065\n",
            "0.49\n",
            "acc:  0.4954128440366973\n",
            "num predicciones:  109\n",
            "Odds promedio:  1.9759633027522938\n",
            "Profit:  0.9600917431192659\n",
            "0.5\n",
            "acc:  0.5473684210526316\n",
            "num predicciones:  95\n",
            "Odds promedio:  1.9617894736842103\n",
            "Profit:  1.0547368421052632\n",
            "0.51\n",
            "acc:  0.5324675324675324\n",
            "num predicciones:  77\n",
            "Odds promedio:  1.9702597402597404\n",
            "Profit:  1.0314285714285714\n",
            "0.52\n",
            "acc:  0.5172413793103449\n",
            "num predicciones:  58\n",
            "Odds promedio:  1.939137931034483\n",
            "Profit:  0.9739655172413791\n",
            "0.53\n",
            "acc:  0.5333333333333333\n",
            "num predicciones:  45\n",
            "Odds promedio:  1.9053333333333333\n",
            "Profit:  0.9791111111111112\n",
            "0.54\n",
            "acc:  0.5757575757575758\n",
            "num predicciones:  33\n",
            "Odds promedio:  1.8815151515151516\n",
            "Profit:  1.0348484848484851\n"
          ],
          "name": "stdout"
        },
        {
          "output_type": "execute_result",
          "data": {
            "text/plain": [
              "[<matplotlib.lines.Line2D at 0x7f3cd0013950>]"
            ]
          },
          "metadata": {
            "tags": []
          },
          "execution_count": 1123
        },
        {
          "output_type": "display_data",
          "data": {
            "image/png": "[encoded data removed]",
            "text/plain": [
              "<Figure size 432x288 with 1 Axes>"
            ]
          },
          "metadata": {
            "tags": [],
            "needs_background": "light"
          }
        },
        {
          "output_type": "display_data",
          "data": {
            "image/png": "[encoded data removed]",
            "text/plain": [
              "<Figure size 432x288 with 1 Axes>"
            ]
          },
          "metadata": {
            "tags": [],
            "needs_background": "light"
          }
        },
        {
          "output_type": "display_data",
          "data": {
            "image/png": "[encoded data removed]",
            "text/plain": [
              "<Figure size 432x288 with 1 Axes>"
            ]
          },
          "metadata": {
            "tags": [],
            "needs_background": "light"
          }
        },
        {
          "output_type": "display_data",
          "data": {
            "image/png": "[encoded data removed]",
            "text/plain": [
              "<Figure size 432x288 with 1 Axes>"
            ]
          },
          "metadata": {
            "tags": [],
            "needs_background": "light"
          }
        }
      ]
    },
    {
      "cell_type": "code",
      "metadata": {
        "id": "HAHmXz0T9OE-"
      },
      "source": [
        ""
      ],
      "execution_count": null,
      "outputs": []
    },
    {
      "cell_type": "code",
      "metadata": {
        "id": "xIhWXn_8QKDq",
        "colab": {
          "base_uri": "https://localhost:8080/"
        },
        "outputId": "88b83905-8a06-4cbd-f5bf-ff04bd53f568"
      },
      "source": [
        "#Converts a class vector\n",
        "\n",
        "\n",
        "if Clases ==4:\n",
        "  TRAIN_y_cat = transfor4(to_categorical(TRAIN_y,4), alpha=alpha)\n",
        "  train_y_cat = transfor4(to_categorical(train_y,4), alpha=alpha)\n",
        "  valid_y_cat = transfor4(to_categorical(valid_y,4), alpha=alpha)\n",
        "  test_y_cat = transfor4(to_categorical(test_y,4), alpha=alpha)\n",
        "elif Clases ==3:\n",
        "  TRAIN_y_cat = to_categorical(TRAIN_y,3)\n",
        "  train_y_cat = to_categorical(train_y,3)\n",
        "  valid_y_cat = to_categorical(valid_y,3)\n",
        "  test_y_cat = to_categorical(test_y,3)\n",
        "\n",
        "\n",
        "print (\"TRAIN_y_cat shape: \" + str(TRAIN_y_cat.shape))\n",
        "print (\"train_y_cat shape: \" + str(train_y_cat.shape))\n",
        "print (\"valid_y_cat shape: \" + str(valid_y_cat.shape))\n",
        "print (\"test_y_cat shape:  \" + str(test_y_cat.shape))"
      ],
      "execution_count": null,
      "outputs": [
        {
          "output_type": "stream",
          "text": [
            "TRAIN_y_cat shape: (8042, 3)\n",
            "train_y_cat shape: (6433, 3)\n",
            "valid_y_cat shape: (1609, 3)\n",
            "test_y_cat shape:  (2011, 3)\n"
          ],
          "name": "stdout"
        }
      ]
    },
    {
      "cell_type": "code",
      "metadata": {
        "id": "v7_xioUkP4xi"
      },
      "source": [
        "\n",
        "class_weights_TRAIN = class_weight.compute_class_weight('balanced',\n",
        "                                                 np.unique(TRAIN_y),\n",
        "                                                 TRAIN_y)\n",
        "#class_weights = np.concatenate((class_weights, [1]), axis = 0) \n",
        "# weights_test = {}\n",
        "# for i in range(len(class_weights)):\n",
        "#   weights_test[i] = class_weights[i]\n",
        "# weights_test\n"
      ],
      "execution_count": null,
      "outputs": []
    },
    {
      "cell_type": "code",
      "metadata": {
        "id": "hwL7nNpHUHVk",
        "colab": {
          "base_uri": "https://localhost:8080/"
        },
        "outputId": "fa7fade3-f68c-4353-cfc0-639ba051fc6f"
      },
      "source": [
        "# Creación del modelo\n",
        "modelo_final = Sequential([\n",
        "                    Input(shape=[TRAIN_x.shape[-1]]),\n",
        "                    #Dense(units=Clases, input_shape= [train_x.shape[-1]], activation = softmax, kernel_regularizer= l2(0.001) ),\n",
        "                    #Dropout(0.25),\n",
        "                    #Dense(units=10, activation = relu),\n",
        "                    #Dropout(0.25),\n",
        "                    Dense(units=Clases, activation = softmax)\n",
        "                    ])\n",
        "\n",
        "# Arquitectura del modelo\n",
        "modelo_final.summary()"
      ],
      "execution_count": null,
      "outputs": [
        {
          "output_type": "stream",
          "text": [
            "Model: \"sequential_88\"\n",
            "_________________________________________________________________\n",
            "Layer (type)                 Output Shape              Param #   \n",
            "=================================================================\n",
            "dense_101 (Dense)            (None, 3)                 141       \n",
            "=================================================================\n",
            "Total params: 141\n",
            "Trainable params: 141\n",
            "Non-trainable params: 0\n",
            "_________________________________________________________________\n"
          ],
          "name": "stdout"
        }
      ]
    },
    {
      "cell_type": "code",
      "metadata": {
        "id": "a5F1JRUOKDyi"
      },
      "source": [
        "TRAIN_Weights = (TRAIN_y==0)*class_weights_TRAIN[0]+(TRAIN_y==1)*class_weights_TRAIN[1] + (TRAIN_y==2)*class_weights_TRAIN[2]\n",
        "\n",
        "test_Weights = (test_y==0)*class_weights_TRAIN[0]+(test_y==1)*class_weights_TRAIN[1] + (test_y==2)*class_weights_TRAIN[2]\n"
      ],
      "execution_count": null,
      "outputs": []
    },
    {
      "cell_type": "code",
      "metadata": {
        "id": "JB4eorTtUH0d",
        "colab": {
          "base_uri": "https://localhost:8080/"
        },
        "outputId": "0a516721-d81f-48ac-a8aa-203c26dd53e4"
      },
      "source": [
        "# Definición del optimizador, función de pérdidas y métricas\n",
        "modelo_final.compile(optimizer=tf.keras.optimizers.Adam(learning_rate=learning_rate), loss= 'categorical_crossentropy',metrics=['acc', 'categorical_crossentropy'], weighted_metrics=['acc','categorical_crossentropy'])\n",
        "# Early stopping\n",
        "stopping = EarlyStopping(monitor='val_weighted_categorical_crossentropy',min_delta=0,mode='auto',patience=15, restore_best_weights=True)\n",
        "# Ajuste de pesos\n",
        "History = modelo_final.fit(TRAIN_x, TRAIN_y_cat, sample_weight= TRAIN_Weights, epochs=250, batch_size=64, callbacks=[stopping] ,validation_data= (test_x, test_y_cat, test_Weights))#, class_weight = weights_test)\n"
      ],
      "execution_count": null,
      "outputs": [
        {
          "output_type": "stream",
          "text": [
            "Epoch 1/250\n",
            "126/126 [==============================] - 2s 8ms/step - loss: 1.1575 - acc: 0.3033 - categorical_crossentropy: 1.1629 - weighted_acc: 0.3056 - weighted_categorical_crossentropy: 1.1569 - val_loss: 1.1479 - val_acc: 0.3232 - val_categorical_crossentropy: 1.1537 - val_weighted_acc: 0.3311 - val_weighted_categorical_crossentropy: 1.1447\n",
            "Epoch 2/250\n",
            "126/126 [==============================] - 0s 4ms/step - loss: 1.1495 - acc: 0.3047 - categorical_crossentropy: 1.1552 - weighted_acc: 0.3055 - weighted_categorical_crossentropy: 1.1499 - val_loss: 1.1408 - val_acc: 0.3257 - val_categorical_crossentropy: 1.1456 - val_weighted_acc: 0.3336 - val_weighted_categorical_crossentropy: 1.1376\n",
            "Epoch 3/250\n",
            "126/126 [==============================] - 0s 4ms/step - loss: 1.1356 - acc: 0.3190 - categorical_crossentropy: 1.1431 - weighted_acc: 0.3206 - weighted_categorical_crossentropy: 1.1389 - val_loss: 1.1343 - val_acc: 0.3262 - val_categorical_crossentropy: 1.1390 - val_weighted_acc: 0.3343 - val_weighted_categorical_crossentropy: 1.1311\n",
            "Epoch 4/250\n",
            "126/126 [==============================] - 0s 4ms/step - loss: 1.1306 - acc: 0.3219 - categorical_crossentropy: 1.1380 - weighted_acc: 0.3258 - weighted_categorical_crossentropy: 1.1332 - val_loss: 1.1285 - val_acc: 0.3287 - val_categorical_crossentropy: 1.1326 - val_weighted_acc: 0.3370 - val_weighted_categorical_crossentropy: 1.1253\n",
            "Epoch 5/250\n",
            "126/126 [==============================] - 0s 4ms/step - loss: 1.1317 - acc: 0.3180 - categorical_crossentropy: 1.1357 - weighted_acc: 0.3237 - weighted_categorical_crossentropy: 1.1303 - val_loss: 1.1236 - val_acc: 0.3317 - val_categorical_crossentropy: 1.1250 - val_weighted_acc: 0.3383 - val_weighted_categorical_crossentropy: 1.1204\n",
            "Epoch 6/250\n",
            "126/126 [==============================] - 0s 4ms/step - loss: 1.1231 - acc: 0.3288 - categorical_crossentropy: 1.1256 - weighted_acc: 0.3295 - weighted_categorical_crossentropy: 1.1235 - val_loss: 1.1190 - val_acc: 0.3396 - val_categorical_crossentropy: 1.1214 - val_weighted_acc: 0.3469 - val_weighted_categorical_crossentropy: 1.1159\n",
            "Epoch 7/250\n",
            "126/126 [==============================] - 0s 4ms/step - loss: 1.1189 - acc: 0.3205 - categorical_crossentropy: 1.1229 - weighted_acc: 0.3227 - weighted_categorical_crossentropy: 1.1203 - val_loss: 1.1151 - val_acc: 0.3446 - val_categorical_crossentropy: 1.1176 - val_weighted_acc: 0.3535 - val_weighted_categorical_crossentropy: 1.1119\n",
            "Epoch 8/250\n",
            "126/126 [==============================] - 0s 4ms/step - loss: 1.1139 - acc: 0.3333 - categorical_crossentropy: 1.1168 - weighted_acc: 0.3321 - weighted_categorical_crossentropy: 1.1164 - val_loss: 1.1114 - val_acc: 0.3506 - val_categorical_crossentropy: 1.1143 - val_weighted_acc: 0.3596 - val_weighted_categorical_crossentropy: 1.1083\n",
            "Epoch 9/250\n",
            "126/126 [==============================] - 0s 4ms/step - loss: 1.1105 - acc: 0.3410 - categorical_crossentropy: 1.1132 - weighted_acc: 0.3459 - weighted_categorical_crossentropy: 1.1100 - val_loss: 1.1085 - val_acc: 0.3555 - val_categorical_crossentropy: 1.1087 - val_weighted_acc: 0.3613 - val_weighted_categorical_crossentropy: 1.1053\n",
            "Epoch 10/250\n",
            "126/126 [==============================] - 1s 4ms/step - loss: 1.1070 - acc: 0.3461 - categorical_crossentropy: 1.1105 - weighted_acc: 0.3475 - weighted_categorical_crossentropy: 1.1093 - val_loss: 1.1056 - val_acc: 0.3590 - val_categorical_crossentropy: 1.1061 - val_weighted_acc: 0.3650 - val_weighted_categorical_crossentropy: 1.1024\n",
            "Epoch 11/250\n",
            "126/126 [==============================] - 0s 4ms/step - loss: 1.1092 - acc: 0.3582 - categorical_crossentropy: 1.1086 - weighted_acc: 0.3621 - weighted_categorical_crossentropy: 1.1061 - val_loss: 1.1033 - val_acc: 0.3620 - val_categorical_crossentropy: 1.1027 - val_weighted_acc: 0.3657 - val_weighted_categorical_crossentropy: 1.1001\n",
            "Epoch 12/250\n",
            "126/126 [==============================] - 0s 4ms/step - loss: 1.1005 - acc: 0.3579 - categorical_crossentropy: 1.1025 - weighted_acc: 0.3565 - weighted_categorical_crossentropy: 1.1034 - val_loss: 1.1011 - val_acc: 0.3595 - val_categorical_crossentropy: 1.1014 - val_weighted_acc: 0.3660 - val_weighted_categorical_crossentropy: 1.0980\n",
            "Epoch 13/250\n",
            "126/126 [==============================] - 1s 4ms/step - loss: 1.0989 - acc: 0.3662 - categorical_crossentropy: 1.1008 - weighted_acc: 0.3680 - weighted_categorical_crossentropy: 1.0995 - val_loss: 1.0992 - val_acc: 0.3600 - val_categorical_crossentropy: 1.0987 - val_weighted_acc: 0.3650 - val_weighted_categorical_crossentropy: 1.0960\n",
            "Epoch 14/250\n",
            "126/126 [==============================] - 1s 4ms/step - loss: 1.1030 - acc: 0.3526 - categorical_crossentropy: 1.1027 - weighted_acc: 0.3525 - weighted_categorical_crossentropy: 1.1021 - val_loss: 1.0975 - val_acc: 0.3665 - val_categorical_crossentropy: 1.0965 - val_weighted_acc: 0.3701 - val_weighted_categorical_crossentropy: 1.0943\n",
            "Epoch 15/250\n",
            "126/126 [==============================] - 1s 4ms/step - loss: 1.1016 - acc: 0.3621 - categorical_crossentropy: 1.1008 - weighted_acc: 0.3625 - weighted_categorical_crossentropy: 1.1001 - val_loss: 1.0963 - val_acc: 0.3695 - val_categorical_crossentropy: 1.0947 - val_weighted_acc: 0.3722 - val_weighted_categorical_crossentropy: 1.0931\n",
            "Epoch 16/250\n",
            "126/126 [==============================] - 1s 4ms/step - loss: 1.0993 - acc: 0.3677 - categorical_crossentropy: 1.0991 - weighted_acc: 0.3685 - weighted_categorical_crossentropy: 1.0982 - val_loss: 1.0947 - val_acc: 0.3715 - val_categorical_crossentropy: 1.0943 - val_weighted_acc: 0.3752 - val_weighted_categorical_crossentropy: 1.0916\n",
            "Epoch 17/250\n",
            "126/126 [==============================] - 1s 4ms/step - loss: 1.0965 - acc: 0.3732 - categorical_crossentropy: 1.0955 - weighted_acc: 0.3763 - weighted_categorical_crossentropy: 1.0935 - val_loss: 1.0938 - val_acc: 0.3794 - val_categorical_crossentropy: 1.0914 - val_weighted_acc: 0.3796 - val_weighted_categorical_crossentropy: 1.0907\n",
            "Epoch 18/250\n",
            "126/126 [==============================] - 1s 4ms/step - loss: 1.0871 - acc: 0.3931 - categorical_crossentropy: 1.0882 - weighted_acc: 0.3849 - weighted_categorical_crossentropy: 1.0904 - val_loss: 1.0926 - val_acc: 0.3794 - val_categorical_crossentropy: 1.0919 - val_weighted_acc: 0.3823 - val_weighted_categorical_crossentropy: 1.0895\n",
            "Epoch 19/250\n",
            "126/126 [==============================] - 0s 4ms/step - loss: 1.0959 - acc: 0.3727 - categorical_crossentropy: 1.0945 - weighted_acc: 0.3700 - weighted_categorical_crossentropy: 1.0939 - val_loss: 1.0918 - val_acc: 0.3874 - val_categorical_crossentropy: 1.0895 - val_weighted_acc: 0.3873 - val_weighted_categorical_crossentropy: 1.0887\n",
            "Epoch 20/250\n",
            "126/126 [==============================] - 0s 4ms/step - loss: 1.0928 - acc: 0.3881 - categorical_crossentropy: 1.0900 - weighted_acc: 0.3815 - weighted_categorical_crossentropy: 1.0911 - val_loss: 1.0909 - val_acc: 0.3928 - val_categorical_crossentropy: 1.0886 - val_weighted_acc: 0.3924 - val_weighted_categorical_crossentropy: 1.0878\n",
            "Epoch 21/250\n",
            "126/126 [==============================] - 0s 4ms/step - loss: 1.0901 - acc: 0.3883 - categorical_crossentropy: 1.0906 - weighted_acc: 0.3809 - weighted_categorical_crossentropy: 1.0919 - val_loss: 1.0901 - val_acc: 0.3869 - val_categorical_crossentropy: 1.0900 - val_weighted_acc: 0.3908 - val_weighted_categorical_crossentropy: 1.0870\n",
            "Epoch 22/250\n",
            "126/126 [==============================] - 1s 4ms/step - loss: 1.0920 - acc: 0.3828 - categorical_crossentropy: 1.0910 - weighted_acc: 0.3819 - weighted_categorical_crossentropy: 1.0894 - val_loss: 1.0896 - val_acc: 0.3958 - val_categorical_crossentropy: 1.0857 - val_weighted_acc: 0.3880 - val_weighted_categorical_crossentropy: 1.0865\n",
            "Epoch 23/250\n",
            "126/126 [==============================] - 0s 4ms/step - loss: 1.0864 - acc: 0.4015 - categorical_crossentropy: 1.0855 - weighted_acc: 0.3883 - weighted_categorical_crossentropy: 1.0879 - val_loss: 1.0888 - val_acc: 0.3859 - val_categorical_crossentropy: 1.0877 - val_weighted_acc: 0.3853 - val_weighted_categorical_crossentropy: 1.0857\n",
            "Epoch 24/250\n",
            "126/126 [==============================] - 0s 4ms/step - loss: 1.0896 - acc: 0.3880 - categorical_crossentropy: 1.0901 - weighted_acc: 0.3838 - weighted_categorical_crossentropy: 1.0893 - val_loss: 1.0885 - val_acc: 0.4013 - val_categorical_crossentropy: 1.0850 - val_weighted_acc: 0.3947 - val_weighted_categorical_crossentropy: 1.0854\n",
            "Epoch 25/250\n",
            "126/126 [==============================] - 0s 4ms/step - loss: 1.0875 - acc: 0.3949 - categorical_crossentropy: 1.0864 - weighted_acc: 0.3849 - weighted_categorical_crossentropy: 1.0878 - val_loss: 1.0880 - val_acc: 0.3978 - val_categorical_crossentropy: 1.0857 - val_weighted_acc: 0.3937 - val_weighted_categorical_crossentropy: 1.0849\n",
            "Epoch 26/250\n",
            "126/126 [==============================] - 0s 4ms/step - loss: 1.0901 - acc: 0.3947 - categorical_crossentropy: 1.0877 - weighted_acc: 0.3853 - weighted_categorical_crossentropy: 1.0882 - val_loss: 1.0876 - val_acc: 0.4053 - val_categorical_crossentropy: 1.0843 - val_weighted_acc: 0.3974 - val_weighted_categorical_crossentropy: 1.0845\n",
            "Epoch 27/250\n",
            "126/126 [==============================] - 0s 4ms/step - loss: 1.0900 - acc: 0.3990 - categorical_crossentropy: 1.0865 - weighted_acc: 0.3874 - weighted_categorical_crossentropy: 1.0880 - val_loss: 1.0873 - val_acc: 0.4063 - val_categorical_crossentropy: 1.0842 - val_weighted_acc: 0.3991 - val_weighted_categorical_crossentropy: 1.0842\n",
            "Epoch 28/250\n",
            "126/126 [==============================] - 0s 4ms/step - loss: 1.0889 - acc: 0.3961 - categorical_crossentropy: 1.0887 - weighted_acc: 0.3849 - weighted_categorical_crossentropy: 1.0897 - val_loss: 1.0869 - val_acc: 0.4073 - val_categorical_crossentropy: 1.0843 - val_weighted_acc: 0.3998 - val_weighted_categorical_crossentropy: 1.0838\n",
            "Epoch 29/250\n",
            "126/126 [==============================] - 0s 4ms/step - loss: 1.0848 - acc: 0.4021 - categorical_crossentropy: 1.0835 - weighted_acc: 0.3914 - weighted_categorical_crossentropy: 1.0841 - val_loss: 1.0865 - val_acc: 0.4078 - val_categorical_crossentropy: 1.0836 - val_weighted_acc: 0.3984 - val_weighted_categorical_crossentropy: 1.0834\n",
            "Epoch 30/250\n",
            "126/126 [==============================] - 0s 4ms/step - loss: 1.0887 - acc: 0.3943 - categorical_crossentropy: 1.0875 - weighted_acc: 0.3845 - weighted_categorical_crossentropy: 1.0879 - val_loss: 1.0863 - val_acc: 0.4083 - val_categorical_crossentropy: 1.0835 - val_weighted_acc: 0.3998 - val_weighted_categorical_crossentropy: 1.0832\n",
            "Epoch 31/250\n",
            "126/126 [==============================] - 0s 4ms/step - loss: 1.0907 - acc: 0.3976 - categorical_crossentropy: 1.0875 - weighted_acc: 0.3830 - weighted_categorical_crossentropy: 1.0893 - val_loss: 1.0863 - val_acc: 0.4048 - val_categorical_crossentropy: 1.0833 - val_weighted_acc: 0.3967 - val_weighted_categorical_crossentropy: 1.0832\n",
            "Epoch 32/250\n",
            "126/126 [==============================] - 0s 4ms/step - loss: 1.0864 - acc: 0.4030 - categorical_crossentropy: 1.0846 - weighted_acc: 0.3915 - weighted_categorical_crossentropy: 1.0852 - val_loss: 1.0862 - val_acc: 0.4137 - val_categorical_crossentropy: 1.0821 - val_weighted_acc: 0.4017 - val_weighted_categorical_crossentropy: 1.0831\n",
            "Epoch 33/250\n",
            "126/126 [==============================] - 1s 4ms/step - loss: 1.0857 - acc: 0.3991 - categorical_crossentropy: 1.0837 - weighted_acc: 0.3866 - weighted_categorical_crossentropy: 1.0850 - val_loss: 1.0858 - val_acc: 0.4083 - val_categorical_crossentropy: 1.0832 - val_weighted_acc: 0.3994 - val_weighted_categorical_crossentropy: 1.0827\n",
            "Epoch 34/250\n",
            "126/126 [==============================] - 1s 4ms/step - loss: 1.0809 - acc: 0.4135 - categorical_crossentropy: 1.0817 - weighted_acc: 0.4015 - weighted_categorical_crossentropy: 1.0826 - val_loss: 1.0855 - val_acc: 0.4038 - val_categorical_crossentropy: 1.0836 - val_weighted_acc: 0.3955 - val_weighted_categorical_crossentropy: 1.0824\n",
            "Epoch 35/250\n",
            "126/126 [==============================] - 0s 4ms/step - loss: 1.0852 - acc: 0.4075 - categorical_crossentropy: 1.0841 - weighted_acc: 0.3973 - weighted_categorical_crossentropy: 1.0840 - val_loss: 1.0854 - val_acc: 0.4107 - val_categorical_crossentropy: 1.0816 - val_weighted_acc: 0.3969 - val_weighted_categorical_crossentropy: 1.0823\n",
            "Epoch 36/250\n",
            "126/126 [==============================] - 0s 4ms/step - loss: 1.0925 - acc: 0.3955 - categorical_crossentropy: 1.0878 - weighted_acc: 0.3865 - weighted_categorical_crossentropy: 1.0871 - val_loss: 1.0854 - val_acc: 0.4147 - val_categorical_crossentropy: 1.0805 - val_weighted_acc: 0.3978 - val_weighted_categorical_crossentropy: 1.0823\n",
            "Epoch 37/250\n",
            "126/126 [==============================] - 0s 4ms/step - loss: 1.0862 - acc: 0.4135 - categorical_crossentropy: 1.0831 - weighted_acc: 0.3955 - weighted_categorical_crossentropy: 1.0860 - val_loss: 1.0854 - val_acc: 0.4112 - val_categorical_crossentropy: 1.0821 - val_weighted_acc: 0.4002 - val_weighted_categorical_crossentropy: 1.0823\n",
            "Epoch 38/250\n",
            "126/126 [==============================] - 0s 4ms/step - loss: 1.0836 - acc: 0.4099 - categorical_crossentropy: 1.0824 - weighted_acc: 0.3987 - weighted_categorical_crossentropy: 1.0825 - val_loss: 1.0851 - val_acc: 0.4142 - val_categorical_crossentropy: 1.0812 - val_weighted_acc: 0.3993 - val_weighted_categorical_crossentropy: 1.0820\n",
            "Epoch 39/250\n",
            "126/126 [==============================] - 0s 4ms/step - loss: 1.0860 - acc: 0.4099 - categorical_crossentropy: 1.0824 - weighted_acc: 0.3944 - weighted_categorical_crossentropy: 1.0842 - val_loss: 1.0851 - val_acc: 0.4157 - val_categorical_crossentropy: 1.0809 - val_weighted_acc: 0.4007 - val_weighted_categorical_crossentropy: 1.0820\n",
            "Epoch 40/250\n",
            "126/126 [==============================] - 0s 4ms/step - loss: 1.0850 - acc: 0.4197 - categorical_crossentropy: 1.0814 - weighted_acc: 0.4030 - weighted_categorical_crossentropy: 1.0836 - val_loss: 1.0850 - val_acc: 0.4152 - val_categorical_crossentropy: 1.0813 - val_weighted_acc: 0.4012 - val_weighted_categorical_crossentropy: 1.0819\n",
            "Epoch 41/250\n",
            "126/126 [==============================] - 1s 4ms/step - loss: 1.0842 - acc: 0.4065 - categorical_crossentropy: 1.0818 - weighted_acc: 0.3895 - weighted_categorical_crossentropy: 1.0838 - val_loss: 1.0849 - val_acc: 0.4152 - val_categorical_crossentropy: 1.0819 - val_weighted_acc: 0.4027 - val_weighted_categorical_crossentropy: 1.0818\n",
            "Epoch 42/250\n",
            "126/126 [==============================] - 0s 4ms/step - loss: 1.0827 - acc: 0.4046 - categorical_crossentropy: 1.0838 - weighted_acc: 0.3887 - weighted_categorical_crossentropy: 1.0852 - val_loss: 1.0846 - val_acc: 0.4162 - val_categorical_crossentropy: 1.0825 - val_weighted_acc: 0.4043 - val_weighted_categorical_crossentropy: 1.0815\n",
            "Epoch 43/250\n",
            "126/126 [==============================] - 1s 4ms/step - loss: 1.0823 - acc: 0.4124 - categorical_crossentropy: 1.0825 - weighted_acc: 0.4003 - weighted_categorical_crossentropy: 1.0827 - val_loss: 1.0846 - val_acc: 0.4152 - val_categorical_crossentropy: 1.0812 - val_weighted_acc: 0.4003 - val_weighted_categorical_crossentropy: 1.0815\n",
            "Epoch 44/250\n",
            "126/126 [==============================] - 0s 4ms/step - loss: 1.0890 - acc: 0.3986 - categorical_crossentropy: 1.0871 - weighted_acc: 0.3851 - weighted_categorical_crossentropy: 1.0870 - val_loss: 1.0846 - val_acc: 0.4177 - val_categorical_crossentropy: 1.0803 - val_weighted_acc: 0.4010 - val_weighted_categorical_crossentropy: 1.0815\n",
            "Epoch 45/250\n",
            "126/126 [==============================] - 1s 4ms/step - loss: 1.0833 - acc: 0.4162 - categorical_crossentropy: 1.0814 - weighted_acc: 0.3979 - weighted_categorical_crossentropy: 1.0838 - val_loss: 1.0845 - val_acc: 0.4162 - val_categorical_crossentropy: 1.0812 - val_weighted_acc: 0.4018 - val_weighted_categorical_crossentropy: 1.0814\n",
            "Epoch 46/250\n",
            "126/126 [==============================] - 0s 4ms/step - loss: 1.0833 - acc: 0.4062 - categorical_crossentropy: 1.0830 - weighted_acc: 0.3907 - weighted_categorical_crossentropy: 1.0841 - val_loss: 1.0844 - val_acc: 0.4142 - val_categorical_crossentropy: 1.0816 - val_weighted_acc: 0.4002 - val_weighted_categorical_crossentropy: 1.0813\n",
            "Epoch 47/250\n",
            "126/126 [==============================] - 1s 4ms/step - loss: 1.0839 - acc: 0.4068 - categorical_crossentropy: 1.0828 - weighted_acc: 0.3913 - weighted_categorical_crossentropy: 1.0839 - val_loss: 1.0844 - val_acc: 0.4207 - val_categorical_crossentropy: 1.0810 - val_weighted_acc: 0.4056 - val_weighted_categorical_crossentropy: 1.0813\n",
            "Epoch 48/250\n",
            "126/126 [==============================] - 1s 4ms/step - loss: 1.0853 - acc: 0.4096 - categorical_crossentropy: 1.0841 - weighted_acc: 0.3931 - weighted_categorical_crossentropy: 1.0855 - val_loss: 1.0843 - val_acc: 0.4092 - val_categorical_crossentropy: 1.0822 - val_weighted_acc: 0.3973 - val_weighted_categorical_crossentropy: 1.0813\n",
            "Epoch 49/250\n",
            "126/126 [==============================] - 1s 4ms/step - loss: 1.0817 - acc: 0.4067 - categorical_crossentropy: 1.0830 - weighted_acc: 0.3925 - weighted_categorical_crossentropy: 1.0834 - val_loss: 1.0844 - val_acc: 0.4177 - val_categorical_crossentropy: 1.0802 - val_weighted_acc: 0.4013 - val_weighted_categorical_crossentropy: 1.0813\n",
            "Epoch 50/250\n",
            "126/126 [==============================] - 1s 4ms/step - loss: 1.0808 - acc: 0.4116 - categorical_crossentropy: 1.0814 - weighted_acc: 0.3921 - weighted_categorical_crossentropy: 1.0833 - val_loss: 1.0843 - val_acc: 0.4117 - val_categorical_crossentropy: 1.0821 - val_weighted_acc: 0.4000 - val_weighted_categorical_crossentropy: 1.0813\n",
            "Epoch 51/250\n",
            "126/126 [==============================] - 1s 4ms/step - loss: 1.0830 - acc: 0.4141 - categorical_crossentropy: 1.0825 - weighted_acc: 0.4005 - weighted_categorical_crossentropy: 1.0826 - val_loss: 1.0845 - val_acc: 0.4122 - val_categorical_crossentropy: 1.0820 - val_weighted_acc: 0.4011 - val_weighted_categorical_crossentropy: 1.0814\n",
            "Epoch 52/250\n",
            "126/126 [==============================] - 1s 4ms/step - loss: 1.0823 - acc: 0.4033 - categorical_crossentropy: 1.0829 - weighted_acc: 0.3878 - weighted_categorical_crossentropy: 1.0843 - val_loss: 1.0842 - val_acc: 0.4102 - val_categorical_crossentropy: 1.0820 - val_weighted_acc: 0.3981 - val_weighted_categorical_crossentropy: 1.0811\n",
            "Epoch 53/250\n",
            "126/126 [==============================] - 0s 4ms/step - loss: 1.0844 - acc: 0.4015 - categorical_crossentropy: 1.0839 - weighted_acc: 0.3897 - weighted_categorical_crossentropy: 1.0835 - val_loss: 1.0844 - val_acc: 0.4152 - val_categorical_crossentropy: 1.0803 - val_weighted_acc: 0.3989 - val_weighted_categorical_crossentropy: 1.0813\n",
            "Epoch 54/250\n",
            "126/126 [==============================] - 1s 4ms/step - loss: 1.0815 - acc: 0.4030 - categorical_crossentropy: 1.0826 - weighted_acc: 0.3847 - weighted_categorical_crossentropy: 1.0845 - val_loss: 1.0842 - val_acc: 0.4112 - val_categorical_crossentropy: 1.0820 - val_weighted_acc: 0.3990 - val_weighted_categorical_crossentropy: 1.0811\n",
            "Epoch 55/250\n",
            "126/126 [==============================] - 0s 4ms/step - loss: 1.0832 - acc: 0.4071 - categorical_crossentropy: 1.0836 - weighted_acc: 0.3911 - weighted_categorical_crossentropy: 1.0839 - val_loss: 1.0842 - val_acc: 0.4127 - val_categorical_crossentropy: 1.0809 - val_weighted_acc: 0.3982 - val_weighted_categorical_crossentropy: 1.0811\n",
            "Epoch 56/250\n",
            "126/126 [==============================] - 1s 5ms/step - loss: 1.0896 - acc: 0.4058 - categorical_crossentropy: 1.0860 - weighted_acc: 0.3911 - weighted_categorical_crossentropy: 1.0865 - val_loss: 1.0844 - val_acc: 0.4192 - val_categorical_crossentropy: 1.0798 - val_weighted_acc: 0.4017 - val_weighted_categorical_crossentropy: 1.0813\n",
            "Epoch 57/250\n",
            "126/126 [==============================] - 1s 4ms/step - loss: 1.0806 - acc: 0.4132 - categorical_crossentropy: 1.0785 - weighted_acc: 0.3928 - weighted_categorical_crossentropy: 1.0814 - val_loss: 1.0844 - val_acc: 0.4177 - val_categorical_crossentropy: 1.0805 - val_weighted_acc: 0.4023 - val_weighted_categorical_crossentropy: 1.0813\n",
            "Epoch 58/250\n",
            "126/126 [==============================] - 1s 4ms/step - loss: 1.0779 - acc: 0.4173 - categorical_crossentropy: 1.0786 - weighted_acc: 0.4002 - weighted_categorical_crossentropy: 1.0796 - val_loss: 1.0843 - val_acc: 0.4122 - val_categorical_crossentropy: 1.0814 - val_weighted_acc: 0.3988 - val_weighted_categorical_crossentropy: 1.0812\n",
            "Epoch 59/250\n",
            "126/126 [==============================] - 1s 4ms/step - loss: 1.0857 - acc: 0.4098 - categorical_crossentropy: 1.0822 - weighted_acc: 0.3951 - weighted_categorical_crossentropy: 1.0827 - val_loss: 1.0843 - val_acc: 0.4132 - val_categorical_crossentropy: 1.0809 - val_weighted_acc: 0.3988 - val_weighted_categorical_crossentropy: 1.0813\n",
            "Epoch 60/250\n",
            "126/126 [==============================] - 0s 4ms/step - loss: 1.0858 - acc: 0.4040 - categorical_crossentropy: 1.0843 - weighted_acc: 0.3884 - weighted_categorical_crossentropy: 1.0858 - val_loss: 1.0843 - val_acc: 0.4137 - val_categorical_crossentropy: 1.0802 - val_weighted_acc: 0.3973 - val_weighted_categorical_crossentropy: 1.0812\n",
            "Epoch 61/250\n",
            "126/126 [==============================] - 1s 4ms/step - loss: 1.0803 - acc: 0.4141 - categorical_crossentropy: 1.0796 - weighted_acc: 0.3945 - weighted_categorical_crossentropy: 1.0817 - val_loss: 1.0844 - val_acc: 0.4142 - val_categorical_crossentropy: 1.0811 - val_weighted_acc: 0.4001 - val_weighted_categorical_crossentropy: 1.0813\n",
            "Epoch 62/250\n",
            "126/126 [==============================] - 0s 4ms/step - loss: 1.0819 - acc: 0.4147 - categorical_crossentropy: 1.0808 - weighted_acc: 0.3996 - weighted_categorical_crossentropy: 1.0811 - val_loss: 1.0844 - val_acc: 0.4192 - val_categorical_crossentropy: 1.0799 - val_weighted_acc: 0.4029 - val_weighted_categorical_crossentropy: 1.0813\n",
            "Epoch 63/250\n",
            "126/126 [==============================] - 0s 4ms/step - loss: 1.0821 - acc: 0.4066 - categorical_crossentropy: 1.0820 - weighted_acc: 0.3901 - weighted_categorical_crossentropy: 1.0830 - val_loss: 1.0844 - val_acc: 0.4142 - val_categorical_crossentropy: 1.0813 - val_weighted_acc: 0.4007 - val_weighted_categorical_crossentropy: 1.0813\n",
            "Epoch 64/250\n",
            "126/126 [==============================] - 0s 4ms/step - loss: 1.0804 - acc: 0.4156 - categorical_crossentropy: 1.0799 - weighted_acc: 0.3982 - weighted_categorical_crossentropy: 1.0815 - val_loss: 1.0843 - val_acc: 0.4127 - val_categorical_crossentropy: 1.0815 - val_weighted_acc: 0.3999 - val_weighted_categorical_crossentropy: 1.0812\n",
            "Epoch 65/250\n",
            "126/126 [==============================] - 0s 4ms/step - loss: 1.0809 - acc: 0.4152 - categorical_crossentropy: 1.0809 - weighted_acc: 0.3999 - weighted_categorical_crossentropy: 1.0819 - val_loss: 1.0842 - val_acc: 0.4092 - val_categorical_crossentropy: 1.0809 - val_weighted_acc: 0.3938 - val_weighted_categorical_crossentropy: 1.0811\n",
            "Epoch 66/250\n",
            "126/126 [==============================] - 0s 4ms/step - loss: 1.0835 - acc: 0.4063 - categorical_crossentropy: 1.0831 - weighted_acc: 0.3901 - weighted_categorical_crossentropy: 1.0836 - val_loss: 1.0842 - val_acc: 0.4167 - val_categorical_crossentropy: 1.0804 - val_weighted_acc: 0.4003 - val_weighted_categorical_crossentropy: 1.0811\n",
            "Epoch 67/250\n",
            "126/126 [==============================] - 1s 4ms/step - loss: 1.0844 - acc: 0.4119 - categorical_crossentropy: 1.0826 - weighted_acc: 0.3941 - weighted_categorical_crossentropy: 1.0833 - val_loss: 1.0843 - val_acc: 0.4137 - val_categorical_crossentropy: 1.0799 - val_weighted_acc: 0.3959 - val_weighted_categorical_crossentropy: 1.0812\n",
            "Epoch 68/250\n",
            "126/126 [==============================] - 1s 4ms/step - loss: 1.0797 - acc: 0.4170 - categorical_crossentropy: 1.0799 - weighted_acc: 0.3955 - weighted_categorical_crossentropy: 1.0819 - val_loss: 1.0842 - val_acc: 0.4112 - val_categorical_crossentropy: 1.0823 - val_weighted_acc: 0.3998 - val_weighted_categorical_crossentropy: 1.0811\n",
            "Epoch 69/250\n",
            "126/126 [==============================] - 1s 4ms/step - loss: 1.0799 - acc: 0.4152 - categorical_crossentropy: 1.0820 - weighted_acc: 0.3989 - weighted_categorical_crossentropy: 1.0825 - val_loss: 1.0843 - val_acc: 0.4092 - val_categorical_crossentropy: 1.0822 - val_weighted_acc: 0.3974 - val_weighted_categorical_crossentropy: 1.0812\n",
            "Epoch 70/250\n",
            "126/126 [==============================] - 0s 4ms/step - loss: 1.0791 - acc: 0.4094 - categorical_crossentropy: 1.0795 - weighted_acc: 0.3927 - weighted_categorical_crossentropy: 1.0797 - val_loss: 1.0843 - val_acc: 0.4122 - val_categorical_crossentropy: 1.0810 - val_weighted_acc: 0.3976 - val_weighted_categorical_crossentropy: 1.0812\n",
            "Epoch 71/250\n",
            "126/126 [==============================] - 0s 4ms/step - loss: 1.0865 - acc: 0.4028 - categorical_crossentropy: 1.0849 - weighted_acc: 0.3894 - weighted_categorical_crossentropy: 1.0851 - val_loss: 1.0843 - val_acc: 0.4142 - val_categorical_crossentropy: 1.0806 - val_weighted_acc: 0.3987 - val_weighted_categorical_crossentropy: 1.0812\n",
            "Epoch 72/250\n",
            "126/126 [==============================] - 1s 4ms/step - loss: 1.0850 - acc: 0.4032 - categorical_crossentropy: 1.0838 - weighted_acc: 0.3857 - weighted_categorical_crossentropy: 1.0848 - val_loss: 1.0844 - val_acc: 0.4137 - val_categorical_crossentropy: 1.0804 - val_weighted_acc: 0.3974 - val_weighted_categorical_crossentropy: 1.0813\n",
            "Epoch 73/250\n",
            "126/126 [==============================] - 0s 4ms/step - loss: 1.0857 - acc: 0.4050 - categorical_crossentropy: 1.0821 - weighted_acc: 0.3871 - weighted_categorical_crossentropy: 1.0830 - val_loss: 1.0846 - val_acc: 0.4212 - val_categorical_crossentropy: 1.0794 - val_weighted_acc: 0.4030 - val_weighted_categorical_crossentropy: 1.0815\n",
            "Epoch 74/250\n",
            "126/126 [==============================] - 0s 4ms/step - loss: 1.0851 - acc: 0.4111 - categorical_crossentropy: 1.0795 - weighted_acc: 0.3958 - weighted_categorical_crossentropy: 1.0797 - val_loss: 1.0846 - val_acc: 0.4177 - val_categorical_crossentropy: 1.0791 - val_weighted_acc: 0.3983 - val_weighted_categorical_crossentropy: 1.0815\n",
            "Epoch 75/250\n",
            "126/126 [==============================] - 0s 4ms/step - loss: 1.0828 - acc: 0.4141 - categorical_crossentropy: 1.0807 - weighted_acc: 0.3936 - weighted_categorical_crossentropy: 1.0828 - val_loss: 1.0846 - val_acc: 0.4172 - val_categorical_crossentropy: 1.0786 - val_weighted_acc: 0.3964 - val_weighted_categorical_crossentropy: 1.0815\n",
            "Epoch 76/250\n",
            "126/126 [==============================] - 1s 4ms/step - loss: 1.0812 - acc: 0.4185 - categorical_crossentropy: 1.0796 - weighted_acc: 0.3976 - weighted_categorical_crossentropy: 1.0821 - val_loss: 1.0847 - val_acc: 0.4167 - val_categorical_crossentropy: 1.0808 - val_weighted_acc: 0.4022 - val_weighted_categorical_crossentropy: 1.0816\n",
            "Epoch 77/250\n",
            "126/126 [==============================] - 1s 4ms/step - loss: 1.0862 - acc: 0.4098 - categorical_crossentropy: 1.0825 - weighted_acc: 0.3972 - weighted_categorical_crossentropy: 1.0826 - val_loss: 1.0845 - val_acc: 0.4132 - val_categorical_crossentropy: 1.0795 - val_weighted_acc: 0.3941 - val_weighted_categorical_crossentropy: 1.0814\n",
            "Epoch 78/250\n",
            "126/126 [==============================] - 1s 4ms/step - loss: 1.0868 - acc: 0.4068 - categorical_crossentropy: 1.0831 - weighted_acc: 0.3913 - weighted_categorical_crossentropy: 1.0837 - val_loss: 1.0845 - val_acc: 0.4147 - val_categorical_crossentropy: 1.0791 - val_weighted_acc: 0.3942 - val_weighted_categorical_crossentropy: 1.0815\n",
            "Epoch 79/250\n",
            "126/126 [==============================] - 1s 4ms/step - loss: 1.0756 - acc: 0.4354 - categorical_crossentropy: 1.0752 - weighted_acc: 0.4142 - weighted_categorical_crossentropy: 1.0782 - val_loss: 1.0845 - val_acc: 0.4157 - val_categorical_crossentropy: 1.0805 - val_weighted_acc: 0.3996 - val_weighted_categorical_crossentropy: 1.0814\n",
            "Epoch 80/250\n",
            "126/126 [==============================] - 1s 4ms/step - loss: 1.0799 - acc: 0.4187 - categorical_crossentropy: 1.0795 - weighted_acc: 0.4000 - weighted_categorical_crossentropy: 1.0813 - val_loss: 1.0843 - val_acc: 0.4112 - val_categorical_crossentropy: 1.0812 - val_weighted_acc: 0.3955 - val_weighted_categorical_crossentropy: 1.0812\n"
          ],
          "name": "stdout"
        }
      ]
    },
    {
      "cell_type": "code",
      "metadata": {
        "id": "jkxYgTsEUKSB",
        "colab": {
          "base_uri": "https://localhost:8080/",
          "height": 573
        },
        "outputId": "aaa60108-1900-4d60-c6a0-cb0ba4dda9f6"
      },
      "source": [
        "figure(History,['TRAIN', 'test'])"
      ],
      "execution_count": null,
      "outputs": [
        {
          "output_type": "display_data",
          "data": {
            "image/png": "[encoded data removed]",
            "text/plain": [
              "<Figure size 432x288 with 1 Axes>"
            ]
          },
          "metadata": {
            "tags": [],
            "needs_background": "light"
          }
        },
        {
          "output_type": "display_data",
          "data": {
            "image/png": "[encoded data removed]",
            "text/plain": [
              "<Figure size 432x288 with 1 Axes>"
            ]
          },
          "metadata": {
            "tags": [],
            "needs_background": "light"
          }
        }
      ]
    },
    {
      "cell_type": "code",
      "metadata": {
        "id": "bbvvjrATUNY7",
        "colab": {
          "base_uri": "https://localhost:8080/"
        },
        "outputId": "d9268e5d-9a36-4e8b-80c0-608e7d589f7e"
      },
      "source": [
        "# Metricas\n",
        "Metricas = modelo_final.evaluate(TRAIN_x, TRAIN_y_cat , verbose=0)\n",
        "print('TRAIN Loss: %.4f, TRAIN Acc: %.4f' % (Metricas[0], Metricas[1]) )\n",
        "Metricas = modelo_final.evaluate(test_x, test_y_cat , verbose=0)\n",
        "print('test Loss: %.4f, test Acc: %.4f' % (Metricas[0], Metricas[1]) )"
      ],
      "execution_count": null,
      "outputs": [
        {
          "output_type": "stream",
          "text": [
            "TRAIN Loss: 1.0818, TRAIN Acc: 0.4107\n",
            "test Loss: 1.0809, test Acc: 0.4092\n"
          ],
          "name": "stdout"
        }
      ]
    },
    {
      "cell_type": "code",
      "metadata": {
        "colab": {
          "base_uri": "https://localhost:8080/"
        },
        "id": "_cShureRA5KW",
        "outputId": "01851fbf-04dd-4146-c5e1-b6fb4e716e9a"
      },
      "source": [
        "confusion_matrix(test_y, model.predict_classes(test_x))"
      ],
      "execution_count": null,
      "outputs": [
        {
          "output_type": "stream",
          "text": [
            "/usr/local/lib/python3.7/dist-packages/tensorflow/python/keras/engine/sequential.py:450: UserWarning: `model.predict_classes()` is deprecated and will be removed after 2021-01-01. Please use instead:* `np.argmax(model.predict(x), axis=-1)`,   if your model does multi-class classification   (e.g. if it uses a `softmax` last-layer activation).* `(model.predict(x) > 0.5).astype(\"int32\")`,   if your model does binary classification   (e.g. if it uses a `sigmoid` last-layer activation).\n",
            "  warnings.warn('`model.predict_classes()` is deprecated and '\n"
          ],
          "name": "stderr"
        },
        {
          "output_type": "execute_result",
          "data": {
            "text/plain": [
              "array([[418, 127, 283],\n",
              "       [230,  92, 240],\n",
              "       [214, 106, 301]])"
            ]
          },
          "metadata": {
            "tags": []
          },
          "execution_count": 1134
        }
      ]
    },
    {
      "cell_type": "code",
      "metadata": {
        "colab": {
          "base_uri": "https://localhost:8080/"
        },
        "id": "cWMzkEEQBLWL",
        "outputId": "6fc6fb0b-93ca-493c-b516-5dc16832794a"
      },
      "source": [
        "confusion_matrix(test_y, modelo_final.predict_classes(test_x))"
      ],
      "execution_count": null,
      "outputs": [
        {
          "output_type": "stream",
          "text": [
            "/usr/local/lib/python3.7/dist-packages/tensorflow/python/keras/engine/sequential.py:450: UserWarning: `model.predict_classes()` is deprecated and will be removed after 2021-01-01. Please use instead:* `np.argmax(model.predict(x), axis=-1)`,   if your model does multi-class classification   (e.g. if it uses a `softmax` last-layer activation).* `(model.predict(x) > 0.5).astype(\"int32\")`,   if your model does binary classification   (e.g. if it uses a `sigmoid` last-layer activation).\n",
            "  warnings.warn('`model.predict_classes()` is deprecated and '\n"
          ],
          "name": "stderr"
        },
        {
          "output_type": "execute_result",
          "data": {
            "text/plain": [
              "array([[406, 130, 292],\n",
              "       [228, 112, 222],\n",
              "       [213, 103, 305]])"
            ]
          },
          "metadata": {
            "tags": []
          },
          "execution_count": 1135
        }
      ]
    },
    {
      "cell_type": "markdown",
      "metadata": {
        "id": "hmZn0xx4Q21n"
      },
      "source": [
        "## Predicciones Prob L > T"
      ]
    },
    {
      "cell_type": "code",
      "metadata": {
        "id": "EY7RBaqBUO2T",
        "colab": {
          "base_uri": "https://localhost:8080/",
          "height": 338
        },
        "outputId": "d8694bcd-6b15-428b-fe0f-7bf8968ee247"
      },
      "source": [
        "list_acc= []\n",
        "umbral = []\n",
        "for t in range(10, 52, 2):\n",
        "  T = t/100\n",
        "  umbral.append(T)\n",
        "  index_L_mayor_T = model.predict(test_x)[:,0]>T\n",
        "  Pred_L_mayor_T = model.predict_classes(test_x[index_L_mayor_T])\n",
        "  True_labels = test_y[index_L_mayor_T]\n",
        "\n",
        "  list_acc.append(accuracy_score( True_labels, Pred_L_mayor_T) )\n",
        "\n",
        "plt.plot(umbral,list_acc)\n"
      ],
      "execution_count": null,
      "outputs": [
        {
          "output_type": "stream",
          "text": [
            "/usr/local/lib/python3.7/dist-packages/tensorflow/python/keras/engine/sequential.py:450: UserWarning: `model.predict_classes()` is deprecated and will be removed after 2021-01-01. Please use instead:* `np.argmax(model.predict(x), axis=-1)`,   if your model does multi-class classification   (e.g. if it uses a `softmax` last-layer activation).* `(model.predict(x) > 0.5).astype(\"int32\")`,   if your model does binary classification   (e.g. if it uses a `sigmoid` last-layer activation).\n",
            "  warnings.warn('`model.predict_classes()` is deprecated and '\n"
          ],
          "name": "stderr"
        },
        {
          "output_type": "execute_result",
          "data": {
            "text/plain": [
              "[<matplotlib.lines.Line2D at 0x7f60904a4e90>]"
            ]
          },
          "metadata": {
            "tags": []
          },
          "execution_count": 572
        },
        {
          "output_type": "display_data",
          "data": {
            "image/png": "[encoded data removed]",
            "text/plain": [
              "<Figure size 432x288 with 1 Axes>"
            ]
          },
          "metadata": {
            "tags": [],
            "needs_background": "light"
          }
        }
      ]
    },
    {
      "cell_type": "code",
      "metadata": {
        "colab": {
          "base_uri": "https://localhost:8080/",
          "height": 1000
        },
        "id": "ihyi6cgp-SJH",
        "outputId": "15d774b2-b267-4673-9012-4a6070ce2d85"
      },
      "source": [
        "pf = []\n",
        "prob =  []\n",
        "num_p = []\n",
        "odds_p = []\n",
        "\n",
        "for T in range(33,55):\n",
        "  t = T/100\n",
        "\n",
        "  index_Pred_L = (modelo_final.predict_classes(test_x)==0) & (test_WHH>=1.6) & ( modelo_final.predict(test_x)[:,0]> t )\n",
        "  index_Pred_L_good = (modelo_final.predict_classes(test_x)==0) & (test_WHH>=1.6) & (test_y == 0 )  & ( modelo_final.predict(test_x)[:,0]> t ) \n",
        "  Pred_L_y_mayor_T = modelo_final.predict_classes(test_x[index_Pred_L])\n",
        "  True_labels = test_y[index_Pred_L]\n",
        "  print('acc: ', accuracy_score( True_labels, Pred_L_y_mayor_T) )\n",
        "  print('num predicciones: ', np.sum(index_Pred_L) )\n",
        "  print('Odds promedio: ',np.mean(test_WHH[index_Pred_L]) )\n",
        "  print('Profit: ',np.sum(test_WHH[index_Pred_L_good])/np.sum(index_Pred_L) )\n",
        "  pf.append(np.sum(test_WHH[index_Pred_L_good])/np.sum(index_Pred_L))\n",
        "  prob.append(accuracy_score( True_labels, Pred_L_y_mayor_T) )\n",
        "  num_p.append(np.sum(index_Pred_L) )\n",
        "  odds_p.append(np.mean(test_WHH[index_Pred_L]) )\n",
        "\n",
        "\n",
        "plt.plot(range(33,55),pf)\n",
        "plt.figure()\n",
        "plt.plot(range(33,55),prob)\n",
        "plt.figure()\n",
        "plt.plot(range(33,55),num_p)\n",
        "plt.figure()\n",
        "plt.plot(range(33,55),odds_p)"
      ],
      "execution_count": null,
      "outputs": [
        {
          "output_type": "stream",
          "text": [
            "/usr/local/lib/python3.7/dist-packages/tensorflow/python/keras/engine/sequential.py:450: UserWarning: `model.predict_classes()` is deprecated and will be removed after 2021-01-01. Please use instead:* `np.argmax(model.predict(x), axis=-1)`,   if your model does multi-class classification   (e.g. if it uses a `softmax` last-layer activation).* `(model.predict(x) > 0.5).astype(\"int32\")`,   if your model does binary classification   (e.g. if it uses a `sigmoid` last-layer activation).\n",
            "  warnings.warn('`model.predict_classes()` is deprecated and '\n"
          ],
          "name": "stderr"
        },
        {
          "output_type": "stream",
          "text": [
            "acc:  0.4793388429752066\n",
            "num predicciones:  847\n",
            "Odds promedio:  2.0673907910271545\n",
            "Profit:  0.9678984651711925\n",
            "acc:  0.481437125748503\n",
            "num predicciones:  835\n",
            "Odds promedio:  2.066994011976048\n",
            "Profit:  0.972191616766467\n",
            "acc:  0.48614609571788414\n",
            "num predicciones:  794\n",
            "Odds promedio:  2.0600125944584384\n",
            "Profit:  0.9799370277078087\n",
            "acc:  0.4860335195530726\n",
            "num predicciones:  716\n",
            "Odds promedio:  2.0391340782122906\n",
            "Profit:  0.969441340782123\n",
            "acc:  0.49754500818330605\n",
            "num predicciones:  611\n",
            "Odds promedio:  2.005040916530278\n",
            "Profit:  0.9778559738134207\n",
            "acc:  0.49534450651769085\n",
            "num predicciones:  537\n",
            "Odds promedio:  1.9921042830540032\n",
            "Profit:  0.966536312849162\n",
            "acc:  0.5124153498871332\n",
            "num predicciones:  443\n",
            "Odds promedio:  1.969390519187359\n",
            "Profit:  0.9938826185101579\n",
            "acc:  0.5069252077562327\n",
            "num predicciones:  361\n",
            "Odds promedio:  1.9409141274238229\n",
            "Profit:  0.9735734072022162\n",
            "acc:  0.5190311418685121\n",
            "num predicciones:  289\n",
            "Odds promedio:  1.9216608996539792\n",
            "Profit:  0.9900692041522491\n",
            "acc:  0.49122807017543857\n",
            "num predicciones:  228\n",
            "Odds promedio:  1.9114473684210527\n",
            "Profit:  0.919342105263158\n",
            "acc:  0.46703296703296704\n",
            "num predicciones:  182\n",
            "Odds promedio:  1.8996153846153847\n",
            "Profit:  0.8758241758241758\n",
            "acc:  0.49640287769784175\n",
            "num predicciones:  139\n",
            "Odds promedio:  1.8867625899280576\n",
            "Profit:  0.9280575539568345\n",
            "acc:  0.4766355140186916\n",
            "num predicciones:  107\n",
            "Odds promedio:  1.8720560747663553\n",
            "Profit:  0.8858878504672897\n",
            "acc:  0.47368421052631576\n",
            "num predicciones:  76\n",
            "Odds promedio:  1.846973684210526\n",
            "Profit:  0.8799999999999999\n",
            "acc:  0.5\n",
            "num predicciones:  56\n",
            "Odds promedio:  1.8282142857142856\n",
            "Profit:  0.9226785714285712\n",
            "acc:  0.5128205128205128\n",
            "num predicciones:  39\n",
            "Odds promedio:  1.814615384615385\n",
            "Profit:  0.9402564102564102\n",
            "acc:  0.6086956521739131\n",
            "num predicciones:  23\n",
            "Odds promedio:  1.797826086956522\n",
            "Profit:  1.1126086956521741\n",
            "acc:  0.8181818181818182\n",
            "num predicciones:  11\n",
            "Odds promedio:  1.7672727272727273\n",
            "Profit:  1.458181818181818\n",
            "acc:  1.0\n",
            "num predicciones:  7\n",
            "Odds promedio:  1.8314285714285714\n",
            "Profit:  1.8314285714285714\n",
            "acc:  1.0\n",
            "num predicciones:  4\n",
            "Odds promedio:  1.8225\n",
            "Profit:  1.8225\n",
            "acc:  1.0\n",
            "num predicciones:  3\n",
            "Odds promedio:  1.8133333333333332\n",
            "Profit:  1.8133333333333332\n",
            "acc:  1.0\n",
            "num predicciones:  2\n",
            "Odds promedio:  1.805\n",
            "Profit:  1.805\n"
          ],
          "name": "stdout"
        },
        {
          "output_type": "execute_result",
          "data": {
            "text/plain": [
              "[<matplotlib.lines.Line2D at 0x7f3d1e2d0190>]"
            ]
          },
          "metadata": {
            "tags": []
          },
          "execution_count": 1139
        },
        {
          "output_type": "display_data",
          "data": {
            "image/png": "[encoded data removed]",
            "text/plain": [
              "<Figure size 432x288 with 1 Axes>"
            ]
          },
          "metadata": {
            "tags": [],
            "needs_background": "light"
          }
        },
        {
          "output_type": "display_data",
          "data": {
            "image/png": "[encoded data removed]",
            "text/plain": [
              "<Figure size 432x288 with 1 Axes>"
            ]
          },
          "metadata": {
            "tags": [],
            "needs_background": "light"
          }
        },
        {
          "output_type": "display_data",
          "data": {
            "image/png": "[encoded data removed]",
            "text/plain": [
              "<Figure size 432x288 with 1 Axes>"
            ]
          },
          "metadata": {
            "tags": [],
            "needs_background": "light"
          }
        },
        {
          "output_type": "display_data",
          "data": {
            "image/png": "[encoded data removed]",
            "text/plain": [
              "<Figure size 432x288 with 1 Axes>"
            ]
          },
          "metadata": {
            "tags": [],
            "needs_background": "light"
          }
        }
      ]
    },
    {
      "cell_type": "code",
      "metadata": {
        "colab": {
          "base_uri": "https://localhost:8080/"
        },
        "id": "0-Xf6uy8QQRH",
        "outputId": "ed15aea4-59bf-4e1d-dd3b-51d96e8ee60f"
      },
      "source": [
        "np.sum(modelo_final.predict_classes(test_x)==2)"
      ],
      "execution_count": null,
      "outputs": [
        {
          "output_type": "stream",
          "text": [
            "/usr/local/lib/python3.7/dist-packages/tensorflow/python/keras/engine/sequential.py:450: UserWarning: `model.predict_classes()` is deprecated and will be removed after 2021-01-01. Please use instead:* `np.argmax(model.predict(x), axis=-1)`,   if your model does multi-class classification   (e.g. if it uses a `softmax` last-layer activation).* `(model.predict(x) > 0.5).astype(\"int32\")`,   if your model does binary classification   (e.g. if it uses a `sigmoid` last-layer activation).\n",
            "  warnings.warn('`model.predict_classes()` is deprecated and '\n"
          ],
          "name": "stderr"
        },
        {
          "output_type": "execute_result",
          "data": {
            "text/plain": [
              "819"
            ]
          },
          "metadata": {
            "tags": []
          },
          "execution_count": 1137
        }
      ]
    },
    {
      "cell_type": "code",
      "metadata": {
        "colab": {
          "base_uri": "https://localhost:8080/",
          "height": 1000
        },
        "id": "9o19pL0w-l-J",
        "outputId": "84de2de8-546b-49e4-8169-b0b9315e7800"
      },
      "source": [
        "pf = []\n",
        "prob =  []\n",
        "num_p = []\n",
        "odds_p = []\n",
        "\n",
        "for T in range(33,55):\n",
        "  t = T/100\n",
        "  print(t)\n",
        "  index_Pred_V = (modelo_final.predict_classes(test_x)==2) & (test_WHA>=1.6) & ( modelo_final.predict(test_x)[:,2]> t )\n",
        "  index_Pred_V_good = (modelo_final.predict_classes(test_x)==2) & (test_WHA>=1.6) & (test_y == 2 )  & ( modelo_final.predict(test_x)[:,2]> t ) \n",
        "  Pred_V_y_mayor_T = modelo_final.predict_classes(test_x[index_Pred_V])\n",
        "  True_labels = test_y[index_Pred_V]\n",
        "  print('acc: ', accuracy_score( True_labels, Pred_V_y_mayor_T) )\n",
        "  print('num predicciones: ', np.sum(index_Pred_V) )\n",
        "  print('Odds promedio: ',np.mean(test_WHA[index_Pred_V]) )\n",
        "  print('Profit: ',np.sum(test_WHA[index_Pred_V_good])/np.sum(index_Pred_V) )\n",
        "\n",
        "  pf.append(np.sum(test_WHA[index_Pred_V_good])/np.sum(index_Pred_V) )\n",
        "  prob.append(accuracy_score( True_labels, Pred_V_y_mayor_T) )\n",
        "  num_p.append( np.sum(index_Pred_V) )\n",
        "  odds_p.append(np.mean(test_WHA[index_Pred_V]) )\n",
        "\n",
        "plt.plot(range(33,55),pf)\n",
        "plt.figure()\n",
        "plt.plot(range(33,55),prob)\n",
        "plt.figure()\n",
        "plt.plot(range(33,55),num_p)\n",
        "plt.figure()\n",
        "plt.plot(range(33,55),odds_p)"
      ],
      "execution_count": null,
      "outputs": [
        {
          "output_type": "stream",
          "text": [
            "0.33\n"
          ],
          "name": "stdout"
        },
        {
          "output_type": "stream",
          "text": [
            "/usr/local/lib/python3.7/dist-packages/tensorflow/python/keras/engine/sequential.py:450: UserWarning: `model.predict_classes()` is deprecated and will be removed after 2021-01-01. Please use instead:* `np.argmax(model.predict(x), axis=-1)`,   if your model does multi-class classification   (e.g. if it uses a `softmax` last-layer activation).* `(model.predict(x) > 0.5).astype(\"int32\")`,   if your model does binary classification   (e.g. if it uses a `sigmoid` last-layer activation).\n",
            "  warnings.warn('`model.predict_classes()` is deprecated and '\n"
          ],
          "name": "stderr"
        },
        {
          "output_type": "stream",
          "text": [
            "acc:  0.3724053724053724\n",
            "num predicciones:  819\n",
            "Odds promedio:  2.662600732600733\n",
            "Profit:  0.916898656898657\n",
            "0.34\n",
            "acc:  0.37407407407407406\n",
            "num predicciones:  810\n",
            "Odds promedio:  2.654901234567901\n",
            "Profit:  0.9188148148148149\n",
            "0.35\n",
            "acc:  0.3823915900131406\n",
            "num predicciones:  761\n",
            "Odds promedio:  2.616609724047306\n",
            "Profit:  0.9278055190538764\n",
            "0.36\n",
            "acc:  0.39229671897289586\n",
            "num predicciones:  701\n",
            "Odds promedio:  2.5561340941512123\n",
            "Profit:  0.9330385164051356\n",
            "0.37\n",
            "acc:  0.40887480190174325\n",
            "num predicciones:  631\n",
            "Odds promedio:  2.509492868462758\n",
            "Profit:  0.9622187004754359\n",
            "0.38\n",
            "acc:  0.40545454545454546\n",
            "num predicciones:  550\n",
            "Odds promedio:  2.463945454545455\n",
            "Profit:  0.9364\n",
            "0.39\n",
            "acc:  0.4100418410041841\n",
            "num predicciones:  478\n",
            "Odds promedio:  2.4187029288702933\n",
            "Profit:  0.930376569037657\n",
            "0.4\n",
            "acc:  0.4229828850855746\n",
            "num predicciones:  409\n",
            "Odds promedio:  2.366234718826406\n",
            "Profit:  0.9432518337408313\n",
            "0.41\n",
            "acc:  0.4323529411764706\n",
            "num predicciones:  340\n",
            "Odds promedio:  2.3159411764705884\n",
            "Profit:  0.9457647058823531\n",
            "0.42\n",
            "acc:  0.4326241134751773\n",
            "num predicciones:  282\n",
            "Odds promedio:  2.26531914893617\n",
            "Profit:  0.9326950354609929\n",
            "0.43\n",
            "acc:  0.4469026548672566\n",
            "num predicciones:  226\n",
            "Odds promedio:  2.229778761061947\n",
            "Profit:  0.9307964601769912\n",
            "0.44\n",
            "acc:  0.4772727272727273\n",
            "num predicciones:  176\n",
            "Odds promedio:  2.170625\n",
            "Profit:  0.9858522727272728\n",
            "0.45\n",
            "acc:  0.4930555555555556\n",
            "num predicciones:  144\n",
            "Odds promedio:  2.082777777777778\n",
            "Profit:  0.9909722222222221\n",
            "0.46\n",
            "acc:  0.5\n",
            "num predicciones:  116\n",
            "Odds promedio:  2.071896551724138\n",
            "Profit:  1.000344827586207\n",
            "0.47\n",
            "acc:  0.4897959183673469\n",
            "num predicciones:  98\n",
            "Odds promedio:  2.0455102040816326\n",
            "Profit:  0.9593877551020408\n",
            "0.48\n",
            "acc:  0.49382716049382713\n",
            "num predicciones:  81\n",
            "Odds promedio:  2.0111111111111115\n",
            "Profit:  0.9501234567901236\n",
            "0.49\n",
            "acc:  0.5\n",
            "num predicciones:  60\n",
            "Odds promedio:  1.9925\n",
            "Profit:  0.9483333333333331\n",
            "0.5\n",
            "acc:  0.5111111111111111\n",
            "num predicciones:  45\n",
            "Odds promedio:  1.9573333333333334\n",
            "Profit:  0.9517777777777777\n",
            "0.51\n",
            "acc:  0.47058823529411764\n",
            "num predicciones:  34\n",
            "Odds promedio:  1.9485294117647058\n",
            "Profit:  0.8626470588235293\n",
            "0.52\n",
            "acc:  0.4782608695652174\n",
            "num predicciones:  23\n",
            "Odds promedio:  1.9339130434782608\n",
            "Profit:  0.8630434782608695\n",
            "0.53\n",
            "acc:  0.5625\n",
            "num predicciones:  16\n",
            "Odds promedio:  1.926875\n",
            "Profit:  1.028125\n",
            "0.54\n",
            "acc:  0.5833333333333334\n",
            "num predicciones:  12\n",
            "Odds promedio:  1.9608333333333334\n",
            "Profit:  1.0833333333333333\n"
          ],
          "name": "stdout"
        },
        {
          "output_type": "execute_result",
          "data": {
            "text/plain": [
              "[<matplotlib.lines.Line2D at 0x7f3cb41039d0>]"
            ]
          },
          "metadata": {
            "tags": []
          },
          "execution_count": 1140
        },
        {
          "output_type": "display_data",
          "data": {
            "image/png": "[encoded data removed]",
            "text/plain": [
              "<Figure size 432x288 with 1 Axes>"
            ]
          },
          "metadata": {
            "tags": [],
            "needs_background": "light"
          }
        },
        {
          "output_type": "display_data",
          "data": {
            "image/png": "[encoded data removed]",
            "text/plain": [
              "<Figure size 432x288 with 1 Axes>"
            ]
          },
          "metadata": {
            "tags": [],
            "needs_background": "light"
          }
        },
        {
          "output_type": "display_data",
          "data": {
            "image/png": "[encoded data removed]",
            "text/plain": [
              "<Figure size 432x288 with 1 Axes>"
            ]
          },
          "metadata": {
            "tags": [],
            "needs_background": "light"
          }
        },
        {
          "output_type": "display_data",
          "data": {
            "image/png": "[encoded data removed]",
            "text/plain": [
              "<Figure size 432x288 with 1 Axes>"
            ]
          },
          "metadata": {
            "tags": [],
            "needs_background": "light"
          }
        }
      ]
    },
    {
      "cell_type": "markdown",
      "metadata": {
        "id": "N-3Z2x-PyRr9"
      },
      "source": [
        "# Opt lr"
      ]
    },
    {
      "cell_type": "code",
      "metadata": {
        "id": "_zNA15dibNX3",
        "colab": {
          "base_uri": "https://localhost:8080/"
        },
        "outputId": "211b736c-b2ff-4091-eb27-7a120dd8a43a"
      },
      "source": [
        "#Converts a class vector\n",
        "#Clases = 4\n",
        "\n",
        "if Clases ==4:\n",
        "  TRAIN_y_cat = transfor4(to_categorical(TRAIN_y,4), alpha=alpha)\n",
        "  train_y_cat = transfor4(to_categorical(train_y,4), alpha=alpha)\n",
        "  valid_y_cat = transfor4(to_categorical(valid_y,4), alpha=alpha)\n",
        "  test_y_cat = transfor4(to_categorical(test_y,4), alpha=alpha)\n",
        "elif Clases ==3:\n",
        "  TRAIN_y_cat = to_categorical(TRAIN_y,3)\n",
        "  train_y_cat = to_categorical(train_y,3)\n",
        "  valid_y_cat = to_categorical(valid_y,3)\n",
        "  test_y_cat = to_categorical(test_y,3)\n",
        "\n",
        "\n",
        "print (\"TRAIN_y_cat shape: \" + str(TRAIN_y_cat.shape))\n",
        "print (\"train_y_cat shape: \" + str(train_y_cat.shape))\n",
        "print (\"valid_y_cat shape: \" + str(valid_y_cat.shape))\n",
        "print (\"test_y_cat shape:  \" + str(test_y_cat.shape))"
      ],
      "execution_count": null,
      "outputs": [
        {
          "output_type": "stream",
          "text": [
            "TRAIN_y_cat shape: (12652, 3)\n",
            "train_y_cat shape: (10121, 3)\n",
            "valid_y_cat shape: (2531, 3)\n",
            "test_y_cat shape:  (3163, 3)\n"
          ],
          "name": "stdout"
        }
      ]
    },
    {
      "cell_type": "code",
      "metadata": {
        "id": "N83yPzVRVIJj"
      },
      "source": [
        "lr_schedule = tf.keras.callbacks.LearningRateScheduler(\n",
        "lambda epoch: 1e-5 * 10**(epoch / 20))"
      ],
      "execution_count": null,
      "outputs": []
    },
    {
      "cell_type": "code",
      "metadata": {
        "id": "vi4_WzyZVVBH",
        "colab": {
          "base_uri": "https://localhost:8080/"
        },
        "outputId": "37d56648-9622-4ec2-a488-3a35a750f021"
      },
      "source": [
        "model.set_weights(Wsave)\n",
        "\n",
        "# Definición del optimizador, función de pérdidas y métricas\n",
        "model.compile(optimizer=tf.keras.optimizers.Adam(learning_rate=learning_rate), loss= tf.keras.losses.CategoricalCrossentropy(),metrics=['acc'])\n",
        "# Ajuste de pesos\n",
        "history_lr = model.fit(train_x, train_y_cat, sample_weight=train_Weights, epochs=100, batch_size=64, validation_data= (valid_x, valid_y_cat, valid_Weights), callbacks=[lr_schedule])#, class_weight = weights_train)\n"
      ],
      "execution_count": null,
      "outputs": [
        {
          "output_type": "stream",
          "text": [
            "Epoch 1/100\n",
            "159/159 [==============================] - 1s 5ms/step - loss: 1.1257 - acc: 0.3734 - val_loss: 1.1215 - val_acc: 0.3750\n",
            "Epoch 2/100\n",
            "159/159 [==============================] - 0s 3ms/step - loss: 1.1274 - acc: 0.3639 - val_loss: 1.1199 - val_acc: 0.3730\n",
            "Epoch 3/100\n",
            "159/159 [==============================] - 0s 3ms/step - loss: 1.1302 - acc: 0.3630 - val_loss: 1.1182 - val_acc: 0.3718\n",
            "Epoch 4/100\n",
            "159/159 [==============================] - 0s 3ms/step - loss: 1.1276 - acc: 0.3664 - val_loss: 1.1166 - val_acc: 0.3742\n",
            "Epoch 5/100\n",
            "159/159 [==============================] - 0s 3ms/step - loss: 1.1257 - acc: 0.3616 - val_loss: 1.1151 - val_acc: 0.3726\n",
            "Epoch 6/100\n",
            "159/159 [==============================] - 0s 3ms/step - loss: 1.1208 - acc: 0.3600 - val_loss: 1.1135 - val_acc: 0.3718\n",
            "Epoch 7/100\n",
            "159/159 [==============================] - 0s 3ms/step - loss: 1.1201 - acc: 0.3624 - val_loss: 1.1122 - val_acc: 0.3686\n",
            "Epoch 8/100\n",
            "159/159 [==============================] - 0s 3ms/step - loss: 1.1177 - acc: 0.3594 - val_loss: 1.1109 - val_acc: 0.3643\n",
            "Epoch 9/100\n",
            "159/159 [==============================] - 0s 3ms/step - loss: 1.1152 - acc: 0.3608 - val_loss: 1.1097 - val_acc: 0.3611\n",
            "Epoch 10/100\n",
            "159/159 [==============================] - 0s 3ms/step - loss: 1.1179 - acc: 0.3537 - val_loss: 1.1087 - val_acc: 0.3564\n",
            "Epoch 11/100\n",
            "159/159 [==============================] - 0s 3ms/step - loss: 1.1160 - acc: 0.3502 - val_loss: 1.1079 - val_acc: 0.3584\n",
            "Epoch 12/100\n",
            "159/159 [==============================] - 0s 3ms/step - loss: 1.1118 - acc: 0.3568 - val_loss: 1.1072 - val_acc: 0.3552\n",
            "Epoch 13/100\n",
            "159/159 [==============================] - 0s 3ms/step - loss: 1.1106 - acc: 0.3541 - val_loss: 1.1065 - val_acc: 0.3508\n",
            "Epoch 14/100\n",
            "159/159 [==============================] - 0s 3ms/step - loss: 1.1112 - acc: 0.3477 - val_loss: 1.1059 - val_acc: 0.3465\n",
            "Epoch 15/100\n",
            "159/159 [==============================] - 0s 3ms/step - loss: 1.1088 - acc: 0.3479 - val_loss: 1.1053 - val_acc: 0.3461\n",
            "Epoch 16/100\n",
            "159/159 [==============================] - 0s 3ms/step - loss: 1.1088 - acc: 0.3499 - val_loss: 1.1046 - val_acc: 0.3449\n",
            "Epoch 17/100\n",
            "159/159 [==============================] - 0s 3ms/step - loss: 1.1098 - acc: 0.3539 - val_loss: 1.1039 - val_acc: 0.3437\n",
            "Epoch 18/100\n",
            "159/159 [==============================] - 0s 3ms/step - loss: 1.1113 - acc: 0.3417 - val_loss: 1.1031 - val_acc: 0.3422\n",
            "Epoch 19/100\n",
            "159/159 [==============================] - 0s 3ms/step - loss: 1.1089 - acc: 0.3455 - val_loss: 1.1023 - val_acc: 0.3461\n",
            "Epoch 20/100\n",
            "159/159 [==============================] - 0s 3ms/step - loss: 1.1047 - acc: 0.3524 - val_loss: 1.1014 - val_acc: 0.3453\n",
            "Epoch 21/100\n",
            "159/159 [==============================] - 0s 3ms/step - loss: 1.1045 - acc: 0.3557 - val_loss: 1.1004 - val_acc: 0.3493\n",
            "Epoch 22/100\n",
            "159/159 [==============================] - 0s 3ms/step - loss: 1.1002 - acc: 0.3544 - val_loss: 1.0994 - val_acc: 0.3536\n",
            "Epoch 23/100\n",
            "159/159 [==============================] - 0s 3ms/step - loss: 1.1065 - acc: 0.3516 - val_loss: 1.0984 - val_acc: 0.3540\n",
            "Epoch 24/100\n",
            "159/159 [==============================] - 0s 3ms/step - loss: 1.1025 - acc: 0.3577 - val_loss: 1.0973 - val_acc: 0.3536\n",
            "Epoch 25/100\n",
            "159/159 [==============================] - 0s 3ms/step - loss: 1.1023 - acc: 0.3554 - val_loss: 1.0961 - val_acc: 0.3556\n",
            "Epoch 26/100\n",
            "159/159 [==============================] - 0s 3ms/step - loss: 1.1015 - acc: 0.3623 - val_loss: 1.0949 - val_acc: 0.3595\n",
            "Epoch 27/100\n",
            "159/159 [==============================] - 0s 3ms/step - loss: 1.1061 - acc: 0.3522 - val_loss: 1.0937 - val_acc: 0.3615\n",
            "Epoch 28/100\n",
            "159/159 [==============================] - 0s 3ms/step - loss: 1.0976 - acc: 0.3661 - val_loss: 1.0925 - val_acc: 0.3674\n",
            "Epoch 29/100\n",
            "159/159 [==============================] - 0s 3ms/step - loss: 1.0942 - acc: 0.3693 - val_loss: 1.0916 - val_acc: 0.3599\n",
            "Epoch 30/100\n",
            "159/159 [==============================] - 0s 3ms/step - loss: 1.0990 - acc: 0.3575 - val_loss: 1.0904 - val_acc: 0.3643\n",
            "Epoch 31/100\n",
            "159/159 [==============================] - 0s 3ms/step - loss: 1.0961 - acc: 0.3741 - val_loss: 1.0893 - val_acc: 0.3742\n",
            "Epoch 32/100\n",
            "159/159 [==============================] - 0s 3ms/step - loss: 1.0984 - acc: 0.3705 - val_loss: 1.0887 - val_acc: 0.3659\n",
            "Epoch 33/100\n",
            "159/159 [==============================] - 0s 3ms/step - loss: 1.0948 - acc: 0.3747 - val_loss: 1.0877 - val_acc: 0.3750\n",
            "Epoch 34/100\n",
            "159/159 [==============================] - 0s 3ms/step - loss: 1.0952 - acc: 0.3752 - val_loss: 1.0875 - val_acc: 0.3639\n",
            "Epoch 35/100\n",
            "159/159 [==============================] - 0s 3ms/step - loss: 1.0945 - acc: 0.3762 - val_loss: 1.0859 - val_acc: 0.3908\n",
            "Epoch 36/100\n",
            "159/159 [==============================] - 0s 3ms/step - loss: 1.0890 - acc: 0.3963 - val_loss: 1.0865 - val_acc: 0.3607\n",
            "Epoch 37/100\n",
            "159/159 [==============================] - 0s 3ms/step - loss: 1.0965 - acc: 0.3621 - val_loss: 1.0848 - val_acc: 0.3947\n",
            "Epoch 38/100\n",
            "159/159 [==============================] - 0s 3ms/step - loss: 1.0928 - acc: 0.3912 - val_loss: 1.0846 - val_acc: 0.3904\n",
            "Epoch 39/100\n",
            "159/159 [==============================] - 0s 3ms/step - loss: 1.0950 - acc: 0.3715 - val_loss: 1.0843 - val_acc: 0.4006\n",
            "Epoch 40/100\n",
            "159/159 [==============================] - 0s 3ms/step - loss: 1.0917 - acc: 0.3896 - val_loss: 1.0842 - val_acc: 0.3967\n",
            "Epoch 41/100\n",
            "159/159 [==============================] - 0s 3ms/step - loss: 1.0930 - acc: 0.3709 - val_loss: 1.0841 - val_acc: 0.4042\n",
            "Epoch 42/100\n",
            "159/159 [==============================] - 0s 3ms/step - loss: 1.0923 - acc: 0.3866 - val_loss: 1.0837 - val_acc: 0.4054\n",
            "Epoch 43/100\n",
            "159/159 [==============================] - 0s 3ms/step - loss: 1.0906 - acc: 0.3948 - val_loss: 1.0852 - val_acc: 0.3623\n",
            "Epoch 44/100\n",
            "159/159 [==============================] - 0s 3ms/step - loss: 1.0939 - acc: 0.3756 - val_loss: 1.0838 - val_acc: 0.4058\n",
            "Epoch 45/100\n",
            "159/159 [==============================] - 0s 3ms/step - loss: 1.0906 - acc: 0.3948 - val_loss: 1.0833 - val_acc: 0.4089\n",
            "Epoch 46/100\n",
            "159/159 [==============================] - 0s 3ms/step - loss: 1.0874 - acc: 0.3999 - val_loss: 1.0832 - val_acc: 0.4002\n",
            "Epoch 47/100\n",
            "159/159 [==============================] - 0s 3ms/step - loss: 1.0865 - acc: 0.4088 - val_loss: 1.0848 - val_acc: 0.3785\n",
            "Epoch 48/100\n",
            "159/159 [==============================] - 0s 3ms/step - loss: 1.0872 - acc: 0.3932 - val_loss: 1.0830 - val_acc: 0.4184\n",
            "Epoch 49/100\n",
            "159/159 [==============================] - 0s 3ms/step - loss: 1.0949 - acc: 0.3830 - val_loss: 1.0836 - val_acc: 0.4184\n",
            "Epoch 50/100\n",
            "159/159 [==============================] - 0s 3ms/step - loss: 1.0928 - acc: 0.3860 - val_loss: 1.0827 - val_acc: 0.4184\n",
            "Epoch 51/100\n",
            "159/159 [==============================] - 0s 3ms/step - loss: 1.0928 - acc: 0.3851 - val_loss: 1.0836 - val_acc: 0.4006\n",
            "Epoch 52/100\n",
            "159/159 [==============================] - 0s 3ms/step - loss: 1.0894 - acc: 0.3858 - val_loss: 1.0879 - val_acc: 0.3307\n",
            "Epoch 53/100\n",
            "159/159 [==============================] - 0s 3ms/step - loss: 1.0950 - acc: 0.3583 - val_loss: 1.0832 - val_acc: 0.4054\n",
            "Epoch 54/100\n",
            "159/159 [==============================] - 0s 3ms/step - loss: 1.0876 - acc: 0.3866 - val_loss: 1.0856 - val_acc: 0.3548\n",
            "Epoch 55/100\n",
            "159/159 [==============================] - 0s 3ms/step - loss: 1.0925 - acc: 0.3829 - val_loss: 1.0828 - val_acc: 0.4251\n",
            "Epoch 56/100\n",
            "159/159 [==============================] - 0s 3ms/step - loss: 1.0935 - acc: 0.3871 - val_loss: 1.0838 - val_acc: 0.4077\n",
            "Epoch 57/100\n",
            "159/159 [==============================] - 0s 3ms/step - loss: 1.0924 - acc: 0.3848 - val_loss: 1.0859 - val_acc: 0.3785\n",
            "Epoch 58/100\n",
            "159/159 [==============================] - 0s 3ms/step - loss: 1.0946 - acc: 0.3733 - val_loss: 1.0921 - val_acc: 0.3236\n",
            "Epoch 59/100\n",
            "159/159 [==============================] - 0s 3ms/step - loss: 1.0971 - acc: 0.3606 - val_loss: 1.0853 - val_acc: 0.4085\n",
            "Epoch 60/100\n",
            "159/159 [==============================] - 0s 3ms/step - loss: 1.0935 - acc: 0.3888 - val_loss: 1.0836 - val_acc: 0.4259\n",
            "Epoch 61/100\n",
            "159/159 [==============================] - 0s 3ms/step - loss: 1.0897 - acc: 0.3942 - val_loss: 1.0896 - val_acc: 0.3730\n",
            "Epoch 62/100\n",
            "159/159 [==============================] - 0s 3ms/step - loss: 1.0954 - acc: 0.3668 - val_loss: 1.0902 - val_acc: 0.3240\n",
            "Epoch 63/100\n",
            "159/159 [==============================] - 0s 3ms/step - loss: 1.0954 - acc: 0.3639 - val_loss: 1.0869 - val_acc: 0.3485\n",
            "Epoch 64/100\n",
            "159/159 [==============================] - 0s 3ms/step - loss: 1.0979 - acc: 0.3652 - val_loss: 1.0947 - val_acc: 0.3109\n",
            "Epoch 65/100\n",
            "159/159 [==============================] - 0s 3ms/step - loss: 1.0975 - acc: 0.3634 - val_loss: 1.0896 - val_acc: 0.4279\n",
            "Epoch 66/100\n",
            "159/159 [==============================] - 0s 3ms/step - loss: 1.0917 - acc: 0.3901 - val_loss: 1.0897 - val_acc: 0.3603\n",
            "Epoch 67/100\n",
            "159/159 [==============================] - 0s 3ms/step - loss: 1.0978 - acc: 0.3783 - val_loss: 1.1037 - val_acc: 0.3204\n",
            "Epoch 68/100\n",
            "159/159 [==============================] - 0s 3ms/step - loss: 1.1032 - acc: 0.3513 - val_loss: 1.0897 - val_acc: 0.4164\n",
            "Epoch 69/100\n",
            "159/159 [==============================] - 0s 3ms/step - loss: 1.1009 - acc: 0.3688 - val_loss: 1.1056 - val_acc: 0.3145\n",
            "Epoch 70/100\n",
            "159/159 [==============================] - 0s 3ms/step - loss: 1.1098 - acc: 0.3510 - val_loss: 1.0948 - val_acc: 0.4287\n",
            "Epoch 71/100\n",
            "159/159 [==============================] - 0s 3ms/step - loss: 1.1066 - acc: 0.3799 - val_loss: 1.0895 - val_acc: 0.3343\n",
            "Epoch 72/100\n",
            "159/159 [==============================] - 0s 3ms/step - loss: 1.1102 - acc: 0.3424 - val_loss: 1.0838 - val_acc: 0.3742\n",
            "Epoch 73/100\n",
            "159/159 [==============================] - 0s 3ms/step - loss: 1.1012 - acc: 0.3718 - val_loss: 1.1185 - val_acc: 0.3465\n",
            "Epoch 74/100\n",
            "159/159 [==============================] - 0s 3ms/step - loss: 1.1087 - acc: 0.3700 - val_loss: 1.0881 - val_acc: 0.3817\n",
            "Epoch 75/100\n",
            "159/159 [==============================] - 0s 3ms/step - loss: 1.1147 - acc: 0.3482 - val_loss: 1.0906 - val_acc: 0.3366\n",
            "Epoch 76/100\n",
            "159/159 [==============================] - 0s 3ms/step - loss: 1.1190 - acc: 0.3490 - val_loss: 1.0913 - val_acc: 0.3777\n",
            "Epoch 77/100\n",
            "159/159 [==============================] - 0s 3ms/step - loss: 1.1190 - acc: 0.3456 - val_loss: 1.1007 - val_acc: 0.3220\n",
            "Epoch 78/100\n",
            "159/159 [==============================] - 0s 3ms/step - loss: 1.1227 - acc: 0.3511 - val_loss: 1.0876 - val_acc: 0.3994\n",
            "Epoch 79/100\n",
            "159/159 [==============================] - 0s 3ms/step - loss: 1.1150 - acc: 0.3633 - val_loss: 1.1618 - val_acc: 0.2797\n",
            "Epoch 80/100\n",
            "159/159 [==============================] - 0s 3ms/step - loss: 1.1225 - acc: 0.3530 - val_loss: 1.1443 - val_acc: 0.3042\n",
            "Epoch 81/100\n",
            "159/159 [==============================] - 0s 3ms/step - loss: 1.1267 - acc: 0.3603 - val_loss: 1.2052 - val_acc: 0.2991\n",
            "Epoch 82/100\n",
            "159/159 [==============================] - 0s 3ms/step - loss: 1.1423 - acc: 0.3503 - val_loss: 1.1310 - val_acc: 0.3856\n",
            "Epoch 83/100\n",
            "159/159 [==============================] - 0s 3ms/step - loss: 1.1487 - acc: 0.3640 - val_loss: 1.1266 - val_acc: 0.3188\n",
            "Epoch 84/100\n",
            "159/159 [==============================] - 0s 3ms/step - loss: 1.1545 - acc: 0.3549 - val_loss: 1.1631 - val_acc: 0.3588\n",
            "Epoch 85/100\n",
            "159/159 [==============================] - 0s 3ms/step - loss: 1.1497 - acc: 0.3538 - val_loss: 1.1787 - val_acc: 0.3441\n",
            "Epoch 86/100\n",
            "159/159 [==============================] - 0s 3ms/step - loss: 1.1510 - acc: 0.3469 - val_loss: 1.1716 - val_acc: 0.2821\n",
            "Epoch 87/100\n",
            "159/159 [==============================] - 0s 3ms/step - loss: 1.1817 - acc: 0.3422 - val_loss: 1.1614 - val_acc: 0.3086\n",
            "Epoch 88/100\n",
            "159/159 [==============================] - 0s 3ms/step - loss: 1.1857 - acc: 0.3552 - val_loss: 1.2015 - val_acc: 0.2912\n",
            "Epoch 89/100\n",
            "159/159 [==============================] - 0s 3ms/step - loss: 1.2255 - acc: 0.3493 - val_loss: 1.2955 - val_acc: 0.4279\n",
            "Epoch 90/100\n",
            "159/159 [==============================] - 0s 3ms/step - loss: 1.2083 - acc: 0.3440 - val_loss: 1.3234 - val_acc: 0.2785\n",
            "Epoch 91/100\n",
            "159/159 [==============================] - 0s 3ms/step - loss: 1.2292 - acc: 0.3347 - val_loss: 1.1133 - val_acc: 0.3532\n",
            "Epoch 92/100\n",
            "159/159 [==============================] - 0s 3ms/step - loss: 1.2375 - acc: 0.3443 - val_loss: 2.1298 - val_acc: 0.2991\n",
            "Epoch 93/100\n",
            "159/159 [==============================] - 0s 3ms/step - loss: 1.3299 - acc: 0.3342 - val_loss: 1.4477 - val_acc: 0.3129\n",
            "Epoch 94/100\n",
            "159/159 [==============================] - 0s 3ms/step - loss: 1.2494 - acc: 0.3481 - val_loss: 1.2734 - val_acc: 0.4216\n",
            "Epoch 95/100\n",
            "159/159 [==============================] - 0s 3ms/step - loss: 1.3373 - acc: 0.3535 - val_loss: 2.1059 - val_acc: 0.2766\n",
            "Epoch 96/100\n",
            "159/159 [==============================] - 0s 3ms/step - loss: 1.4499 - acc: 0.3332 - val_loss: 1.4619 - val_acc: 0.4247\n",
            "Epoch 97/100\n",
            "159/159 [==============================] - 0s 3ms/step - loss: 1.2702 - acc: 0.3481 - val_loss: 1.2241 - val_acc: 0.4394\n",
            "Epoch 98/100\n",
            "159/159 [==============================] - 0s 3ms/step - loss: 1.2979 - acc: 0.3444 - val_loss: 2.3960 - val_acc: 0.4259\n",
            "Epoch 99/100\n",
            "159/159 [==============================] - 0s 3ms/step - loss: 1.6730 - acc: 0.3476 - val_loss: 1.1959 - val_acc: 0.4228\n",
            "Epoch 100/100\n",
            "159/159 [==============================] - 0s 3ms/step - loss: 1.3989 - acc: 0.3463 - val_loss: 1.6325 - val_acc: 0.4220\n"
          ],
          "name": "stdout"
        }
      ]
    },
    {
      "cell_type": "code",
      "metadata": {
        "id": "rWcl1XYuVdxy",
        "colab": {
          "base_uri": "https://localhost:8080/",
          "height": 291
        },
        "outputId": "55a179f8-756d-4a38-fb8a-b4cac5e7e096"
      },
      "source": [
        "plt.semilogx(history_lr.history[\"lr\"], history_lr.history[\"loss\"])\n",
        "plt.axis([1e-4, 1e-1, 1.0, 1.2])\n"
      ],
      "execution_count": null,
      "outputs": [
        {
          "output_type": "execute_result",
          "data": {
            "text/plain": [
              "(0.0001, 0.1, 1.0, 1.2)"
            ]
          },
          "metadata": {
            "tags": []
          },
          "execution_count": 608
        },
        {
          "output_type": "display_data",
          "data": {
            "image/png": "[encoded data removed]",
            "text/plain": [
              "<Figure size 432x288 with 1 Axes>"
            ]
          },
          "metadata": {
            "tags": [],
            "needs_background": "light"
          }
        }
      ]
    },
    {
      "cell_type": "code",
      "metadata": {
        "id": "0hVD-eWSVhfv"
      },
      "source": [
        "#############   CREATE IF DOES'NT EXIST   #############\n",
        "###################### SAVE MODEL #####################\n",
        "modelo_final.save('./content/modelo.h5')\n",
        "modelo_final.save_weights('./content/pesos.h5')"
      ],
      "execution_count": null,
      "outputs": []
    },
    {
      "cell_type": "code",
      "metadata": {
        "id": "rg4ornzEDbJt"
      },
      "source": [
        ""
      ],
      "execution_count": null,
      "outputs": []
    }
  ]
}